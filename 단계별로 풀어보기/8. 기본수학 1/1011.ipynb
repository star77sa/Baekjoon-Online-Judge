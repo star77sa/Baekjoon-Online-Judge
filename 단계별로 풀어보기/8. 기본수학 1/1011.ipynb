{
 "cells": [
  {
   "cell_type": "markdown",
   "id": "brief-china",
   "metadata": {},
   "source": [
    "### 1이동 1 / 1개\n",
    "\n",
    "if 2이동 ? 1 1 / 2개\n",
    "\n",
    "---\n",
    "\n",
    "if 3이동 ? 1 1 1 / 3개\n",
    "\n",
    "### 4이동 1+2+1 / 3개\n",
    "\n",
    "if 5이동 ? 1 1 2 1 / 4개\n",
    "\n",
    "if 6이동 ? 1 2 2 1 / 4개\n",
    "\n",
    "---\n",
    "\n",
    "if 7이동 ? 1 2 2 1 1 / 5개\n",
    "\n",
    "if 8이동 ? 1 2 2 2 1 / 5개\n",
    "\n",
    "### 9이동 1+2+3+2+1 / 5개\n",
    "\n",
    "if 10이동 ? 1 1 2 3 2 1 / 6개\n",
    "\n",
    "if 11이동 ? 1 2 2 3 2 1 / 6개\n",
    "\n",
    "if 12이동 ? 1 2 3 3 2 1 / 6개\n",
    "\n",
    "---\n",
    "\n",
    "if 13이동 ? 1 2 2 3 2 2 1 / 7개\n",
    "\n",
    "if 14이동 ? 1 2 2 3 3 2 1 / 7개\n",
    "\n",
    "if 15이동 ? 1 2 3 3 3 2 1 / 7개\n",
    "\n",
    "### 16이동 1+2+3+4+3+2+1 / 7개\n",
    "\n",
    "if 17이동 ? 1 2 3 3 3 2 2 1 / 8\n",
    "\n",
    "if 18이동 ? 1 2 3 3 3 3 2 1 / 8\n",
    "\n",
    "if 19이동 ? 1 2 3 3 4 3 2 1 / 8\n",
    "\n",
    "if 20이동 ? 1 2 3 4 4 3 2 1 / 8\n",
    "\n",
    "---\n",
    "\n",
    "if 21이동 ? 1 2 3 3 3 3 3 2 1 / 9\n",
    "\n",
    "if 22이동 ? 1 2 3 3 4 3 3 2 1 / 9\n",
    "           \n",
    "if 23이동 ? 1 2 3 3 4 4 3 2 1 / 9\n",
    "\n",
    "if 24이동 ? 1 2 3 4 4 4 3 2 1 / 9개 \n",
    "\n",
    "### 25이동 1+2+3+4+5+4+3+2+1 / 9개\n",
    "\n",
    "26\n",
    "\n",
    "27\n",
    "\n",
    "28                                                    /    10\n",
    "\n",
    "29\n",
    "\n",
    "30\n",
    "\n",
    "---\n",
    "\n",
    "31\n",
    "\n",
    "32\n",
    "\n",
    "33                                                    /    11\n",
    "\n",
    "34\n",
    "\n",
    "35\n",
    "\n",
    "### 36이동 1+2+3+4+5+6+5+4+3+2+1 / 11개\n",
    ".\n",
    ".\n",
    ".\n",
    "\n",
    "\n",
    "1) y-x로 이동거리를 계산 후 루트를 씌운 후. 소수점은 버림. 이 값을 a라함\n",
    "\n",
    "2) 이동거리에서 a^2를 뺀 값이 a보다 작거나 같으면 최소이동은 2a\n",
    "    \n",
    "    이동거리에서 a^2를 뺀 값이 a보다 크면 최소이동은 2a+1"
   ]
  },
  {
   "cell_type": "code",
   "execution_count": 6,
   "id": "fluid-fashion",
   "metadata": {},
   "outputs": [
    {
     "name": "stdin",
     "output_type": "stream",
     "text": [
      " 3\n",
      " 0 3\n"
     ]
    },
    {
     "name": "stdout",
     "output_type": "stream",
     "text": [
      "3\n"
     ]
    },
    {
     "name": "stdin",
     "output_type": "stream",
     "text": [
      " 1 5\n"
     ]
    },
    {
     "name": "stdout",
     "output_type": "stream",
     "text": [
      "3\n"
     ]
    },
    {
     "name": "stdin",
     "output_type": "stream",
     "text": [
      " 45 50\n"
     ]
    },
    {
     "name": "stdout",
     "output_type": "stream",
     "text": [
      "4\n"
     ]
    }
   ],
   "source": [
    "import math\n",
    "Testcase = int(input())\n",
    "for i in range(Testcase):\n",
    "    x, y = map(int, input().split())\n",
    "    distance = y - x\n",
    "    a = math.floor(math.sqrt(distance)) # 루트씌운걸 버림함수 적용\n",
    "    if distance - a**2 == 0 : # distance = a^2 인경우\n",
    "        print(2*a-1)\n",
    "    elif distance - a**2 <= a: # distance - a^2 < a 인경우\n",
    "        print(2*a)\n",
    "    else: # distance - a^2 > a 인경우\n",
    "        print(2*a+1)"
   ]
  },
  {
   "cell_type": "code",
   "execution_count": 11,
   "id": "acquired-india",
   "metadata": {},
   "outputs": [
    {
     "ename": "ValueError",
     "evalue": "invalid literal for int() with base 10: ''",
     "output_type": "error",
     "traceback": [
      "\u001b[1;31m---------------------------------------------------------------------------\u001b[0m",
      "\u001b[1;31mValueError\u001b[0m                                Traceback (most recent call last)",
      "\u001b[1;32m<ipython-input-11-e24e96be0c15>\u001b[0m in \u001b[0;36m<module>\u001b[1;34m\u001b[0m\n\u001b[0;32m      2\u001b[0m \u001b[1;32mimport\u001b[0m \u001b[0msys\u001b[0m\u001b[1;33m\u001b[0m\u001b[1;33m\u001b[0m\u001b[0m\n\u001b[0;32m      3\u001b[0m \u001b[1;33m\u001b[0m\u001b[0m\n\u001b[1;32m----> 4\u001b[1;33m \u001b[0mTestcase\u001b[0m \u001b[1;33m=\u001b[0m \u001b[0mint\u001b[0m\u001b[1;33m(\u001b[0m\u001b[0msys\u001b[0m\u001b[1;33m.\u001b[0m\u001b[0mstdin\u001b[0m\u001b[1;33m.\u001b[0m\u001b[0mreadline\u001b[0m\u001b[1;33m(\u001b[0m\u001b[1;33m)\u001b[0m\u001b[1;33m)\u001b[0m\u001b[1;33m\u001b[0m\u001b[1;33m\u001b[0m\u001b[0m\n\u001b[0m\u001b[0;32m      5\u001b[0m \u001b[1;32mfor\u001b[0m \u001b[0mi\u001b[0m \u001b[1;32min\u001b[0m \u001b[0mrange\u001b[0m\u001b[1;33m(\u001b[0m\u001b[0mTestcase\u001b[0m\u001b[1;33m)\u001b[0m\u001b[1;33m:\u001b[0m\u001b[1;33m\u001b[0m\u001b[1;33m\u001b[0m\u001b[0m\n\u001b[0;32m      6\u001b[0m     \u001b[0mx\u001b[0m\u001b[1;33m,\u001b[0m \u001b[0my\u001b[0m \u001b[1;33m=\u001b[0m \u001b[0mmap\u001b[0m\u001b[1;33m(\u001b[0m\u001b[0mint\u001b[0m\u001b[1;33m,\u001b[0m\u001b[0msys\u001b[0m\u001b[1;33m.\u001b[0m\u001b[0mstdin\u001b[0m\u001b[1;33m.\u001b[0m\u001b[0mreadline\u001b[0m\u001b[1;33m(\u001b[0m\u001b[1;33m)\u001b[0m\u001b[1;33m.\u001b[0m\u001b[0msplit\u001b[0m\u001b[1;33m(\u001b[0m\u001b[1;33m)\u001b[0m\u001b[1;33m)\u001b[0m\u001b[1;33m\u001b[0m\u001b[1;33m\u001b[0m\u001b[0m\n",
      "\u001b[1;31mValueError\u001b[0m: invalid literal for int() with base 10: ''"
     ]
    }
   ],
   "source": [
    "# sys.stdin.readline() 이용\n",
    "\n",
    "import math\n",
    "import sys\n",
    "\n",
    "Testcase = int(sys.stdin.readline())\n",
    "for i in range(Testcase):\n",
    "    x, y = map(int,sys.stdin.readline().split())\n",
    "    distance = y - x\n",
    "    a = math.floor(math.sqrt(distance)) # 루트씌운걸 버림함수 적용\n",
    "    if distance - a**2 == 0 : # distance = a^2 인경우\n",
    "        print(2*a-1)\n",
    "    elif distance - a**2 <= a: # distance - a^2 < a 인경우\n",
    "        print(2*a)\n",
    "    else: # distance - a^2 > a 인경우\n",
    "        print(2*a+1)"
   ]
  },
  {
   "cell_type": "code",
   "execution_count": null,
   "id": "signed-tours",
   "metadata": {},
   "outputs": [],
   "source": []
  }
 ],
 "metadata": {
  "kernelspec": {
   "display_name": "Python 3",
   "language": "python",
   "name": "python3"
  },
  "language_info": {
   "codemirror_mode": {
    "name": "ipython",
    "version": 3
   },
   "file_extension": ".py",
   "mimetype": "text/x-python",
   "name": "python",
   "nbconvert_exporter": "python",
   "pygments_lexer": "ipython3",
   "version": "3.8.8"
  }
 },
 "nbformat": 4,
 "nbformat_minor": 5
}
