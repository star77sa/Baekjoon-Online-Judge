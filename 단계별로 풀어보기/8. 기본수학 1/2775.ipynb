{
 "cells": [
  {
   "cell_type": "markdown",
   "id": "insured-gender",
   "metadata": {},
   "source": [
    "# 2775 부녀회장이 될테야"
   ]
  },
  {
   "cell_type": "code",
   "execution_count": 46,
   "id": "based-damages",
   "metadata": {},
   "outputs": [
    {
     "name": "stdin",
     "output_type": "stream",
     "text": [
      " 1\n",
      " 3\n"
     ]
    },
    {
     "name": "stdout",
     "output_type": "stream",
     "text": [
      "6\n"
     ]
    },
    {
     "name": "stdin",
     "output_type": "stream",
     "text": [
      " 2\n",
      " 3\n"
     ]
    },
    {
     "name": "stdout",
     "output_type": "stream",
     "text": [
      "10\n"
     ]
    }
   ],
   "source": [
    "T = int(input())\n",
    "\n",
    "for t in range(T):\n",
    "\n",
    "    n = int(input()) # 층 0층 ~\n",
    "    k = int(input()) # 호 1층 ~\n",
    "\n",
    "    dp = [[0 for i in range(k)] for j in range(n+1)]\n",
    "    \n",
    "    for i in range(k): # 0층\n",
    "        dp[0][i] = i+1\n",
    "    \n",
    "    for i in range(n+1): # 1호\n",
    "        dp[i][0] = 1\n",
    "        \n",
    "    for i in range(1, n+1):\n",
    "    \n",
    "        for j in range(1, k):\n",
    "            \n",
    "            dp[i][j] = dp[i][j-1] + dp[i-1][j]\n",
    "            \n",
    "    print(dp[n][k-1])"
   ]
  }
 ],
 "metadata": {
  "kernelspec": {
   "display_name": "Python 3",
   "language": "python",
   "name": "python3"
  },
  "language_info": {
   "codemirror_mode": {
    "name": "ipython",
    "version": 3
   },
   "file_extension": ".py",
   "mimetype": "text/x-python",
   "name": "python",
   "nbconvert_exporter": "python",
   "pygments_lexer": "ipython3",
   "version": "3.8.8"
  }
 },
 "nbformat": 4,
 "nbformat_minor": 5
}
