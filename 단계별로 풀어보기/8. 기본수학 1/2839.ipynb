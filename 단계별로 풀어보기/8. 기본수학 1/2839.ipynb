{
 "cells": [
  {
   "cell_type": "code",
   "execution_count": 65,
   "id": "consecutive-listening",
   "metadata": {},
   "outputs": [
    {
     "name": "stdin",
     "output_type": "stream",
     "text": [
      " 15\n"
     ]
    },
    {
     "name": "stdout",
     "output_type": "stream",
     "text": [
      "3\n"
     ]
    }
   ],
   "source": [
    "N = int(input())\n",
    "\n",
    "if N%5 == 0: # clear\n",
    "    print(N//5)\n",
    "elif (N%5 == 1) & (N >= 6) : # 5에서 1개를 빼고 3에서 2개를 더함 1에선 성립 X\n",
    "    print(N//5 +1)\n",
    "elif (N%5 == 2) & (N >= 12): # 5에서 2개를 빼고 3에서 4개를 더함 7에선 성립 X\n",
    "    print(N//5 +2)\n",
    "elif N%5 == 3: # 3에서 1개를 더함\n",
    "    print(N//5 +1)\n",
    "elif (N%5 == 4) & (N >= 9) : # 5에서 1개를 빼고 3에서 3개를 더함\n",
    "    print(N//5 +2)\n",
    "else:\n",
    "    print(\"-1\")"
   ]
  },
  {
   "cell_type": "markdown",
   "id": "academic-program",
   "metadata": {},
   "source": [
    "5가 중심이고, 5로 나눈 나머지에 따라 값을 결정.\n",
    "다만, 5보다 작을경우나 7같은 케이스는 주의해야함."
   ]
  },
  {
   "cell_type": "code",
   "execution_count": null,
   "id": "demonstrated-radio",
   "metadata": {},
   "outputs": [],
   "source": []
  }
 ],
 "metadata": {
  "kernelspec": {
   "display_name": "Python 3",
   "language": "python",
   "name": "python3"
  },
  "language_info": {
   "codemirror_mode": {
    "name": "ipython",
    "version": 3
   },
   "file_extension": ".py",
   "mimetype": "text/x-python",
   "name": "python",
   "nbconvert_exporter": "python",
   "pygments_lexer": "ipython3",
   "version": "3.8.8"
  }
 },
 "nbformat": 4,
 "nbformat_minor": 5
}
