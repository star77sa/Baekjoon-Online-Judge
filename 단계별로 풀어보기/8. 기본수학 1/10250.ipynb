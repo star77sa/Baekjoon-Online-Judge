{
 "cells": [
  {
   "cell_type": "code",
   "execution_count": 28,
   "id": "particular-convergence",
   "metadata": {},
   "outputs": [
    {
     "name": "stdin",
     "output_type": "stream",
     "text": [
      " 1\n",
      " 10 10 91\n"
     ]
    },
    {
     "name": "stdout",
     "output_type": "stream",
     "text": [
      "110\n"
     ]
    }
   ],
   "source": [
    "import math\n",
    "\n",
    "Testcase = int(input())\n",
    "for i in range(Testcase):\n",
    "    (H, W, N) = map(int, input().split())\n",
    "    \n",
    "    if (N%H) == 0: # 앞자리가 0이되는걸 방지.\n",
    "        front = str(H)\n",
    "    else:\n",
    "        front = str(N%H)\n",
    "            \n",
    "    if len(str(math.ceil(N/H))) == 1: # 뒷자리가 1자리인경우 앞에 0을 붙여줌.\n",
    "        print(front + \"0\" + str(math.ceil(N/H)))\n",
    "    else:\n",
    "        print(front + str(math.ceil(N/H)))"
   ]
  },
  {
   "cell_type": "markdown",
   "id": "sublime-phrase",
   "metadata": {},
   "source": [
    "(N//H)+1 안쓰고 math.ceil(N/H) 쓴 이유.\n",
    "\n",
    "N//H의 경우 예를들어 \n",
    "6 12 5 케이스\n",
    "6 12 6의 경우에\n",
    "첫번째는 N//H = 0\n",
    "두번째는 N//H = 1이다. 즉 또 H의 배수만큼은 구별해줘야해서 이 방법을 썼다."
   ]
  }
 ],
 "metadata": {
  "kernelspec": {
   "display_name": "Python 3",
   "language": "python",
   "name": "python3"
  },
  "language_info": {
   "codemirror_mode": {
    "name": "ipython",
    "version": 3
   },
   "file_extension": ".py",
   "mimetype": "text/x-python",
   "name": "python",
   "nbconvert_exporter": "python",
   "pygments_lexer": "ipython3",
   "version": "3.8.8"
  }
 },
 "nbformat": 4,
 "nbformat_minor": 5
}
