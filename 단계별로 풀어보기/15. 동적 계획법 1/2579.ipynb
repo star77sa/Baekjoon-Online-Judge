{
 "cells": [
  {
   "cell_type": "markdown",
   "id": "committed-observer",
   "metadata": {},
   "source": [
    "# 2579 계단 오르기"
   ]
  },
  {
   "cell_type": "code",
   "execution_count": 3,
   "id": "traditional-finding",
   "metadata": {},
   "outputs": [
    {
     "name": "stdin",
     "output_type": "stream",
     "text": [
      " 1\n",
      " 44\n"
     ]
    }
   ],
   "source": [
    "import sys\n",
    "n = int(sys.stdin.readline())\n",
    "score = []\n",
    "for i in range(n):\n",
    "    score.append(int(sys.stdin.readline()))"
   ]
  },
  {
   "cell_type": "code",
   "execution_count": 7,
   "id": "southwest-millennium",
   "metadata": {},
   "outputs": [
    {
     "name": "stdout",
     "output_type": "stream",
     "text": [
      "0\n"
     ]
    }
   ],
   "source": [
    "cache = [0]*n\n",
    "\n",
    "# 0 ~ 2\n",
    "if n>=1:\n",
    "    cache[0] = score[0]\n",
    "if n>=2:\n",
    "    cache[1] = cache[0]+score[1]\n",
    "if n>=3:\n",
    "    cache[2] = max(cache[0]+score[2], score[1]+score[2])\n",
    "    \n",
    "# 3 ~ n\n",
    "for i in range(3, n):\n",
    "    cache[i] = max(cache[i-2] + score[i], cache[i-3] + score[i-1] + score[i])\n",
    "\n",
    "print(cache[n-1])"
   ]
  }
 ],
 "metadata": {
  "kernelspec": {
   "display_name": "Python 3",
   "language": "python",
   "name": "python3"
  },
  "language_info": {
   "codemirror_mode": {
    "name": "ipython",
    "version": 3
   },
   "file_extension": ".py",
   "mimetype": "text/x-python",
   "name": "python",
   "nbconvert_exporter": "python",
   "pygments_lexer": "ipython3",
   "version": "3.8.8"
  }
 },
 "nbformat": 4,
 "nbformat_minor": 5
}
