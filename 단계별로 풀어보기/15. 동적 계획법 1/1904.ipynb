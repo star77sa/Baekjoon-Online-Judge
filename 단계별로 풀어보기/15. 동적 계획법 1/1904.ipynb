{
 "cells": [
  {
   "cell_type": "markdown",
   "id": "employed-cassette",
   "metadata": {},
   "source": [
    "# 01타일"
   ]
  },
  {
   "cell_type": "markdown",
   "id": "treated-tract",
   "metadata": {},
   "source": [
    "```\n",
    "N=1, 1\n",
    "N=2, 2\n",
    "N=3, 3\n",
    "N=4, 5\n",
    "N=5, 8\n",
    "```\n",
    "dp[N] = dp[N-2] + dp[N-1]"
   ]
  },
  {
   "cell_type": "code",
   "execution_count": 5,
   "id": "eligible-sandwich",
   "metadata": {},
   "outputs": [],
   "source": [
    "cache = [0]*1000000\n",
    "cache[1] = 1; cache[2] = 1"
   ]
  },
  {
   "cell_type": "code",
   "execution_count": 6,
   "id": "rural-criticism",
   "metadata": {},
   "outputs": [],
   "source": [
    "def f_01(n):\n",
    "    if cache[n] != 0:\n",
    "        return cache[n]\n",
    "    \n",
    "    else:\n",
    "        cache[n] = cache[n-1] + cache[n-2]\n",
    "        return cache[n]"
   ]
  },
  {
   "cell_type": "code",
   "execution_count": null,
   "id": "sunset-block",
   "metadata": {},
   "outputs": [],
   "source": []
  }
 ],
 "metadata": {
  "kernelspec": {
   "display_name": "Python 3",
   "language": "python",
   "name": "python3"
  },
  "language_info": {
   "codemirror_mode": {
    "name": "ipython",
    "version": 3
   },
   "file_extension": ".py",
   "mimetype": "text/x-python",
   "name": "python",
   "nbconvert_exporter": "python",
   "pygments_lexer": "ipython3",
   "version": "3.8.8"
  }
 },
 "nbformat": 4,
 "nbformat_minor": 5
}
