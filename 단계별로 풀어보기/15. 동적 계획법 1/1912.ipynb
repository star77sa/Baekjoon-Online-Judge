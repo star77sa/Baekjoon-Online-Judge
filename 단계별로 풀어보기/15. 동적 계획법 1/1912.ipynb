{
 "cells": [
  {
   "cell_type": "markdown",
   "id": "characteristic-shape",
   "metadata": {},
   "source": [
    "# 1912 연속합"
   ]
  },
  {
   "cell_type": "code",
   "execution_count": 2,
   "id": "concerned-asbestos",
   "metadata": {},
   "outputs": [
    {
     "name": "stdin",
     "output_type": "stream",
     "text": [
      " 5\n",
      " -1 -2 -3 -4 5\n"
     ]
    },
    {
     "name": "stdout",
     "output_type": "stream",
     "text": [
      "5\n"
     ]
    }
   ],
   "source": [
    "N = int(input())\n",
    "A = list(map(int, input().split()))\n",
    "cur = [A[0]]\n",
    "for i in range(1, N):\n",
    "    cur.append(max(A[i], cur[i-1]+A[i]))\n",
    "print(max(cur))"
   ]
  },
  {
   "cell_type": "code",
   "execution_count": null,
   "id": "chemical-motion",
   "metadata": {},
   "outputs": [],
   "source": []
  }
 ],
 "metadata": {
  "kernelspec": {
   "display_name": "Python 3",
   "language": "python",
   "name": "python3"
  },
  "language_info": {
   "codemirror_mode": {
    "name": "ipython",
    "version": 3
   },
   "file_extension": ".py",
   "mimetype": "text/x-python",
   "name": "python",
   "nbconvert_exporter": "python",
   "pygments_lexer": "ipython3",
   "version": "3.8.8"
  }
 },
 "nbformat": 4,
 "nbformat_minor": 5
}
