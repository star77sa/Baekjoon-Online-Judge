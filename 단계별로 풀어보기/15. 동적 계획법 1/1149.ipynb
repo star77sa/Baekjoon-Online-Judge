{
 "cells": [
  {
   "cell_type": "markdown",
   "id": "behind-harrison",
   "metadata": {},
   "source": [
    "# 1149 RGB 거리"
   ]
  },
  {
   "cell_type": "markdown",
   "id": "ceramic-diabetes",
   "metadata": {},
   "source": [
    "```\n",
    "접근법:\n",
    "\n",
    "매번 색깔을 고를 때, 이전에 고른 다른 색깔 중 그동안 최소 비용이었던 값을 골라서, 그 전 값 + 이번 색깔을 해준다.\n",
    "\n",
    "이번턴의 모든 색깔의 경우의 수를 매번 계산.\n",
    "\n",
    "1.이번에 빨강을 고르는 경우\n",
    "저번턴의 초록, 파랑 중에서 더 낮은 비용의 것을 선택후 이번턴의 빨강 비용을 더함.\n",
    "\n",
    "2.이번에 초록을 고르는 경우\n",
    "마찬가지로 저번턴의 빨강, 파랑 중에서 더 낮은비용 선택후 이번 초록 비용 더함.\n",
    "\n",
    "3.이번에 파랑을 고르는 경우\n",
    "동일\n",
    "\n",
    "마지막엔 빨강, 초록, 파랑 집을 선택한 경우 모든 경우에 대해 최솟값만 더해져서 나오게 됨\n",
    "\n",
    "항상 DP사용을 고민해보자.\n",
    "```"
   ]
  },
  {
   "cell_type": "code",
   "execution_count": 1,
   "id": "turned-freedom",
   "metadata": {},
   "outputs": [
    {
     "name": "stdin",
     "output_type": "stream",
     "text": [
      " 3\n",
      " 26 40 83\n",
      " 49 60 57\n",
      " 13 89 99\n"
     ]
    },
    {
     "name": "stdout",
     "output_type": "stream",
     "text": [
      "96\n"
     ]
    }
   ],
   "source": [
    "import sys\n",
    "\n",
    "N = int(sys.stdin.readline())\n",
    "colorcost = list(map(int, sys.stdin.readline().split())) # 첫번쨰\n",
    "cost = [[0,0,0] for i in range(1000)]\n",
    "\n",
    "cost[0] = colorcost # n까지 갔을때의 비용\n",
    "\n",
    "for i in range(1, N): # 2번째 ~ n번째    \n",
    "    colorcost = list(map(int, sys.stdin.readline().split()))\n",
    "    \n",
    "    # 이번에 빨강을 고름.\n",
    "    cost[i][0] = min(cost[i-1][1], cost[i-1][2]) + colorcost[0]\n",
    "    # 이번에 초록을 고름\n",
    "    cost[i][1] = min(cost[i-1][0], cost[i-1][2]) + colorcost[1]\n",
    "    # 이번에 파랑을 고름\n",
    "    cost[i][2] = min(cost[i-1][0], cost[i-1][1]) + colorcost[2]\n",
    "\n",
    "print(min(cost[N-1])) # 값이 0부터 시작하므로"
   ]
  },
  {
   "cell_type": "markdown",
   "id": "awful-pregnancy",
   "metadata": {},
   "source": [
    "---"
   ]
  },
  {
   "cell_type": "markdown",
   "id": "victorian-reasoning",
   "metadata": {},
   "source": [
    "### 틀린 접근법\n",
    "\n",
    "``` \n",
    "\n",
    "처음에 가장 작은 비용을 선택, 그 비용의 인덱스를 찾아 저장(색깔저장)\n",
    "\n",
    "그 다음 수는 앞의 색깔을 제외한 것중 최솟값의 비용을 선택 그 비용의 인덱스를 찾아 저장\n",
    "\n",
    "반복 \n",
    "```"
   ]
  },
  {
   "cell_type": "markdown",
   "id": "northern-diana",
   "metadata": {},
   "source": [
    "### 틀린풀이\n",
    "```python\n",
    "N = int(input())\n",
    "colorcost = list(map(int, input().split())) # 첫번쨰\n",
    "cost = [[colorcost[0], 0], [colorcost[1], 1], [colorcost[2], 2]] # 비용, INDEX\n",
    "\n",
    "for i in range(1, N): # 2번째 ~ n번째\n",
    "    \n",
    "    colorcost = list(map(int, input().split()))\n",
    "    \n",
    "    if cost[0][1] == 0: # 처음 R일때 INDEX\n",
    "            cost[0][1] = colorcost.index(min(colorcost[1], colorcost[2]))\n",
    "    elif cost[0][1] == 1:\n",
    "            cost[0][1] = colorcost.index(min(colorcost[0], colorcost[2]))\n",
    "    else:\n",
    "            cost[0][1] = colorcost.index(min(colorcost[0], colorcost[1]))\n",
    "    cost[0][0] += colorcost[cost[0][1]]\n",
    "    \n",
    "    if cost[1][1] == 0: # 처음 G일때 INDEX\n",
    "            cost[1][1] = colorcost.index(min(colorcost[1], colorcost[2]))\n",
    "    elif cost[1][1] == 1:\n",
    "            cost[1][1] = colorcost.index(min(colorcost[0], colorcost[2]))\n",
    "    else:\n",
    "            cost[1][1] = colorcost.index(min(colorcost[0], colorcost[1]))\n",
    "    cost[1][0] += colorcost[cost[1][1]]\n",
    "    \n",
    "    if cost[2][1] == 0: # 처음 B일때 INDEX\n",
    "            cost[2][1] = colorcost.index(min(colorcost[1], colorcost[2]))\n",
    "    elif cost[2][1] == 1:\n",
    "            cost[2][1] = colorcost.index(min(colorcost[0], colorcost[2]))\n",
    "    else:\n",
    "            cost[2][1] = colorcost.index(min(colorcost[0], colorcost[1]))\n",
    "    cost[2][0] += colorcost[cost[2][1]]\n",
    "    \n",
    "print(min(cost[0][0], cost[1][0], cost[2][0]))\n",
    "```"
   ]
  }
 ],
 "metadata": {
  "kernelspec": {
   "display_name": "Python 3",
   "language": "python",
   "name": "python3"
  },
  "language_info": {
   "codemirror_mode": {
    "name": "ipython",
    "version": 3
   },
   "file_extension": ".py",
   "mimetype": "text/x-python",
   "name": "python",
   "nbconvert_exporter": "python",
   "pygments_lexer": "ipython3",
   "version": "3.8.8"
  }
 },
 "nbformat": 4,
 "nbformat_minor": 5
}
