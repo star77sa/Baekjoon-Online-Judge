{
 "cells": [
  {
   "cell_type": "markdown",
   "id": "clean-farmer",
   "metadata": {},
   "source": [
    "# 1932 정수 삼각형"
   ]
  },
  {
   "cell_type": "markdown",
   "id": "front-march",
   "metadata": {},
   "source": [
    "```\n",
    "입력받는 수가 가능한 최대치를 위에서 가져와서 더한다.\n",
    "\n",
    "    7                     7\n",
    "   3 8                   10 15\n",
    "  8 1 0       =>     18 MAX(11,16) 15   이렇게 대각선이 가능한 부분은 더 큰수를 더해주고, \n",
    " 2 7 4 4              20 23 20 19       끝라인은 바로 윗수를 더함.\n",
    "4 5 2 6 5            24 28 25 26 24\n",
    "```"
   ]
  },
  {
   "cell_type": "code",
   "execution_count": 9,
   "id": "opposite-transformation",
   "metadata": {},
   "outputs": [
    {
     "name": "stdin",
     "output_type": "stream",
     "text": [
      " 5\n",
      " 7\n",
      " 3 8\n",
      " 8 1 0\n",
      " 2 7 4 4\n",
      " 4 5 2 6 5\n"
     ]
    },
    {
     "data": {
      "text/plain": [
       "30"
      ]
     },
     "execution_count": 9,
     "metadata": {},
     "output_type": "execute_result"
    }
   ],
   "source": [
    "import sys\n",
    "\n",
    "n = int(sys.stdin.readline())\n",
    "cache = []\n",
    "\n",
    "for i in range(n):\n",
    "    cache.append(list(map(int, sys.stdin.readline().split())))\n",
    "\n",
    "for i in range(1, n): # i = 줄. 0 = 1번째줄 1 = 2번째줄. 2번째줄부터 시작\n",
    "    \n",
    "    for j in range(0, i+1): # j = 몇번째 수\n",
    "        if j == 0: # 왼쪽 맨앞\n",
    "            cache[i][j] = cache[i][j] + cache[i-1][j] # + 바로 윗 수 \n",
    "        elif j == i: # 오른쪽 마지막\n",
    "            cache[i][i] = cache[i][i] + cache[i-1][i-1] # + 바로 윗 수\n",
    "        else:\n",
    "            cache[i][j] = cache[i][j] + max(cache[i-1][j-1], cache[i-1][j]) # 위 대각선 수 중 더 큰수를 더함\n",
    "            \n",
    "print(max(cache[n-1]))"
   ]
  }
 ],
 "metadata": {
  "kernelspec": {
   "display_name": "Python 3",
   "language": "python",
   "name": "python3"
  },
  "language_info": {
   "codemirror_mode": {
    "name": "ipython",
    "version": 3
   },
   "file_extension": ".py",
   "mimetype": "text/x-python",
   "name": "python",
   "nbconvert_exporter": "python",
   "pygments_lexer": "ipython3",
   "version": "3.8.8"
  }
 },
 "nbformat": 4,
 "nbformat_minor": 5
}
