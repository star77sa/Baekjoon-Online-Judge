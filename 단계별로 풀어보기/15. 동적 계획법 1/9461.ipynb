{
 "cells": [
  {
   "cell_type": "markdown",
   "id": "thorough-generator",
   "metadata": {},
   "source": [
    "# 9461 파도반 수열"
   ]
  },
  {
   "cell_type": "code",
   "execution_count": 8,
   "id": "entitled-cedar",
   "metadata": {},
   "outputs": [
    {
     "name": "stdin",
     "output_type": "stream",
     "text": [
      " 2\n",
      " 6\n"
     ]
    },
    {
     "name": "stdout",
     "output_type": "stream",
     "text": [
      "3\n"
     ]
    },
    {
     "name": "stdin",
     "output_type": "stream",
     "text": [
      " 12\n"
     ]
    },
    {
     "name": "stdout",
     "output_type": "stream",
     "text": [
      "16\n"
     ]
    }
   ],
   "source": [
    "cache = [0]*101\n",
    "\n",
    "cache[1] = 1\n",
    "cache[2] = 1\n",
    "cache[3] = 1\n",
    "cache[4] = 2\n",
    "cache[5] = 2\n",
    "\n",
    "import sys\n",
    "T = int(sys.stdin.readline())\n",
    "\n",
    "for i in range(T):\n",
    "    N = int(sys.stdin.readline())\n",
    "    if N > 5:\n",
    "        for i in range(5, N+1):\n",
    "            cache[i] = cache[i-1] + cache[i-5]\n",
    "    print(cache[N])"
   ]
  }
 ],
 "metadata": {
  "kernelspec": {
   "display_name": "Python 3",
   "language": "python",
   "name": "python3"
  },
  "language_info": {
   "codemirror_mode": {
    "name": "ipython",
    "version": 3
   },
   "file_extension": ".py",
   "mimetype": "text/x-python",
   "name": "python",
   "nbconvert_exporter": "python",
   "pygments_lexer": "ipython3",
   "version": "3.8.8"
  }
 },
 "nbformat": 4,
 "nbformat_minor": 5
}
