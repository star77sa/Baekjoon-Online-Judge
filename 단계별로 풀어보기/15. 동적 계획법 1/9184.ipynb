{
 "cells": [
  {
   "cell_type": "markdown",
   "id": "reported-pregnancy",
   "metadata": {},
   "source": [
    "# 9184 신나는 함수 실행"
   ]
  },
  {
   "cell_type": "markdown",
   "id": "victorian-approval",
   "metadata": {},
   "source": [
    "3차원 배열을 만든 뒤 재귀 + Memorization 사용\n",
    "return 적절하게 사용할 것.."
   ]
  },
  {
   "cell_type": "code",
   "execution_count": 63,
   "id": "cardiovascular-movie",
   "metadata": {},
   "outputs": [],
   "source": [
    "cache = [[['' for i in range(100)] for j in range (100)]for k in range(100)]\n",
    "       #  for j in range (100)]"
   ]
  },
  {
   "cell_type": "code",
   "execution_count": 124,
   "id": "varied-tuition",
   "metadata": {},
   "outputs": [],
   "source": [
    "def w(a,b,c):\n",
    "    if (a <= 0) | (b <= 0) | (c <= 0) :\n",
    "        return 1\n",
    "\n",
    "    elif (a>20) | (b>20) | (c>20):\n",
    "        (a,b,c) = (20,20,20)\n",
    "\n",
    "        if cache[20][20][20] == '':    \n",
    "            cache[20][20][20] = w(20,20,20)\n",
    "        \n",
    "        return cache[a][b][c]\n",
    "    \n",
    "    elif (a < b < c):\n",
    "        if cache[a][b][c] == '':\n",
    "            cache[a][b][c] = w(a, b, c-1) + w(a, b-1, c-1) - w(a, b-1, c)\n",
    "        return cache[a][b][c]\n",
    "\n",
    "    else:\n",
    "        if cache[a][b][c] == '':\n",
    "            cache[a][b][c] = w(a-1, b, c) + w(a-1, b-1, c) + w(a-1, b, c-1) - w(a-1, b-1, c-1)            \n",
    "        return cache[a][b][c]"
   ]
  },
  {
   "cell_type": "code",
   "execution_count": 137,
   "id": "bulgarian-quantum",
   "metadata": {},
   "outputs": [
    {
     "name": "stdin",
     "output_type": "stream",
     "text": [
      " 1 1 1\n"
     ]
    },
    {
     "name": "stdout",
     "output_type": "stream",
     "text": [
      "w(1, 1, 1) = 2\n"
     ]
    },
    {
     "name": "stdin",
     "output_type": "stream",
     "text": [
      " 2 2 2\n"
     ]
    },
    {
     "name": "stdout",
     "output_type": "stream",
     "text": [
      "w(2, 2, 2) = 4\n"
     ]
    },
    {
     "name": "stdin",
     "output_type": "stream",
     "text": [
      " 10 4 6\n"
     ]
    },
    {
     "name": "stdout",
     "output_type": "stream",
     "text": [
      "w(10, 4, 6) = 523\n"
     ]
    },
    {
     "name": "stdin",
     "output_type": "stream",
     "text": [
      " 50 50 50\n"
     ]
    },
    {
     "name": "stdout",
     "output_type": "stream",
     "text": [
      "w(50, 50, 50) = 1048576\n"
     ]
    },
    {
     "name": "stdin",
     "output_type": "stream",
     "text": [
      " -1 7 18\n"
     ]
    },
    {
     "name": "stdout",
     "output_type": "stream",
     "text": [
      "w(-1, 7, 18) = 1\n"
     ]
    },
    {
     "name": "stdin",
     "output_type": "stream",
     "text": [
      " -1 -1 -1\n"
     ]
    }
   ],
   "source": [
    "(a,b,c) = map(int, input().split())\n",
    "\n",
    "while (a,b,c) != (-1,-1,-1):\n",
    "    out = w(a, b, c)\n",
    "    print(\"w(%d, %d, %d) = %d\" %(a, b, c, out))\n",
    "    a,b,c = map(int, input().split())"
   ]
  },
  {
   "cell_type": "code",
   "execution_count": null,
   "id": "general-lloyd",
   "metadata": {},
   "outputs": [],
   "source": []
  }
 ],
 "metadata": {
  "kernelspec": {
   "display_name": "Python 3",
   "language": "python",
   "name": "python3"
  },
  "language_info": {
   "codemirror_mode": {
    "name": "ipython",
    "version": 3
   },
   "file_extension": ".py",
   "mimetype": "text/x-python",
   "name": "python",
   "nbconvert_exporter": "python",
   "pygments_lexer": "ipython3",
   "version": "3.8.8"
  }
 },
 "nbformat": 4,
 "nbformat_minor": 5
}
