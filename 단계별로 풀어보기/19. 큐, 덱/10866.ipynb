{
 "cells": [
  {
   "cell_type": "markdown",
   "id": "informed-alert",
   "metadata": {},
   "source": [
    "# 10866 덱"
   ]
  },
  {
   "cell_type": "markdown",
   "id": "lined-characteristic",
   "metadata": {},
   "source": [
    "front 와 back 은 다음에 추가할 곳을 가리키고있음.\n",
    "\n",
    "즉, push_front는 front자리에 값을 추가하고 앞으로 한칸 이동 / push_back은 back 자리에 값을 추가하고 뒤로 한칸이동.\n",
    "\n",
    "pop_front는 뒤로 한칸 이동해서 값을 제거 / pop_back은 앞으로 한칸 이동해서 값을 제거"
   ]
  },
  {
   "cell_type": "code",
   "execution_count": 24,
   "id": "resident-teacher",
   "metadata": {},
   "outputs": [
    {
     "name": "stdin",
     "output_type": "stream",
     "text": [
      " 3\n"
     ]
    }
   ],
   "source": [
    "# T = int(input())\n",
    "data = ['' for i in range(10000)]\n",
    "front = -1\n",
    "back = 0"
   ]
  },
  {
   "cell_type": "code",
   "execution_count": 14,
   "id": "settled-throat",
   "metadata": {},
   "outputs": [],
   "source": [
    "def deque(order, front, back):\n",
    "    if order[0:4] == 'push':\n",
    "        \n",
    "        if order[5:10] == 'front': # push_front\n",
    "            data[front] = order[-1]\n",
    "            front = front - 1\n",
    "            return front\n",
    "        else: # push_back\n",
    "            data[back] = order[-1]\n",
    "            back = back + 1\n",
    "            return back\n",
    "    elif order[0:3] == 'pop':\n",
    "        if back - 1 == front: # 값이 없는 경우\n",
    "                print('-1')\n",
    "        \n",
    "        else: # 값이 있는 경우    \n",
    "            \n",
    "            if order[4:] == 'front': # pop_front\n",
    "            \n",
    "                front = front + 1\n",
    "                print(data[front]) # 값이 있는 경우\n",
    "                data[front] = ''\n",
    "                return front\n",
    "            else: # pop_back\n",
    "                back = back - 1\n",
    "                print(data[back])\n",
    "                data[back] = ''\n",
    "                return back"
   ]
  },
  {
   "cell_type": "code",
   "execution_count": 25,
   "id": "appointed-kruger",
   "metadata": {},
   "outputs": [
    {
     "name": "stdin",
     "output_type": "stream",
     "text": [
      " push_front 3\n"
     ]
    }
   ],
   "source": [
    "order = input()"
   ]
  },
  {
   "cell_type": "code",
   "execution_count": 53,
   "id": "geological-ratio",
   "metadata": {},
   "outputs": [],
   "source": [
    "class deque():\n",
    "    data = [''for i in range(10000)]\n",
    "    front = -1\n",
    "    back = 0\n",
    "    \n",
    "    def push_front(self, X):\n",
    "            self.data[self.front] = X\n",
    "            self.front = self.front - 1\n",
    "            \n",
    "    def push_back():\n",
    "            data[back] = order[-1]\n",
    "            back = back + 1\n",
    "            \n",
    "    def pop_front():\n",
    "        if back - 1 == front: # 값이 없는 경우\n",
    "            print('-1')\n",
    "        else:\n",
    "            front = front + 1\n",
    "            print(data[front]) # 값이 있는 경우\n",
    "            data[front] = ''\n",
    "            \n",
    "    def pop_back():\n",
    "            back = back - 1\n",
    "            print(data[back])\n",
    "            data[back] = ''"
   ]
  },
  {
   "cell_type": "code",
   "execution_count": 54,
   "id": "assumed-secret",
   "metadata": {},
   "outputs": [],
   "source": [
    "deq = deque()"
   ]
  },
  {
   "cell_type": "code",
   "execution_count": 55,
   "id": "stopped-foster",
   "metadata": {},
   "outputs": [],
   "source": [
    "deq.push_front(3)"
   ]
  },
  {
   "cell_type": "code",
   "execution_count": null,
   "id": "first-image",
   "metadata": {},
   "outputs": [],
   "source": [
    "for i in range(T):\n",
    "    order = input()\n",
    "    if order[0:4] == 'push':\n",
    "            if order[5:10] == 'front': # push_front\n"
   ]
  }
 ],
 "metadata": {
  "kernelspec": {
   "display_name": "Python 3",
   "language": "python",
   "name": "python3"
  },
  "language_info": {
   "codemirror_mode": {
    "name": "ipython",
    "version": 3
   },
   "file_extension": ".py",
   "mimetype": "text/x-python",
   "name": "python",
   "nbconvert_exporter": "python",
   "pygments_lexer": "ipython3",
   "version": "3.8.8"
  }
 },
 "nbformat": 4,
 "nbformat_minor": 5
}
