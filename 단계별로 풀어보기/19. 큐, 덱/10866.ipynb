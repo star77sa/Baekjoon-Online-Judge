{
 "cells": [
  {
   "cell_type": "markdown",
   "id": "amino-dimension",
   "metadata": {},
   "source": [
    "# 10866 덱"
   ]
  },
  {
   "cell_type": "markdown",
   "id": "sorted-tucson",
   "metadata": {},
   "source": [
    "front 와 back 은 다음에 추가할 곳을 가리키고있음.\n",
    "\n",
    "즉, push_front는 front자리에 값을 추가하고 앞으로 한칸 이동 / push_back은 back 자리에 값을 추가하고 뒤로 한칸이동.\n",
    "\n",
    "pop_front는 뒤로 한칸 이동해서 값을 제거 / pop_back은 앞으로 한칸 이동해서 값을 제거\n",
    "\n",
    "`-` order[-1]로 추가할 수룰 적었더니, 2~3자리 수들을 전혀 받지 못함... [11: ] 이런식으로 변경해주었음!! ^^"
   ]
  },
  {
   "cell_type": "code",
   "execution_count": 12,
   "id": "front-conversion",
   "metadata": {},
   "outputs": [],
   "source": [
    "# import sys\n",
    "\n",
    "class deque():\n",
    "    data = [''for i in range(10000)]\n",
    "    front = -1\n",
    "    back = 0\n",
    "    \n",
    "    def push_front(self, X):\n",
    "            self.data[self.front] = X\n",
    "            self.front = self.front - 1\n",
    "            \n",
    "    def push_back(self, X):\n",
    "            self.data[self.back] = X\n",
    "            self.back = self.back + 1\n",
    "            \n",
    "    def pop_front(self):\n",
    "        if self.back - 1 == self.front: # 값이 없는 경우\n",
    "            print('-1')\n",
    "        else:\n",
    "            self.front = self.front + 1\n",
    "            print(self.data[self.front]) # 값이 있는 경우\n",
    "            self.data[self.front] = ''\n",
    "            \n",
    "    def pop_back(self):\n",
    "        if self.back - 1 == self.front:\n",
    "            print('-1')\n",
    "        else:\n",
    "            self.back = self.back - 1\n",
    "            print(self.data[self.back])\n",
    "            self.data[self.back] = ''\n",
    "            \n",
    "    def size(self):\n",
    "        return self.back - self.front - 1\n",
    "    \n",
    "    def empty(self):\n",
    "        if self.size() == 0:\n",
    "            return 1\n",
    "        else:\n",
    "            return 0\n",
    "    \n",
    "    def front2(self):\n",
    "        if self.size() != 0:\n",
    "            print(self.data[self.front+1])\n",
    "        else:\n",
    "            print(-1)\n",
    "    \n",
    "    def back2(self):\n",
    "        if self.size() != 0:\n",
    "            print(self.data[self.back-1])\n",
    "        else:\n",
    "            print(-1)"
   ]
  },
  {
   "cell_type": "code",
   "execution_count": 14,
   "id": "ordinary-background",
   "metadata": {},
   "outputs": [
    {
     "name": "stdin",
     "output_type": "stream",
     "text": [
      " 22\n",
      " front\n"
     ]
    },
    {
     "name": "stdout",
     "output_type": "stream",
     "text": [
      "-1\n"
     ]
    },
    {
     "name": "stdin",
     "output_type": "stream",
     "text": [
      " back\n"
     ]
    },
    {
     "name": "stdout",
     "output_type": "stream",
     "text": [
      "-1\n"
     ]
    },
    {
     "name": "stdin",
     "output_type": "stream",
     "text": [
      " pop_front\n"
     ]
    },
    {
     "name": "stdout",
     "output_type": "stream",
     "text": [
      "-1\n"
     ]
    },
    {
     "name": "stdin",
     "output_type": "stream",
     "text": [
      " pop_back\n"
     ]
    },
    {
     "name": "stdout",
     "output_type": "stream",
     "text": [
      "-1\n"
     ]
    },
    {
     "name": "stdin",
     "output_type": "stream",
     "text": [
      " push_front 1\n",
      " front\n"
     ]
    },
    {
     "name": "stdout",
     "output_type": "stream",
     "text": [
      "1\n"
     ]
    },
    {
     "name": "stdin",
     "output_type": "stream",
     "text": [
      " pop_back\n"
     ]
    },
    {
     "name": "stdout",
     "output_type": "stream",
     "text": [
      "1\n"
     ]
    },
    {
     "name": "stdin",
     "output_type": "stream",
     "text": [
      " push_back 2\n",
      " back\n"
     ]
    },
    {
     "name": "stdout",
     "output_type": "stream",
     "text": [
      "2\n"
     ]
    },
    {
     "name": "stdin",
     "output_type": "stream",
     "text": [
      " pop_front\n"
     ]
    },
    {
     "name": "stdout",
     "output_type": "stream",
     "text": [
      "2\n"
     ]
    },
    {
     "name": "stdin",
     "output_type": "stream",
     "text": [
      " push_front 10\n",
      " push_front 333\n",
      " front\n"
     ]
    },
    {
     "name": "stdout",
     "output_type": "stream",
     "text": [
      "3\n"
     ]
    },
    {
     "name": "stdin",
     "output_type": "stream",
     "text": [
      " back\n"
     ]
    },
    {
     "name": "stdout",
     "output_type": "stream",
     "text": [
      "0\n"
     ]
    },
    {
     "name": "stdin",
     "output_type": "stream",
     "text": [
      " pop_back\n"
     ]
    },
    {
     "name": "stdout",
     "output_type": "stream",
     "text": [
      "0\n"
     ]
    },
    {
     "name": "stdin",
     "output_type": "stream",
     "text": [
      " pop_back\n"
     ]
    },
    {
     "name": "stdout",
     "output_type": "stream",
     "text": [
      "3\n"
     ]
    },
    {
     "name": "stdin",
     "output_type": "stream",
     "text": [
      " push_back 20\n",
      " push_back 1234\n",
      " front\n"
     ]
    },
    {
     "name": "stdout",
     "output_type": "stream",
     "text": [
      "0\n"
     ]
    },
    {
     "name": "stdin",
     "output_type": "stream",
     "text": [
      " back\n"
     ]
    },
    {
     "name": "stdout",
     "output_type": "stream",
     "text": [
      "4\n"
     ]
    },
    {
     "name": "stdin",
     "output_type": "stream",
     "text": [
      " pop_back\n"
     ]
    },
    {
     "name": "stdout",
     "output_type": "stream",
     "text": [
      "4\n"
     ]
    },
    {
     "name": "stdin",
     "output_type": "stream",
     "text": [
      " pop_back\n"
     ]
    },
    {
     "name": "stdout",
     "output_type": "stream",
     "text": [
      "0\n"
     ]
    }
   ],
   "source": [
    "deq = deque()\n",
    "\n",
    "T = int(sys.stdin.readline().strip())\n",
    "#T = int(input())\n",
    "for i in range(T):\n",
    "    order = sys.stdin.readline().strip()\n",
    "    #order = input()\n",
    "    if order[0:4] == 'push':\n",
    "        if order[5:10] == 'front': # push_front\n",
    "            deq.push_front(int(order[11:]))\n",
    "        else:\n",
    "            deq.push_back(int(order[10:]))\n",
    "    \n",
    "    elif order[0:3] == 'pop':\n",
    "        if order[4:9] == 'front':\n",
    "            deq.pop_front()\n",
    "        else:\n",
    "            deq.pop_back()\n",
    "    \n",
    "    elif order == 'size':\n",
    "        print(deq.size())\n",
    "        \n",
    "    elif order == 'empty':\n",
    "        print(deq.empty())\n",
    "        \n",
    "    elif order == 'front':\n",
    "        deq.front2()\n",
    "        \n",
    "    elif order == 'back':\n",
    "        deq.back2()"
   ]
  },
  {
   "cell_type": "code",
   "execution_count": null,
   "id": "scenic-antarctica",
   "metadata": {},
   "outputs": [],
   "source": []
  }
 ],
 "metadata": {
  "kernelspec": {
   "display_name": "Python 3",
   "language": "python",
   "name": "python3"
  },
  "language_info": {
   "codemirror_mode": {
    "name": "ipython",
    "version": 3
   },
   "file_extension": ".py",
   "mimetype": "text/x-python",
   "name": "python",
   "nbconvert_exporter": "python",
   "pygments_lexer": "ipython3",
   "version": "3.8.8"
  }
 },
 "nbformat": 4,
 "nbformat_minor": 5
}
