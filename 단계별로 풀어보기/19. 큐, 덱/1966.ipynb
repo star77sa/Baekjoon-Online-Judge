{
 "cells": [
  {
   "cell_type": "markdown",
   "id": "optical-secretariat",
   "metadata": {},
   "source": [
    "# 1966 프린터 큐"
   ]
  },
  {
   "cell_type": "markdown",
   "id": "valid-voluntary",
   "metadata": {},
   "source": [
    "```\n",
    "1. 입력받는다.\n",
    "2. 찾을 값을 [중요도, check]로 바꿔준다. 중복된 값이 있을수도있으니...\n",
    "pop 한 값이 check일때까지... 계속\n",
    "```"
   ]
  },
  {
   "cell_type": "code",
   "execution_count": 307,
   "id": "accredited-capacity",
   "metadata": {},
   "outputs": [
    {
     "name": "stdin",
     "output_type": "stream",
     "text": [
      " 3\n",
      " 1 0\n",
      " 5\n"
     ]
    },
    {
     "name": "stdout",
     "output_type": "stream",
     "text": [
      "1\n"
     ]
    },
    {
     "name": "stdin",
     "output_type": "stream",
     "text": [
      " 4 2\n",
      " 1 2 3 4\n"
     ]
    },
    {
     "name": "stdout",
     "output_type": "stream",
     "text": [
      "2\n"
     ]
    },
    {
     "name": "stdin",
     "output_type": "stream",
     "text": [
      " 6 0\n",
      " 1 1 9 1 1 1\n"
     ]
    },
    {
     "name": "stdout",
     "output_type": "stream",
     "text": [
      "5\n"
     ]
    }
   ],
   "source": [
    "def push(data, a):\n",
    "    data.append(a)\n",
    "    \n",
    "def pop(data):\n",
    "    tmp = data[0]\n",
    "    data.remove(data[0])\n",
    "    return tmp\n",
    "\n",
    "t = int(input())\n",
    "for i in range(t):\n",
    "    N, M = map(int, input().split()) # M은 찾고싶은 값\n",
    "\n",
    "    queue = [[i,''] for i in map(int, input().split())]\n",
    "    rank = [queue[i][0] for i in range(len(queue))] ; rank.sort() # 이렇게안하면 큐랑 똑같아짐.. 별명개념 ㅠ +[]\n",
    "    queue[M][1] = 'check'\n",
    "    count = 0\n",
    "\n",
    "    while True:\n",
    "\n",
    "        if rank[-1] == queue[0][0]: # 맨 앞이 젤 큰 수일 경우, 제거, 카운트 +1\n",
    "            if queue[0][1] == 'check': # 맨 앞이 젤 큰수이며 check 인 경우 멈춘다! ★\n",
    "                break\n",
    "            pop(queue)\n",
    "            del rank[-1]\n",
    "            count = count +1\n",
    "        else:                     # 맨 앞이 젤 큰수가 아니면, 뒤로 보낸다.\n",
    "            push(queue, pop(queue))\n",
    "        \n",
    "    print(count+1)        "
   ]
  },
  {
   "cell_type": "markdown",
   "id": "searching-significance",
   "metadata": {},
   "source": [
    "제출용 sys 버전"
   ]
  },
  {
   "cell_type": "code",
   "execution_count": null,
   "id": "decreased-survivor",
   "metadata": {},
   "outputs": [],
   "source": [
    "def push(data, a):\n",
    "    data.append(a)\n",
    "    \n",
    "def pop(data):\n",
    "    tmp = data[0]\n",
    "    data.remove(data[0])\n",
    "    return tmp\n",
    "\n",
    "import sys\n",
    "\n",
    "t = int(input())\n",
    "for i in range(t):\n",
    "    N, M = map(int, sys.stdin.readline().split()) # M은 찾고싶은 값\n",
    "\n",
    "    queue = [[i,''] for i in map(int, sys.stdin.readline().split())]\n",
    "    rank = [queue[i][0] for i in range(len(queue))] ; rank.sort() # 이렇게안하면 큐랑 똑같아짐.. 별명개념 ㅠ +[]\n",
    "    queue[M][1] = 'check'\n",
    "    count = 0\n",
    "\n",
    "    while True:\n",
    "\n",
    "        if rank[-1] == queue[0][0]: # 맨 앞이 젤 큰 수일 경우, 제거, 카운트 +1\n",
    "            if queue[0][1] == 'check': # 맨 앞이 젤 큰수이며 check 인 경우 멈춘다! ★\n",
    "                break\n",
    "            pop(queue)\n",
    "            del rank[-1]\n",
    "            count = count +1\n",
    "        else:                     # 맨 앞이 젤 큰수가 아니면, 뒤로 보낸다.\n",
    "            push(queue, pop(queue))\n",
    "        \n",
    "    print(count+1)    "
   ]
  }
 ],
 "metadata": {
  "kernelspec": {
   "display_name": "Python 3",
   "language": "python",
   "name": "python3"
  },
  "language_info": {
   "codemirror_mode": {
    "name": "ipython",
    "version": 3
   },
   "file_extension": ".py",
   "mimetype": "text/x-python",
   "name": "python",
   "nbconvert_exporter": "python",
   "pygments_lexer": "ipython3",
   "version": "3.8.8"
  }
 },
 "nbformat": 4,
 "nbformat_minor": 5
}
