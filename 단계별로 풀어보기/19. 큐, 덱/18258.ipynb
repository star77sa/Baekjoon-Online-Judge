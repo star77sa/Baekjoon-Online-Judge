{
 "cells": [
  {
   "cell_type": "markdown",
   "id": "protected-lindsay",
   "metadata": {},
   "source": [
    "# 18258 큐2"
   ]
  },
  {
   "cell_type": "markdown",
   "id": "sorted-banana",
   "metadata": {},
   "source": [
    "list.append(a) 나 list.remove(data[0]) 를 사용했더니 시간초과가 떴다.\n",
    "시간복잡도가 n이기 때문. 그래서 앞 뒤에 각각 변수를 추가하여, 저장해두며 사용했다."
   ]
  },
  {
   "cell_type": "code",
   "execution_count": 137,
   "id": "periodic-automation",
   "metadata": {},
   "outputs": [],
   "source": [
    "import sys\n",
    "\n",
    "class queue():\n",
    "    \n",
    "    top = -1\n",
    "    ft = -1\n",
    "    data = [0 for i in range(2000001)]\n",
    "    \n",
    "    def push(self, a):\n",
    "        self.top = self.top + 1\n",
    "        self.data[self.top] = a\n",
    "        \n",
    "    def pop(self):\n",
    "        if self.top != self.ft:\n",
    "            tmp = self.data[self.ft + 1]\n",
    "            self.ft = self.ft + 1 # list.remove는 시간복잡도가 n임\n",
    "            print(tmp)            # 그래서 맨 앞 ft를 top 처럼 사용할것.\n",
    "        else:\n",
    "            print(-1)\n",
    "            \n",
    "    def size(self):\n",
    "        print(self.top - self.ft)\n",
    "        \n",
    "    def empty(self):\n",
    "        if (self.top - self.ft) == 0:\n",
    "            return 1\n",
    "        else:\n",
    "            return 0\n",
    "            \n",
    "    def front(self):\n",
    "        if self.empty() == 0:\n",
    "            print(self.data[self.ft + 1])\n",
    "        else:\n",
    "            print(-1)\n",
    "            \n",
    "    def back(self):\n",
    "        if self.empty() == 0:\n",
    "            print(self.data[self.top]) # 인덱스 0부터 시작\n",
    "        else:\n",
    "            print(-1)"
   ]
  },
  {
   "cell_type": "code",
   "execution_count": 134,
   "id": "backed-carrier",
   "metadata": {},
   "outputs": [],
   "source": [
    "que = queue()"
   ]
  },
  {
   "cell_type": "code",
   "execution_count": 135,
   "id": "endangered-czech",
   "metadata": {},
   "outputs": [
    {
     "name": "stdin",
     "output_type": "stream",
     "text": [
      " 15\n"
     ]
    }
   ],
   "source": [
    "N = int(input())\n",
    "#N = int(sys.stdin.readline())"
   ]
  },
  {
   "cell_type": "code",
   "execution_count": 136,
   "id": "specified-lover",
   "metadata": {},
   "outputs": [
    {
     "name": "stdin",
     "output_type": "stream",
     "text": [
      " push 1\n",
      " push 2\n",
      " front\n"
     ]
    },
    {
     "name": "stdout",
     "output_type": "stream",
     "text": [
      "1\n"
     ]
    },
    {
     "name": "stdin",
     "output_type": "stream",
     "text": [
      " back\n"
     ]
    },
    {
     "name": "stdout",
     "output_type": "stream",
     "text": [
      "2\n"
     ]
    },
    {
     "name": "stdin",
     "output_type": "stream",
     "text": [
      " size\n"
     ]
    },
    {
     "name": "stdout",
     "output_type": "stream",
     "text": [
      "2\n"
     ]
    },
    {
     "name": "stdin",
     "output_type": "stream",
     "text": [
      " empty\n"
     ]
    },
    {
     "name": "stdout",
     "output_type": "stream",
     "text": [
      "0\n"
     ]
    },
    {
     "name": "stdin",
     "output_type": "stream",
     "text": [
      " pop\n"
     ]
    },
    {
     "name": "stdout",
     "output_type": "stream",
     "text": [
      "1\n"
     ]
    },
    {
     "name": "stdin",
     "output_type": "stream",
     "text": [
      " pop\n"
     ]
    },
    {
     "name": "stdout",
     "output_type": "stream",
     "text": [
      "2\n"
     ]
    },
    {
     "name": "stdin",
     "output_type": "stream",
     "text": [
      " pop\n"
     ]
    },
    {
     "name": "stdout",
     "output_type": "stream",
     "text": [
      "-1\n"
     ]
    },
    {
     "name": "stdin",
     "output_type": "stream",
     "text": [
      " size\n"
     ]
    },
    {
     "name": "stdout",
     "output_type": "stream",
     "text": [
      "0\n"
     ]
    },
    {
     "name": "stdin",
     "output_type": "stream",
     "text": [
      " empty\n"
     ]
    },
    {
     "name": "stdout",
     "output_type": "stream",
     "text": [
      "1\n"
     ]
    },
    {
     "name": "stdin",
     "output_type": "stream",
     "text": [
      " pop\n"
     ]
    },
    {
     "name": "stdout",
     "output_type": "stream",
     "text": [
      "-1\n"
     ]
    },
    {
     "name": "stdin",
     "output_type": "stream",
     "text": [
      " push 3\n",
      " empty\n"
     ]
    },
    {
     "name": "stdout",
     "output_type": "stream",
     "text": [
      "0\n"
     ]
    },
    {
     "name": "stdin",
     "output_type": "stream",
     "text": [
      " front\n"
     ]
    },
    {
     "name": "stdout",
     "output_type": "stream",
     "text": [
      "3\n"
     ]
    }
   ],
   "source": [
    "for i in range(N):\n",
    "    string = input()\n",
    "    #string = sys.stdin.readline().strip()\n",
    "    if string.count(\" \") != 0: # push\n",
    "        fun, num = string.split()\n",
    "        if fun == 'push': \n",
    "            que.push(num)\n",
    "    elif string == 'pop':\n",
    "        que.pop()\n",
    "    elif string == 'size':\n",
    "        que.size()\n",
    "    elif string == 'empty':\n",
    "        print(que.empty())\n",
    "    elif string == 'front':\n",
    "        que.front()\n",
    "    elif string == 'back':\n",
    "        que.back()"
   ]
  }
 ],
 "metadata": {
  "kernelspec": {
   "display_name": "Python 3",
   "language": "python",
   "name": "python3"
  },
  "language_info": {
   "codemirror_mode": {
    "name": "ipython",
    "version": 3
   },
   "file_extension": ".py",
   "mimetype": "text/x-python",
   "name": "python",
   "nbconvert_exporter": "python",
   "pygments_lexer": "ipython3",
   "version": "3.8.8"
  }
 },
 "nbformat": 4,
 "nbformat_minor": 5
}
