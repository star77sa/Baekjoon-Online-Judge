{
 "cells": [
  {
   "cell_type": "markdown",
   "id": "stable-timothy",
   "metadata": {},
   "source": [
    "만약 목적지에 도달한다면, 미끄러지지않는다.\n",
    "\n",
    "즉, A > -B+A > -B+A ... 식으로 \n",
    "\n",
    "    1일  2일  3일 ... 알고리즘 작성해보자."
   ]
  },
  {
   "cell_type": "code",
   "execution_count": 71,
   "id": "continued-validity",
   "metadata": {},
   "outputs": [],
   "source": [
    "import math"
   ]
  },
  {
   "cell_type": "code",
   "execution_count": 72,
   "id": "clean-magnitude",
   "metadata": {},
   "outputs": [
    {
     "name": "stdin",
     "output_type": "stream",
     "text": [
      " 100 99 1000000000\n"
     ]
    }
   ],
   "source": [
    "day = 1\n",
    "(A, B, V) = map(int, (input().split())"
   ]
  },
  {
   "cell_type": "code",
   "execution_count": 73,
   "id": "numerous-authority",
   "metadata": {},
   "outputs": [],
   "source": [
    "V = V-A # day 1\n",
    "\n",
    "day += math.ceil(V / (A-B)) # 반복문을 사용하는 대신에, 나눗셈을 이용하였다. (시간제한)"
   ]
  },
  {
   "cell_type": "code",
   "execution_count": 74,
   "id": "light-virtue",
   "metadata": {},
   "outputs": [
    {
     "name": "stdout",
     "output_type": "stream",
     "text": [
      "999999901\n"
     ]
    }
   ],
   "source": [
    "print(day)"
   ]
  }
 ],
 "metadata": {
  "kernelspec": {
   "display_name": "Python 3",
   "language": "python",
   "name": "python3"
  },
  "language_info": {
   "codemirror_mode": {
    "name": "ipython",
    "version": 3
   },
   "file_extension": ".py",
   "mimetype": "text/x-python",
   "name": "python",
   "nbconvert_exporter": "python",
   "pygments_lexer": "ipython3",
   "version": "3.8.8"
  }
 },
 "nbformat": 4,
 "nbformat_minor": 5
}
