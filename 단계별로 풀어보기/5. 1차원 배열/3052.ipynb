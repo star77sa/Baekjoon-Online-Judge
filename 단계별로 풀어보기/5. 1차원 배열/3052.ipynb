{
 "cells": [
  {
   "cell_type": "code",
   "execution_count": 13,
   "id": "macro-beast",
   "metadata": {},
   "outputs": [
    {
     "name": "stdin",
     "output_type": "stream",
     "text": [
      " 39\n",
      " 40\n",
      " 41\n",
      " 42\n",
      " 43\n",
      " 44\n",
      " 82\n",
      " 83\n",
      " 84\n",
      " 85\n"
     ]
    },
    {
     "name": "stdout",
     "output_type": "stream",
     "text": [
      "6\n"
     ]
    }
   ],
   "source": [
    "import sys\n",
    "number = []\n",
    "for i in range(10):\n",
    "    number.append(int(sys.stdin.readline())%42)\n",
    "    \n",
    "print(len(set(number)))"
   ]
  },
  {
   "cell_type": "code",
   "execution_count": null,
   "id": "departmental-cornwall",
   "metadata": {},
   "outputs": [],
   "source": [
    "# 집합은 중복된 원소를 가지지 않는다.\n",
    "# 따라서 집합을 이용하여 중복을 없앨 수 있다."
   ]
  }
 ],
 "metadata": {
  "kernelspec": {
   "display_name": "Python 3",
   "language": "python",
   "name": "python3"
  },
  "language_info": {
   "codemirror_mode": {
    "name": "ipython",
    "version": 3
   },
   "file_extension": ".py",
   "mimetype": "text/x-python",
   "name": "python",
   "nbconvert_exporter": "python",
   "pygments_lexer": "ipython3",
   "version": "3.8.8"
  }
 },
 "nbformat": 4,
 "nbformat_minor": 5
}
