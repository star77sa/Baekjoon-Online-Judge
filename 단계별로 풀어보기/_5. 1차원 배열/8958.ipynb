{
 "cells": [
  {
   "cell_type": "code",
   "execution_count": null,
   "id": "surprising-florist",
   "metadata": {},
   "outputs": [],
   "source": [
    "N = int(input())\n",
    "\n",
    "for i in range(N):\n",
    "    \n",
    "    string = input()\n",
    "    length = len(string)\n",
    "\n",
    "    score=0 # 전체점수\n",
    "    temp=0 # 현재위치에서의 점수\n",
    "    cur= '' # 비교대상(이전 문자)\n",
    "    \n",
    "    for j in range(length):\n",
    "        if string[j] == 'O':\n",
    "            if cur == 'O':\n",
    "                temp +=1\n",
    "            else:\n",
    "                cur = 'O'\n",
    "                temp = 1\n",
    "            score += temp\n",
    "        else:\n",
    "            cur = 'X'\n",
    "            temp = 1\n",
    "            \n",
    "    print(score)"
   ]
  }
 ],
 "metadata": {
  "kernelspec": {
   "display_name": "Python 3",
   "language": "python",
   "name": "python3"
  },
  "language_info": {
   "codemirror_mode": {
    "name": "ipython",
    "version": 3
   },
   "file_extension": ".py",
   "mimetype": "text/x-python",
   "name": "python",
   "nbconvert_exporter": "python",
   "pygments_lexer": "ipython3",
   "version": "3.8.8"
  }
 },
 "nbformat": 4,
 "nbformat_minor": 5
}
