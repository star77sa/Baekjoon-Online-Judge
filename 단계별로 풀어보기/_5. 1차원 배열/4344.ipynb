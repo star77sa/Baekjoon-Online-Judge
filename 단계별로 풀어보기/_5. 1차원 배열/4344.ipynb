{
 "cells": [
  {
   "cell_type": "code",
   "execution_count": null,
   "id": "another-brush",
   "metadata": {},
   "outputs": [],
   "source": [
    "test = int(input())\n",
    "for i in range(test):\n",
    "    temp = 0\n",
    "    A = list( map(int, input().split()) )\n",
    "    \n",
    "    avg = sum(A[1:])/len(A[1:]) # 첫 수는 제외\n",
    "    for j in range(len(A)-1): # 첫 수는 제외\n",
    "        \n",
    "        if A[j+1] > avg :\n",
    "            temp += 1 # 평균보다 큰 수들\n",
    "    temp = temp/A[0]*100 # 평균보다 큰 수들의 비율\n",
    "    value =\"%.3f\"% temp # 소수 3자리까지 나타내기 위해서\n",
    "    print(value+\"%\")"
   ]
  }
 ],
 "metadata": {
  "kernelspec": {
   "display_name": "Python 3",
   "language": "python",
   "name": "python3"
  },
  "language_info": {
   "codemirror_mode": {
    "name": "ipython",
    "version": 3
   },
   "file_extension": ".py",
   "mimetype": "text/x-python",
   "name": "python",
   "nbconvert_exporter": "python",
   "pygments_lexer": "ipython3",
   "version": "3.8.8"
  }
 },
 "nbformat": 4,
 "nbformat_minor": 5
}
