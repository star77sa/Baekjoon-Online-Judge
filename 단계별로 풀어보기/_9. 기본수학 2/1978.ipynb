{
 "cells": [
  {
   "cell_type": "markdown",
   "id": "sixth-quarterly",
   "metadata": {},
   "source": [
    "p^2 >= 1000 을 만족하는 최소의 p까지의 배수만 걸러내면됨.\n",
    "31.622... 이므로 32의 배수까지만 지워가면됨."
   ]
  },
  {
   "cell_type": "code",
   "execution_count": 44,
   "id": "genetic-complement",
   "metadata": {},
   "outputs": [],
   "source": [
    "prime = [i for i in range(2,1001)] # 2 ~ 1000\n",
    "\n",
    "for i in range(2,33): # 2 ~ 32 해당하는 값\n",
    "    j=2 # 배수. 2의 배수부터 시작\n",
    "    if prime.count(i) == 1: # 해당 값이 존재할 경우\n",
    "        for k in range(1000//i): # 1000보단 작은값까지만\n",
    "            if prime.count(i*j) == 1: # 해당값의 배수가 존재할경우\n",
    "                prime.remove(i*j)                \n",
    "            j += 1"
   ]
  },
  {
   "cell_type": "markdown",
   "id": "filled-tragedy",
   "metadata": {},
   "source": [
    "소수를 구분하는 과정"
   ]
  },
  {
   "cell_type": "code",
   "execution_count": 76,
   "id": "marked-count",
   "metadata": {},
   "outputs": [
    {
     "name": "stdin",
     "output_type": "stream",
     "text": [
      " 4\n",
      " 1 3 5 7\n"
     ]
    },
    {
     "name": "stdout",
     "output_type": "stream",
     "text": [
      "3\n"
     ]
    }
   ],
   "source": [
    "testcase = int(input())\n",
    "\n",
    "A = set(map(int, (input().split())))\n",
    "\n",
    "prime = set(prime)\n",
    "print(len(prime & A)) # 소수와의 교집합 개수를 출력"
   ]
  }
 ],
 "metadata": {
  "kernelspec": {
   "display_name": "Python 3",
   "language": "python",
   "name": "python3"
  },
  "language_info": {
   "codemirror_mode": {
    "name": "ipython",
    "version": 3
   },
   "file_extension": ".py",
   "mimetype": "text/x-python",
   "name": "python",
   "nbconvert_exporter": "python",
   "pygments_lexer": "ipython3",
   "version": "3.8.8"
  }
 },
 "nbformat": 4,
 "nbformat_minor": 5
}
