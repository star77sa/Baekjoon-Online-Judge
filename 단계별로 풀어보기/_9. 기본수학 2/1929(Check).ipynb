{
 "cells": [
  {
   "cell_type": "markdown",
   "id": "applied-clause",
   "metadata": {},
   "source": [
    "# 1929 소수 구하기"
   ]
  },
  {
   "cell_type": "code",
   "execution_count": 2,
   "id": "dramatic-mathematics",
   "metadata": {},
   "outputs": [
    {
     "name": "stdin",
     "output_type": "stream",
     "text": [
      " 3 16\n"
     ]
    },
    {
     "name": "stdout",
     "output_type": "stream",
     "text": [
      "3\n",
      "5\n",
      "7\n",
      "11\n",
      "13\n"
     ]
    }
   ],
   "source": [
    "M, N = map(int, input().split())\n",
    "\n",
    "def isprime(M, N):\n",
    "    prime = [True for i in range (N+1)]\n",
    "    for j in range(2, int(N**0.5)+1):\n",
    "        if prime[j]:\n",
    "            for k in range(2*j, N+1, j):\n",
    "                prime[k] = False\n",
    "                \n",
    "    for i in range(M, N+1):\n",
    "        if i > 1 and prime[i] == True:\n",
    "            print(i)\n",
    "        \n",
    "        \n",
    "isprime(M,N)"
   ]
  }
 ],
 "metadata": {
  "kernelspec": {
   "display_name": "Python 3",
   "language": "python",
   "name": "python3"
  },
  "language_info": {
   "codemirror_mode": {
    "name": "ipython",
    "version": 3
   },
   "file_extension": ".py",
   "mimetype": "text/x-python",
   "name": "python",
   "nbconvert_exporter": "python",
   "pygments_lexer": "ipython3",
   "version": "3.8.8"
  }
 },
 "nbformat": 4,
 "nbformat_minor": 5
}
