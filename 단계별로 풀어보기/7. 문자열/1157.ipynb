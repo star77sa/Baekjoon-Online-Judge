{
 "cells": [
  {
   "cell_type": "code",
   "execution_count": 19,
   "id": "joined-chicken",
   "metadata": {},
   "outputs": [
    {
     "name": "stdin",
     "output_type": "stream",
     "text": [
      " baaa\n"
     ]
    },
    {
     "name": "stdout",
     "output_type": "stream",
     "text": [
      "A\n"
     ]
    }
   ],
   "source": [
    "small = ['a','b','c','d','e','f','g','h','i','j','k','l','m','n','o','p','q','r','s','t','u','v','w','x','y','z']\n",
    "large = ['A','B','C','D','E','F','G','H','I','J','K','L','M','N','O','P','Q','R','S','T','U','V','W','X','Y','Z']\n",
    "word = '' # 가장 많이 사용된 알파벳을 담을 변수\n",
    "count = 0 # 가장 많이 사용된 알파벳의 개수\n",
    "temp = 0 # 차례대로 알파벳이 몇 개인지 담는 임시변수\n",
    "\n",
    "N = input() # 문자열을 입력받는 변수\n",
    "\n",
    "for i in range(26): # 알파벳 갯수만큼 반복\n",
    "    temp = N.count(small[i]) + N.count(large[i]) # 소문자, 대문자 개수의 총합\n",
    "    if temp > count:\n",
    "        count = temp\n",
    "        word = large[i]\n",
    "    elif temp == count:\n",
    "        word = '?'\n",
    "        \n",
    "print(word)"
   ]
  }
 ],
 "metadata": {
  "kernelspec": {
   "display_name": "Python 3",
   "language": "python",
   "name": "python3"
  },
  "language_info": {
   "codemirror_mode": {
    "name": "ipython",
    "version": 3
   },
   "file_extension": ".py",
   "mimetype": "text/x-python",
   "name": "python",
   "nbconvert_exporter": "python",
   "pygments_lexer": "ipython3",
   "version": "3.8.8"
  }
 },
 "nbformat": 4,
 "nbformat_minor": 5
}
