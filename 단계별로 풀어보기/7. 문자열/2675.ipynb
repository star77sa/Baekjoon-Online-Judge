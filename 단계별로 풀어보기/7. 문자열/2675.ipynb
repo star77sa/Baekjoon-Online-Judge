{
 "cells": [
  {
   "cell_type": "code",
   "execution_count": null,
   "metadata": {},
   "outputs": [],
   "source": [
    "# 방법 1\n",
    "N = int(input())\n",
    "for i in range(N):\n",
    "    string = ''\n",
    "    repeat, word = input().split()\n",
    "    for i in range(len(word)):\n",
    "        string = string + word[i]*int(repeat)\n",
    "    print(string)"
   ]
  },
  {
   "cell_type": "markdown",
   "metadata": {},
   "source": [
    "#(repeat, word) = \n",
    "x = sys.stdin.readline().split() << 이거 사용법..."
   ]
  },
  {
   "cell_type": "code",
   "execution_count": null,
   "metadata": {},
   "outputs": [],
   "source": [
    "# 방법 2\n",
    "N = int(input())\n",
    "for i in range(N):\n",
    "    string = ''\n",
    "    repeat, word = input().split()\n",
    "    for i in word:\n",
    "        string += i*repeat\n",
    "    print(string)"
   ]
  }
 ],
 "metadata": {
  "kernelspec": {
   "display_name": "Python 3",
   "language": "python",
   "name": "python3"
  },
  "language_info": {
   "codemirror_mode": {
    "name": "ipython",
    "version": 3
   },
   "file_extension": ".py",
   "mimetype": "text/x-python",
   "name": "python",
   "nbconvert_exporter": "python",
   "pygments_lexer": "ipython3",
   "version": "3.8.8"
  }
 },
 "nbformat": 4,
 "nbformat_minor": 4
}
