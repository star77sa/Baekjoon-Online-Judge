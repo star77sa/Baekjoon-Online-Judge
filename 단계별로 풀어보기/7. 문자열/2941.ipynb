{
 "cells": [
  {
   "cell_type": "code",
   "execution_count": 38,
   "id": "contrary-excess",
   "metadata": {},
   "outputs": [
    {
     "name": "stdin",
     "output_type": "stream",
     "text": [
      " dz=ak\n"
     ]
    },
    {
     "name": "stdout",
     "output_type": "stream",
     "text": [
      "3\n"
     ]
    }
   ],
   "source": [
    "word = input()\n",
    "count = len(word)\n",
    "croatia = ['c=','c-','dz=','d-','lj','nj','s=','z=']\n",
    "\n",
    "for i in range(len(croatia)): \n",
    "    # 'dz='은 'dz='이라 1을빼고 'z='도 가지기에 또 1이 빠져서 결국 2가 알아서 빠져줌\n",
    "    count -= word.count(croatia[i])\n",
    "        \n",
    "print(count)"
   ]
  }
 ],
 "metadata": {
  "kernelspec": {
   "display_name": "Python 3",
   "language": "python",
   "name": "python3"
  },
  "language_info": {
   "codemirror_mode": {
    "name": "ipython",
    "version": 3
   },
   "file_extension": ".py",
   "mimetype": "text/x-python",
   "name": "python",
   "nbconvert_exporter": "python",
   "pygments_lexer": "ipython3",
   "version": "3.8.8"
  }
 },
 "nbformat": 4,
 "nbformat_minor": 5
}
