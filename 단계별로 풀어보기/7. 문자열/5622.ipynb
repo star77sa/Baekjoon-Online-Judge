{
 "cells": [
  {
   "cell_type": "code",
   "execution_count": null,
   "id": "streaming-vaccine",
   "metadata": {},
   "outputs": [],
   "source": [
    "word = input()\n",
    "length = len(word)\n",
    "time = 0\n",
    "\n",
    "for i in range(length):\n",
    "    if word[i] == 'A'  or word[i] == 'B' or word[i] == 'C': # 전부 각각 논리연산 써줘야한다.\n",
    "        time += 3\n",
    "    elif word[i] == 'D' or word[i] == 'E' or word[i] == 'F':\n",
    "        time += 4\n",
    "    elif word[i] == 'G' or word[i] == 'H' or word[i] == 'I':\n",
    "        time += 5\n",
    "    elif word[i] == 'J' or word[i] == 'K' or word[i] == 'L':\n",
    "        time += 6\n",
    "    elif word[i] == 'M' or word[i] == 'N' or word[i] == 'O':\n",
    "        time += 7\n",
    "    elif word[i] == 'P' or word[i] == 'Q' or word[i] == 'R' or word[i] == 'S':\n",
    "        time += 8\n",
    "    elif word[i] == 'T' or word[i] == 'U' or word[i] == 'V':\n",
    "        time += 9\n",
    "    else:\n",
    "        time += 10\n",
    "        \n",
    "print(time)"
   ]
  }
 ],
 "metadata": {
  "kernelspec": {
   "display_name": "Python 3",
   "language": "python",
   "name": "python3"
  },
  "language_info": {
   "codemirror_mode": {
    "name": "ipython",
    "version": 3
   },
   "file_extension": ".py",
   "mimetype": "text/x-python",
   "name": "python",
   "nbconvert_exporter": "python",
   "pygments_lexer": "ipython3",
   "version": "3.8.8"
  }
 },
 "nbformat": 4,
 "nbformat_minor": 5
}
