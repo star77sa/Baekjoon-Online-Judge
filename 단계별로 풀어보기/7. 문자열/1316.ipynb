{
 "cells": [
  {
   "cell_type": "markdown",
   "id": "cheap-triple",
   "metadata": {},
   "source": [
    "아이디어 : 'a' 의 위치를 찾고(fint/index), 'a'의 전체갯수를 구한 뒤(count)\n",
    "          첫번째에 a가 있는 위치에다가 (a의 전체갯수-1)를 더한 인덱스가 a 가 아니면 그 문자열은\n",
    "          그룹 단어가 아님. 그러므로 제외!!\n",
    "          \n",
    "(X) word = aabaa의 경우 그룹단어가 아닌데도 word[3] = 'a'가 성립...\n",
    "\n",
    "어떻게해볼까?\n",
    "\n",
    "(O) 'a'의 첫 위치에서 1부터 a의 총개수만큼 더한 위치까지 모든 문자 비교."
   ]
  },
  {
   "cell_type": "code",
   "execution_count": null,
   "id": "excited-mouth",
   "metadata": {},
   "outputs": [],
   "source": [
    "N = int(input())\n",
    "small = ['a','b','c','d','e','f','g','h','i','j','k','l','m','n',\n",
    "         'o','p','q','r','s','t','u','v','w','x','y','z']\n",
    "Many = N # 그룹문자의 개수\n",
    "\n",
    "for i in range(N): # 문자의 개수만큼 반복\n",
    "    word = input()\n",
    "    groupOX = 'O' # 그룹문자인지 구별\n",
    "    \n",
    "    for j in range(len(small)): # a ~ z까지 모든 문자 체크\n",
    "        position = word.find(small[j]) # 각 소문자의 위치\n",
    "        if position != -1: # 각 소문자가 존재할때만 체크\n",
    "            for k in range(word.count(small[j])): # 1부터 소문자의 갯수만큼 더하며 쭉 이어지는지 체크\n",
    "                if word[position] != word[position+k]: # 만약 이어지지 않는다면 ?\n",
    "                    groupOX = 'X'\n",
    "    \n",
    "    if groupOX == 'X':\n",
    "        Many = Many-1\n",
    "        \n",
    "print(Many)"
   ]
  }
 ],
 "metadata": {
  "kernelspec": {
   "display_name": "Python 3",
   "language": "python",
   "name": "python3"
  },
  "language_info": {
   "codemirror_mode": {
    "name": "ipython",
    "version": 3
   },
   "file_extension": ".py",
   "mimetype": "text/x-python",
   "name": "python",
   "nbconvert_exporter": "python",
   "pygments_lexer": "ipython3",
   "version": "3.8.8"
  }
 },
 "nbformat": 4,
 "nbformat_minor": 5
}
