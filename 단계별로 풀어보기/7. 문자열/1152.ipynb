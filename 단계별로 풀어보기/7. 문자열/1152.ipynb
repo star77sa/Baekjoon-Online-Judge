{
 "cells": [
  {
   "cell_type": "code",
   "execution_count": 9,
   "id": "dynamic-ribbon",
   "metadata": {},
   "outputs": [
    {
     "name": "stdin",
     "output_type": "stream",
     "text": [
      " string = input() str_list = string.split() print(len(str_list))\n"
     ]
    },
    {
     "name": "stdout",
     "output_type": "stream",
     "text": [
      "7\n"
     ]
    }
   ],
   "source": [
    "string = input()\n",
    "str_list = string.split()\n",
    "print(len(str_list))"
   ]
  },
  {
   "cell_type": "code",
   "execution_count": null,
   "id": "embedded-edmonton",
   "metadata": {},
   "outputs": [],
   "source": []
  }
 ],
 "metadata": {
  "kernelspec": {
   "display_name": "Python 3",
   "language": "python",
   "name": "python3"
  },
  "language_info": {
   "codemirror_mode": {
    "name": "ipython",
    "version": 3
   },
   "file_extension": ".py",
   "mimetype": "text/x-python",
   "name": "python",
   "nbconvert_exporter": "python",
   "pygments_lexer": "ipython3",
   "version": "3.8.8"
  }
 },
 "nbformat": 4,
 "nbformat_minor": 5
}
