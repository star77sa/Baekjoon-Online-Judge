{
 "cells": [
  {
   "cell_type": "code",
   "execution_count": 101,
   "id": "ready-student",
   "metadata": {},
   "outputs": [
    {
     "name": "stdin",
     "output_type": "stream",
     "text": [
      " 27\n"
     ]
    }
   ],
   "source": [
    "N = int(input())"
   ]
  },
  {
   "cell_type": "code",
   "execution_count": 102,
   "id": "related-astrology",
   "metadata": {},
   "outputs": [],
   "source": [
    "arr = [[' ' for i in range(2187)] for j in range(2187)]"
   ]
  },
  {
   "cell_type": "code",
   "execution_count": 103,
   "id": "declared-shooting",
   "metadata": {},
   "outputs": [],
   "source": [
    "def star(N, x, y):\n",
    "    \n",
    "    if N==3:\n",
    "        arr[x][y]='*';   arr[x+1][y]='*';   arr[x+2][y]='*'\n",
    "        arr[x][y+1]='*';                    arr[x+2][y+1]='*'\n",
    "        arr[x][y+2]='*'; arr[x+1][y+2]='*'; arr[x+2][y+2]='*'\n",
    "        \n",
    "        \n",
    "    else:\n",
    "        div = N//3\n",
    "        star(div, x, y);       star(div, x+div, y);       star(div, x+2*div, y)\n",
    "        star(div, x, y+div);                              star(div, x+2*div, y+div)\n",
    "        star(div, x, y+2*div); star(div, x+div, y+2*div); star(div, x+2*div, y+2*div)"
   ]
  },
  {
   "cell_type": "code",
   "execution_count": 104,
   "id": "fleet-phoenix",
   "metadata": {},
   "outputs": [],
   "source": [
    "star(N,0,0) # 배열만 적용"
   ]
  },
  {
   "cell_type": "code",
   "execution_count": 105,
   "id": "illegal-japan",
   "metadata": {},
   "outputs": [
    {
     "name": "stdout",
     "output_type": "stream",
     "text": [
      "***************************\n",
      "* ** ** ** ** ** ** ** ** *\n",
      "***************************\n",
      "***   ******   ******   ***\n",
      "* *   * ** *   * ** *   * *\n",
      "***   ******   ******   ***\n",
      "***************************\n",
      "* ** ** ** ** ** ** ** ** *\n",
      "***************************\n",
      "*********         *********\n",
      "* ** ** *         * ** ** *\n",
      "*********         *********\n",
      "***   ***         ***   ***\n",
      "* *   * *         * *   * *\n",
      "***   ***         ***   ***\n",
      "*********         *********\n",
      "* ** ** *         * ** ** *\n",
      "*********         *********\n",
      "***************************\n",
      "* ** ** ** ** ** ** ** ** *\n",
      "***************************\n",
      "***   ******   ******   ***\n",
      "* *   * ** *   * ** *   * *\n",
      "***   ******   ******   ***\n",
      "***************************\n",
      "* ** ** ** ** ** ** ** ** *\n",
      "***************************\n"
     ]
    }
   ],
   "source": [
    "for i in range(N):\n",
    "    for j in range(N):\n",
    "        print(arr[i][j], end='')\n",
    "    print()"
   ]
  },
  {
   "cell_type": "code",
   "execution_count": null,
   "id": "oriental-amendment",
   "metadata": {},
   "outputs": [],
   "source": []
  }
 ],
 "metadata": {
  "kernelspec": {
   "display_name": "Python 3",
   "language": "python",
   "name": "python3"
  },
  "language_info": {
   "codemirror_mode": {
    "name": "ipython",
    "version": 3
   },
   "file_extension": ".py",
   "mimetype": "text/x-python",
   "name": "python",
   "nbconvert_exporter": "python",
   "pygments_lexer": "ipython3",
   "version": "3.8.8"
  }
 },
 "nbformat": 4,
 "nbformat_minor": 5
}
