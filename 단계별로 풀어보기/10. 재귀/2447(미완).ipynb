{
 "cells": [
  {
   "cell_type": "markdown",
   "id": "alpine-summary",
   "metadata": {},
   "source": [
    "3x3 먼저 만들어보자."
   ]
  },
  {
   "cell_type": "code",
   "execution_count": 1,
   "id": "ahead-price",
   "metadata": {},
   "outputs": [
    {
     "name": "stdin",
     "output_type": "stream",
     "text": [
      " 1\n"
     ]
    }
   ],
   "source": [
    "n = int(input())\n",
    "def star(n):\n",
    "    print(\"***\\n\")\n",
    "    print(\"* *\\n\")\n",
    "    print(\"***\\n\")"
   ]
  },
  {
   "cell_type": "code",
   "execution_count": null,
   "id": "returning-forum",
   "metadata": {},
   "outputs": [],
   "source": []
  }
 ],
 "metadata": {
  "kernelspec": {
   "display_name": "Python 3",
   "language": "python",
   "name": "python3"
  },
  "language_info": {
   "codemirror_mode": {
    "name": "ipython",
    "version": 3
   },
   "file_extension": ".py",
   "mimetype": "text/x-python",
   "name": "python",
   "nbconvert_exporter": "python",
   "pygments_lexer": "ipython3",
   "version": "3.8.8"
  }
 },
 "nbformat": 4,
 "nbformat_minor": 5
}
