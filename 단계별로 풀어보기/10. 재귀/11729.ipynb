{
 "cells": [
  {
   "cell_type": "markdown",
   "id": "uniform-absorption",
   "metadata": {},
   "source": [
    "# 11729 하노이 탑 이동 순서"
   ]
  },
  {
   "cell_type": "code",
   "execution_count": 6,
   "id": "liquid-adobe",
   "metadata": {},
   "outputs": [],
   "source": [
    "cache = [0]*1048576 # cache[0] 을 카운트로쓰고 1부터 print값을 넣겠다.\n",
    "\n",
    "\n",
    "def hanoi_top(N, FROM , TMP, TO):\n",
    "\n",
    "    FROM = str(FROM)\n",
    "    TMP = str(TMP)\n",
    "    TO = str(TO)\n",
    "    if N == 1:\n",
    "#        print(FROM, TO)\n",
    "        cache[cache[0]+1] = FROM,TO #\n",
    "        cache[0] += 1\n",
    "        \n",
    "    else:\n",
    "        hanoi_top(N-1, FROM, TO, TMP)\n",
    "        \n",
    "#        print(FROM, TO)\n",
    "        cache[cache[0]+1] = FROM, TO\n",
    "        cache[0] +=1\n",
    "        \n",
    "        hanoi_top(N-1, TMP, FROM, TO)"
   ]
  },
  {
   "cell_type": "code",
   "execution_count": 7,
   "id": "floppy-mounting",
   "metadata": {},
   "outputs": [
    {
     "name": "stdin",
     "output_type": "stream",
     "text": [
      " 3\n"
     ]
    }
   ],
   "source": [
    "N = int(input())"
   ]
  },
  {
   "cell_type": "code",
   "execution_count": 8,
   "id": "straight-saver",
   "metadata": {},
   "outputs": [
    {
     "name": "stdout",
     "output_type": "stream",
     "text": [
      "7\n",
      "1 3\n",
      "1 2\n",
      "3 2\n",
      "1 3\n",
      "2 1\n",
      "2 3\n",
      "1 3\n"
     ]
    }
   ],
   "source": [
    "hanoi_top(N, 1, 2, 3)\n",
    "\n",
    "print(cache[0])\n",
    "for i in range(1, cache[0]+1):\n",
    "    print(\" \".join(cache[i]))"
   ]
  }
 ],
 "metadata": {
  "kernelspec": {
   "display_name": "Python 3",
   "language": "python",
   "name": "python3"
  },
  "language_info": {
   "codemirror_mode": {
    "name": "ipython",
    "version": 3
   },
   "file_extension": ".py",
   "mimetype": "text/x-python",
   "name": "python",
   "nbconvert_exporter": "python",
   "pygments_lexer": "ipython3",
   "version": "3.8.8"
  }
 },
 "nbformat": 4,
 "nbformat_minor": 5
}
