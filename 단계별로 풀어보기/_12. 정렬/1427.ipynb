{
 "cells": [
  {
   "cell_type": "markdown",
   "id": "charitable-zealand",
   "metadata": {},
   "source": [
    "# 1427 소트인사이드"
   ]
  },
  {
   "cell_type": "code",
   "execution_count": 4,
   "id": "fluid-failing",
   "metadata": {},
   "outputs": [
    {
     "name": "stdin",
     "output_type": "stream",
     "text": [
      " 2143\n"
     ]
    }
   ],
   "source": [
    "a = int(input())\n",
    "cache = []\n",
    "\n",
    "while a//10 > 0:\n",
    "    cache.append( a % 10 )\n",
    "    a = a//10\n",
    "    \n",
    "cache.append(a)"
   ]
  },
  {
   "cell_type": "code",
   "execution_count": 9,
   "id": "classical-triple",
   "metadata": {},
   "outputs": [],
   "source": [
    "cache.sort(reverse=True)"
   ]
  },
  {
   "cell_type": "code",
   "execution_count": 17,
   "id": "treated-movement",
   "metadata": {},
   "outputs": [
    {
     "name": "stdout",
     "output_type": "stream",
     "text": [
      "4321\n"
     ]
    }
   ],
   "source": [
    "print(''.join(list(map(str, cache))))"
   ]
  }
 ],
 "metadata": {
  "kernelspec": {
   "display_name": "Python 3",
   "language": "python",
   "name": "python3"
  },
  "language_info": {
   "codemirror_mode": {
    "name": "ipython",
    "version": 3
   },
   "file_extension": ".py",
   "mimetype": "text/x-python",
   "name": "python",
   "nbconvert_exporter": "python",
   "pygments_lexer": "ipython3",
   "version": "3.8.8"
  }
 },
 "nbformat": 4,
 "nbformat_minor": 5
}
