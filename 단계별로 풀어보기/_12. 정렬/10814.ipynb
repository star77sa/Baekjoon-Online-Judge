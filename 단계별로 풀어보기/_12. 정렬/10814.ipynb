{
 "cells": [
  {
   "cell_type": "markdown",
   "id": "directed-photography",
   "metadata": {},
   "source": [
    "# 10814 나이순 정렬"
   ]
  },
  {
   "cell_type": "code",
   "execution_count": 19,
   "id": "contained-solution",
   "metadata": {},
   "outputs": [
    {
     "name": "stdin",
     "output_type": "stream",
     "text": [
      " 21 Junkyu\n",
      " 21 Dohyun\n",
      " 20 Sunyoung\n"
     ]
    }
   ],
   "source": [
    "import sys\n",
    "\n",
    "\n",
    "N = int(sys.stdin.readline())\n",
    "A = []\n",
    "\n",
    "for i in range(N):\n",
    "    age, name = sys.stdin.readline().split()\n",
    "    age = int(age)\n",
    "    \n",
    "    A.append([age, name])"
   ]
  },
  {
   "cell_type": "code",
   "execution_count": 20,
   "id": "brazilian-symphony",
   "metadata": {},
   "outputs": [],
   "source": [
    "A.sort(key = lambda x: (x[0]))"
   ]
  },
  {
   "cell_type": "code",
   "execution_count": 26,
   "id": "nervous-windows",
   "metadata": {},
   "outputs": [
    {
     "name": "stdout",
     "output_type": "stream",
     "text": [
      "20 Sunyoung\n",
      "21 Junkyu\n",
      "21 Dohyun\n"
     ]
    }
   ],
   "source": [
    "for i in range(N):\n",
    "    print(*A[i])"
   ]
  },
  {
   "cell_type": "code",
   "execution_count": null,
   "id": "smart-bumper",
   "metadata": {},
   "outputs": [],
   "source": []
  }
 ],
 "metadata": {
  "kernelspec": {
   "display_name": "Python 3",
   "language": "python",
   "name": "python3"
  },
  "language_info": {
   "codemirror_mode": {
    "name": "ipython",
    "version": 3
   },
   "file_extension": ".py",
   "mimetype": "text/x-python",
   "name": "python",
   "nbconvert_exporter": "python",
   "pygments_lexer": "ipython3",
   "version": "3.8.8"
  }
 },
 "nbformat": 4,
 "nbformat_minor": 5
}
