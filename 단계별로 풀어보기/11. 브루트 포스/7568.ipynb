{
 "cells": [
  {
   "cell_type": "markdown",
   "id": "express-frederick",
   "metadata": {},
   "source": [
    "# 7568 덩치"
   ]
  },
  {
   "cell_type": "code",
   "execution_count": 1,
   "id": "usual-development",
   "metadata": {},
   "outputs": [
    {
     "name": "stdin",
     "output_type": "stream",
     "text": [
      " 5\n"
     ]
    }
   ],
   "source": [
    "N = int(input())"
   ]
  },
  {
   "cell_type": "code",
   "execution_count": 29,
   "id": "average-blade",
   "metadata": {},
   "outputs": [],
   "source": [
    "cache = [[0, 0, 1] for i in range(N)]"
   ]
  },
  {
   "cell_type": "code",
   "execution_count": 30,
   "id": "objective-luther",
   "metadata": {},
   "outputs": [
    {
     "name": "stdin",
     "output_type": "stream",
     "text": [
      " 55 185\n",
      " 58 183\n",
      " 88 186\n",
      " 60 175\n",
      " 46 155\n"
     ]
    }
   ],
   "source": [
    "for i in range(N):\n",
    "    cache[i][0], cache[i][1] = map(int, input().split())"
   ]
  },
  {
   "cell_type": "code",
   "execution_count": 31,
   "id": "smooth-gambling",
   "metadata": {},
   "outputs": [
    {
     "data": {
      "text/plain": [
       "[[55, 185, 1], [58, 183, 1], [88, 186, 1], [60, 175, 1], [46, 155, 1]]"
      ]
     },
     "execution_count": 31,
     "metadata": {},
     "output_type": "execute_result"
    }
   ],
   "source": [
    "cache"
   ]
  },
  {
   "cell_type": "code",
   "execution_count": 32,
   "id": "bright-begin",
   "metadata": {},
   "outputs": [],
   "source": [
    "for i in range(N):\n",
    "    for j in range(i+1, N):\n",
    "        if (cache[i][0] < cache[j][0]) & (cache[i][1] < cache[j][1]):\n",
    "            cache[i][2] += 1\n",
    "        elif (cache[i][0] > cache[j][0]) & (cache[i][1] > cache[j][1]):\n",
    "            cache[j][2] += 1"
   ]
  },
  {
   "cell_type": "code",
   "execution_count": 34,
   "id": "painted-cover",
   "metadata": {},
   "outputs": [
    {
     "name": "stdout",
     "output_type": "stream",
     "text": [
      "2 2 1 2 5 "
     ]
    }
   ],
   "source": [
    "for i in range(N):\n",
    "    print(cache[i][2], end=' ')"
   ]
  },
  {
   "cell_type": "code",
   "execution_count": null,
   "id": "vanilla-thermal",
   "metadata": {},
   "outputs": [],
   "source": []
  }
 ],
 "metadata": {
  "kernelspec": {
   "display_name": "Python 3",
   "language": "python",
   "name": "python3"
  },
  "language_info": {
   "codemirror_mode": {
    "name": "ipython",
    "version": 3
   },
   "file_extension": ".py",
   "mimetype": "text/x-python",
   "name": "python",
   "nbconvert_exporter": "python",
   "pygments_lexer": "ipython3",
   "version": "3.8.8"
  }
 },
 "nbformat": 4,
 "nbformat_minor": 5
}
