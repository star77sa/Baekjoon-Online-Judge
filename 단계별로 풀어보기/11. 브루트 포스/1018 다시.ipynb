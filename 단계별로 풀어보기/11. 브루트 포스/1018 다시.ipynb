{
 "cells": [
  {
   "cell_type": "markdown",
   "id": "active-document",
   "metadata": {},
   "source": [
    "# 1018 체스판 다시 칠하기"
   ]
  },
  {
   "cell_type": "code",
   "execution_count": 15,
   "id": "spare-installation",
   "metadata": {},
   "outputs": [
    {
     "name": "stdin",
     "output_type": "stream",
     "text": [
      " 10 13\n"
     ]
    }
   ],
   "source": [
    "N, M = map(int, input().split())"
   ]
  },
  {
   "cell_type": "code",
   "execution_count": 16,
   "id": "guided-fairy",
   "metadata": {},
   "outputs": [],
   "source": [
    "chess = []"
   ]
  },
  {
   "cell_type": "code",
   "execution_count": 17,
   "id": "filled-spanish",
   "metadata": {},
   "outputs": [],
   "source": [
    "data= []"
   ]
  },
  {
   "cell_type": "code",
   "execution_count": 18,
   "id": "advisory-denmark",
   "metadata": {},
   "outputs": [
    {
     "name": "stdin",
     "output_type": "stream",
     "text": [
      " BBBBBBBBWBWBW\n",
      " BBBBBBBBBWBWB\n",
      " BBBBBBBBWBWBW\n",
      " BBBBBBBBBWBWB\n",
      " BBBBBBBBWBWBW\n",
      " BBBBBBBBBWBWB\n",
      " BBBBBBBBWBWBW\n",
      " BBBBBBBBBWBWB\n",
      " WWWWWWWWWWBWB\n",
      " WWWWWWWWWWBWB\n"
     ]
    }
   ],
   "source": [
    "for i in range(N):\n",
    "    chess.append(list(input()))"
   ]
  },
  {
   "cell_type": "code",
   "execution_count": 27,
   "id": "capital-improvement",
   "metadata": {},
   "outputs": [],
   "source": [
    "for a in range(0, N-7):\n",
    "    for b in range(0, M-7):\n",
    "        \n",
    "        if chess[a][b] == 'W':\n",
    "            count1 = 0\n",
    "            count2 = 0\n",
    "            for i in range(a, a+8):\n",
    "                for j in range(b, b+8):\n",
    "                    if (i%2 == 1) & (j%2 == 0) & (chess[i][j] == 'W'):\n",
    "                        count1 += 1\n",
    "                    elif (i%2 == 1) & (j%2 == 1) & (chess[i][j] == 'B'):\n",
    "                        count2 += 1\n",
    "                    elif (i%2 == 0) & (j%2 == 0) & (chess[i][j] == 'B'):\n",
    "                        count2 += 1\n",
    "                    elif (i%2 == 0) & (j%2 == 1) & (chess[i][j] == 'W'):\n",
    "                        count1 += 1            \n",
    "            data.append(count1)\n",
    "            data.append(count2)\n",
    "    \n",
    "        else:\n",
    "            count1 = 0\n",
    "            count2 = 0\n",
    "            for i in range(a, a+8):\n",
    "                for j in range(b, b+8):\n",
    "                    if (i%2 == 1) & (j%2 == 0) & (chess[i][j] == 'B'):\n",
    "                        count1 += 1\n",
    "                    elif (i%2 == 1) & (j%2 == 1) & (chess[i][j] == 'W'):\n",
    "                        count2 += 1\n",
    "                    elif (i%2 == 0) & (j%2 == 0) & (chess[i][j] == 'W'):\n",
    "                        count2 += 1\n",
    "                    elif (i%2 == 0) & (j%2 == 1) & (chess[i][j] == 'B'):\n",
    "                        count1 += 1            \n",
    "            data.append(count1)\n",
    "            data.append(count2)"
   ]
  },
  {
   "cell_type": "code",
   "execution_count": 28,
   "id": "tender-league",
   "metadata": {},
   "outputs": [
    {
     "data": {
      "text/plain": [
       "[['B', 'B', 'B', 'B', 'B', 'B', 'B', 'B', 'W', 'B', 'W', 'B', 'W'],\n",
       " ['B', 'B', 'B', 'B', 'B', 'B', 'B', 'B', 'B', 'W', 'B', 'W', 'B'],\n",
       " ['B', 'B', 'B', 'B', 'B', 'B', 'B', 'B', 'W', 'B', 'W', 'B', 'W'],\n",
       " ['B', 'B', 'B', 'B', 'B', 'B', 'B', 'B', 'B', 'W', 'B', 'W', 'B'],\n",
       " ['B', 'B', 'B', 'B', 'B', 'B', 'B', 'B', 'W', 'B', 'W', 'B', 'W'],\n",
       " ['B', 'B', 'B', 'B', 'B', 'B', 'B', 'B', 'B', 'W', 'B', 'W', 'B'],\n",
       " ['B', 'B', 'B', 'B', 'B', 'B', 'B', 'B', 'W', 'B', 'W', 'B', 'W'],\n",
       " ['B', 'B', 'B', 'B', 'B', 'B', 'B', 'B', 'B', 'W', 'B', 'W', 'B'],\n",
       " ['W', 'W', 'W', 'W', 'W', 'W', 'W', 'W', 'W', 'W', 'B', 'W', 'B'],\n",
       " ['W', 'W', 'W', 'W', 'W', 'W', 'W', 'W', 'W', 'W', 'B', 'W', 'B']]"
      ]
     },
     "execution_count": 28,
     "metadata": {},
     "output_type": "execute_result"
    }
   ],
   "source": [
    "chess"
   ]
  },
  {
   "cell_type": "code",
   "execution_count": 29,
   "id": "generic-necklace",
   "metadata": {},
   "outputs": [
    {
     "data": {
      "text/plain": [
       "0"
      ]
     },
     "execution_count": 29,
     "metadata": {},
     "output_type": "execute_result"
    }
   ],
   "source": [
    "min(data)"
   ]
  },
  {
   "cell_type": "code",
   "execution_count": 30,
   "id": "hollywood-bones",
   "metadata": {},
   "outputs": [
    {
     "data": {
      "text/plain": [
       "[32,\n",
       " 36,\n",
       " 40,\n",
       " 44,\n",
       " 48,\n",
       " 52,\n",
       " 32,\n",
       " 35,\n",
       " 39,\n",
       " 41,\n",
       " 45,\n",
       " 47,\n",
       " 32,\n",
       " 35,\n",
       " 38,\n",
       " 41,\n",
       " 44,\n",
       " 47,\n",
       " 32,\n",
       " 0,\n",
       " 32,\n",
       " 4,\n",
       " 32,\n",
       " 8,\n",
       " 32,\n",
       " 12,\n",
       " 32,\n",
       " 16,\n",
       " 32,\n",
       " 20,\n",
       " 28,\n",
       " 4,\n",
       " 28,\n",
       " 7,\n",
       " 28,\n",
       " 11,\n",
       " 28,\n",
       " 13,\n",
       " 28,\n",
       " 17,\n",
       " 28,\n",
       " 19,\n",
       " 24,\n",
       " 8,\n",
       " 24,\n",
       " 11,\n",
       " 24,\n",
       " 14,\n",
       " 25,\n",
       " 16,\n",
       " 25,\n",
       " 19,\n",
       " 26,\n",
       " 21]"
      ]
     },
     "execution_count": 30,
     "metadata": {},
     "output_type": "execute_result"
    }
   ],
   "source": [
    "data"
   ]
  },
  {
   "cell_type": "code",
   "execution_count": null,
   "id": "seasonal-eugene",
   "metadata": {},
   "outputs": [],
   "source": []
  }
 ],
 "metadata": {
  "kernelspec": {
   "display_name": "Python 3",
   "language": "python",
   "name": "python3"
  },
  "language_info": {
   "codemirror_mode": {
    "name": "ipython",
    "version": 3
   },
   "file_extension": ".py",
   "mimetype": "text/x-python",
   "name": "python",
   "nbconvert_exporter": "python",
   "pygments_lexer": "ipython3",
   "version": "3.8.8"
  }
 },
 "nbformat": 4,
 "nbformat_minor": 5
}
