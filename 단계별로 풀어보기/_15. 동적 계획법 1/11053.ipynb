{
 "cells": [
  {
   "cell_type": "markdown",
   "id": "willing-medicine",
   "metadata": {},
   "source": [
    "# 11053 가장 긴 증가하는 부분 수열"
   ]
  },
  {
   "cell_type": "code",
   "execution_count": 37,
   "id": "blank-furniture",
   "metadata": {},
   "outputs": [
    {
     "name": "stdin",
     "output_type": "stream",
     "text": [
      " 6\n",
      " 10 20 10 30 20 50\n"
     ]
    },
    {
     "name": "stdout",
     "output_type": "stream",
     "text": [
      "[10, 20, 50, 30]\n"
     ]
    }
   ],
   "source": [
    "N = int(input())\n",
    "string = map(int, input().split())"
   ]
  },
  {
   "cell_type": "code",
   "execution_count": 40,
   "id": "offshore-omega",
   "metadata": {},
   "outputs": [],
   "source": [
    "dp = [0 for i in range (1000)]"
   ]
  },
  {
   "cell_type": "code",
   "execution_count": null,
   "id": "ecological-simpson",
   "metadata": {},
   "outputs": [],
   "source": [
    "count = 0\n",
    "for i in range(N):\n",
    "    if string[i]"
   ]
  }
 ],
 "metadata": {
  "kernelspec": {
   "display_name": "Python 3",
   "language": "python",
   "name": "python3"
  },
  "language_info": {
   "codemirror_mode": {
    "name": "ipython",
    "version": 3
   },
   "file_extension": ".py",
   "mimetype": "text/x-python",
   "name": "python",
   "nbconvert_exporter": "python",
   "pygments_lexer": "ipython3",
   "version": "3.8.8"
  }
 },
 "nbformat": 4,
 "nbformat_minor": 5
}
