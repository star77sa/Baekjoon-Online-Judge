{
 "cells": [
  {
   "cell_type": "markdown",
   "id": "coordinated-saturn",
   "metadata": {},
   "source": [
    "# 피보나치 함수"
   ]
  },
  {
   "cell_type": "code",
   "execution_count": 103,
   "id": "urban-deputy",
   "metadata": {},
   "outputs": [],
   "source": [
    "import sys\n",
    "\n",
    "cache0 = [0]*41\n",
    "cache1 = [0]*41\n",
    "\n",
    "cache0[0] = 1\n",
    "cache1[1] = 1\n",
    "\n",
    "for i in range(2,41):\n",
    "    cache0[i] = cache0[i-2] + cache0[i-1]\n",
    "    cache1[i] = cache1[i-2] + cache1[i-1]\n",
    "    \n",
    "T = int(sys.stdin.readline())\n",
    "\n",
    "for i in range(T):\n",
    "    n = int(sys.stdin.readline())\n",
    "    print(cache0[n], end=' ')\n",
    "    print(cache1[n])"
   ]
  },
  {
   "cell_type": "markdown",
   "id": "civilian-commerce",
   "metadata": {},
   "source": [
    "## ver 2 이중배열"
   ]
  },
  {
   "cell_type": "code",
   "execution_count": 123,
   "id": "solid-vitamin",
   "metadata": {},
   "outputs": [
    {
     "name": "stdin",
     "output_type": "stream",
     "text": [
      " 3\n",
      " 0\n"
     ]
    },
    {
     "name": "stdout",
     "output_type": "stream",
     "text": [
      "549755813888 549755813888\n"
     ]
    },
    {
     "name": "stdin",
     "output_type": "stream",
     "text": [
      " 1\n"
     ]
    },
    {
     "name": "stdout",
     "output_type": "stream",
     "text": [
      "549755813888 549755813888\n"
     ]
    },
    {
     "name": "stdin",
     "output_type": "stream",
     "text": [
      " 3\n"
     ]
    },
    {
     "name": "stdout",
     "output_type": "stream",
     "text": [
      "549755813888 549755813888\n"
     ]
    }
   ],
   "source": [
    "import sys\n",
    "\n",
    "cache = [[0, 0] for _ in range(41)]\n",
    "\n",
    "cache[0][0] = 1\n",
    "cache[1][1] = 1\n",
    "\n",
    "for i in range(2,41):\n",
    "    cache[i][0] = cache[i-2][0] + cache[i-1][0]\n",
    "    cache[i][1] = cache[i-2][1] + cache[i-1][1]\n",
    "    \n",
    "T = int(sys.stdin.readline())\n",
    "#T = int(input())\n",
    "\n",
    "for i in range(T):\n",
    "    n = int(sys.stdin.readline())\n",
    "#    n = int(input())\n",
    "    print(cache[n][0], end=' ')\n",
    "    print(cache[n][1])"
   ]
  }
 ],
 "metadata": {
  "kernelspec": {
   "display_name": "Python 3",
   "language": "python",
   "name": "python3"
  },
  "language_info": {
   "codemirror_mode": {
    "name": "ipython",
    "version": 3
   },
   "file_extension": ".py",
   "mimetype": "text/x-python",
   "name": "python",
   "nbconvert_exporter": "python",
   "pygments_lexer": "ipython3",
   "version": "3.8.8"
  }
 },
 "nbformat": 4,
 "nbformat_minor": 5
}
