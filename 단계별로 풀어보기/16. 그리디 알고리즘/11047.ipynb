{
 "cells": [
  {
   "cell_type": "code",
   "execution_count": 22,
   "id": "expensive-malaysia",
   "metadata": {},
   "outputs": [
    {
     "name": "stdin",
     "output_type": "stream",
     "text": [
      " 2 4\n"
     ]
    }
   ],
   "source": [
    "N, K = map(int, input().split())"
   ]
  },
  {
   "cell_type": "code",
   "execution_count": 23,
   "id": "invisible-level",
   "metadata": {},
   "outputs": [],
   "source": [
    "cache = ['' for i in range(N)]"
   ]
  },
  {
   "cell_type": "code",
   "execution_count": null,
   "id": "dynamic-aquatic",
   "metadata": {},
   "outputs": [],
   "source": [
    "for i in range(N):\n",
    "    a = int(input())\n",
    "    cache[i] = a\n",
    "\n",
    "t = 0\n",
    "\n",
    "while K != 0:\n",
    "    N = N-1\n",
    "    t = t + K//cache[N]\n",
    "    K = K%cache[N]\n",
    "\n",
    "print(t)"
   ]
  },
  {
   "cell_type": "code",
   "execution_count": null,
   "id": "classified-green",
   "metadata": {},
   "outputs": [],
   "source": []
  }
 ],
 "metadata": {
  "kernelspec": {
   "display_name": "Python 3",
   "language": "python",
   "name": "python3"
  },
  "language_info": {
   "codemirror_mode": {
    "name": "ipython",
    "version": 3
   },
   "file_extension": ".py",
   "mimetype": "text/x-python",
   "name": "python",
   "nbconvert_exporter": "python",
   "pygments_lexer": "ipython3",
   "version": "3.8.8"
  }
 },
 "nbformat": 4,
 "nbformat_minor": 5
}
