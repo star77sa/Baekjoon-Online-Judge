{
 "cells": [
  {
   "cell_type": "markdown",
   "id": "sixth-parent",
   "metadata": {},
   "source": [
    "# 1931 회의"
   ]
  },
  {
   "cell_type": "code",
   "execution_count": null,
   "id": "special-google",
   "metadata": {},
   "outputs": [],
   "source": [
    "import sys"
   ]
  },
  {
   "cell_type": "code",
   "execution_count": 1,
   "id": "adjusted-complaint",
   "metadata": {},
   "outputs": [
    {
     "name": "stdin",
     "output_type": "stream",
     "text": [
      " 11\n"
     ]
    }
   ],
   "source": [
    "N = int(sys.stdin.readline())\n",
    "cache = [[0,0] for i in range(N)]"
   ]
  },
  {
   "cell_type": "code",
   "execution_count": 4,
   "id": "built-victoria",
   "metadata": {},
   "outputs": [
    {
     "name": "stdin",
     "output_type": "stream",
     "text": [
      " 1 4\n",
      " 3 5\n",
      " 0 6\n",
      " 5 7\n",
      " 3 8\n",
      " 5 9\n",
      " 6 10\n",
      " 8 11\n",
      " 8 12\n",
      " 2 13\n",
      " 12 14\n"
     ]
    }
   ],
   "source": [
    "for i in range(N):\n",
    "    f,b = map(int,sys.stdin.readline().split())\n",
    "    cache[i][0] = f\n",
    "    cache[i][1] = b\n",
    "    \n",
    "cache.sort(key=lambda x: x[0] )\n",
    "cache.sort(key=lambda x: x[1] )\n",
    "\n",
    "cnt = 0\n",
    "last = 0\n",
    "for i in range(N):\n",
    "    if cache[i][0] > last:\n",
    "        last = cache[i][1]\n",
    "        cnt += 1\n",
    "        \n",
    "print (cnt)"
   ]
  }
 ],
 "metadata": {
  "kernelspec": {
   "display_name": "Python 3",
   "language": "python",
   "name": "python3"
  },
  "language_info": {
   "codemirror_mode": {
    "name": "ipython",
    "version": 3
   },
   "file_extension": ".py",
   "mimetype": "text/x-python",
   "name": "python",
   "nbconvert_exporter": "python",
   "pygments_lexer": "ipython3",
   "version": "3.8.8"
  }
 },
 "nbformat": 4,
 "nbformat_minor": 5
}
