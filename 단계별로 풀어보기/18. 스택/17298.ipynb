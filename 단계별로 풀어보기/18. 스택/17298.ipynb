{
 "cells": [
  {
   "cell_type": "markdown",
   "id": "freelance-salem",
   "metadata": {},
   "source": [
    "# 17298 오큰수"
   ]
  },
  {
   "cell_type": "markdown",
   "id": "alternate-pension",
   "metadata": {},
   "source": [
    "# `스택 풀이법`"
   ]
  },
  {
   "cell_type": "markdown",
   "id": "binding-bacon",
   "metadata": {},
   "source": [
    "수정본"
   ]
  },
  {
   "cell_type": "code",
   "execution_count": 71,
   "id": "affected-story",
   "metadata": {},
   "outputs": [
    {
     "name": "stdin",
     "output_type": "stream",
     "text": [
      " 4\n",
      " 3 5 4 2\n"
     ]
    }
   ],
   "source": [
    "# import sys\n",
    "\n",
    "#N = int(sys.stdin.readline())\n",
    "N = int(input())\n",
    "\n",
    "NGE = [-1] * N # 나중에 슬라이싱 후 언패킹하자.\n",
    "stack = []\n",
    "\n",
    "dp = list(map(int, input().split())) # 값을 넣는 곳\n",
    "#dp = list(map(int, sys.stdin.readline().split())) # 값을 넣는 곳"
   ]
  },
  {
   "cell_type": "code",
   "execution_count": 72,
   "id": "sized-blackberry",
   "metadata": {},
   "outputs": [
    {
     "name": "stdout",
     "output_type": "stream",
     "text": [
      "5 -1 -1 -1"
     ]
    }
   ],
   "source": [
    "stack.append(0)\n",
    "\n",
    "i= 1\n",
    "while stack and i<N:\n",
    "    while stack and dp[stack[-1]] < dp[i]:\n",
    "        NGE[stack[-1]] = dp[i]\n",
    "        stack.pop()\n",
    "    \n",
    "    stack.append(i)\n",
    "    i += 1\n",
    "    \n",
    "print(*NGE[:N], end='') # 이 end 안했더니 틀렸다뜨네;;"
   ]
  },
  {
   "cell_type": "markdown",
   "id": "occupied-snake",
   "metadata": {},
   "source": [
    "---"
   ]
  },
  {
   "cell_type": "markdown",
   "id": "steady-capacity",
   "metadata": {},
   "source": [
    "# `틀린 풀이법` O(N^2)"
   ]
  },
  {
   "cell_type": "code",
   "execution_count": 46,
   "id": "fantastic-comparison",
   "metadata": {},
   "outputs": [
    {
     "name": "stdin",
     "output_type": "stream",
     "text": [
      " \n"
     ]
    },
    {
     "ename": "ValueError",
     "evalue": "invalid literal for int() with base 10: ''",
     "output_type": "error",
     "traceback": [
      "\u001b[1;31m---------------------------------------------------------------------------\u001b[0m",
      "\u001b[1;31mValueError\u001b[0m                                Traceback (most recent call last)",
      "\u001b[1;32m<ipython-input-46-1a044b96a32f>\u001b[0m in \u001b[0;36m<module>\u001b[1;34m\u001b[0m\n\u001b[0;32m      1\u001b[0m \u001b[1;32mimport\u001b[0m \u001b[0msys\u001b[0m\u001b[1;33m\u001b[0m\u001b[1;33m\u001b[0m\u001b[0m\n\u001b[0;32m      2\u001b[0m \u001b[1;31m# N = int(sys.stdin.readline())\u001b[0m\u001b[1;33m\u001b[0m\u001b[1;33m\u001b[0m\u001b[1;33m\u001b[0m\u001b[0m\n\u001b[1;32m----> 3\u001b[1;33m \u001b[0mN\u001b[0m \u001b[1;33m=\u001b[0m \u001b[0mint\u001b[0m\u001b[1;33m(\u001b[0m\u001b[0minput\u001b[0m\u001b[1;33m(\u001b[0m\u001b[1;33m)\u001b[0m\u001b[1;33m)\u001b[0m\u001b[1;33m\u001b[0m\u001b[1;33m\u001b[0m\u001b[0m\n\u001b[0m\u001b[0;32m      4\u001b[0m \u001b[1;33m\u001b[0m\u001b[0m\n\u001b[0;32m      5\u001b[0m \u001b[1;31m# dp = list(map(int, sys.stdin.readline().split()))\u001b[0m\u001b[1;33m\u001b[0m\u001b[1;33m\u001b[0m\u001b[1;33m\u001b[0m\u001b[0m\n",
      "\u001b[1;31mValueError\u001b[0m: invalid literal for int() with base 10: ''"
     ]
    }
   ],
   "source": [
    "import sys\n",
    "# N = int(sys.stdin.readline())\n",
    "N = int(input())\n",
    "\n",
    "# dp = list(map(int, sys.stdin.readline().split()))\n",
    "dp = list(map(int, input().split()))\n",
    "ans = [0] * N\n",
    "\n",
    "for i in range(N):\n",
    "    count = i\n",
    "    if i<N-1 : # i = 0, 1, 2, ... , N-1 이고, 맨 마지막 수일때는 무조건 -1..\n",
    "        while dp[i] > dp[count+1]:\n",
    "            count = count + 1\n",
    "            # print('while', count)\n",
    "            if count+1 == N:\n",
    "                break\n",
    "        \n",
    "    if (count+1 == N) | (i == N-1):\n",
    "#        print(-1, end=' ')\n",
    "        ans[i] = -1\n",
    "    elif (count+1 == N-1) & (dp[i] >= dp[N-1]):\n",
    "#        print(-1, end=' ')\n",
    "        ans[i] = -1\n",
    "    \n",
    "    else:\n",
    "#        print(dp[count+1], end=' ')\n",
    "        ans[i] = dp[count+1]\n",
    "    \n",
    "print(*ans)"
   ]
  },
  {
   "cell_type": "code",
   "execution_count": null,
   "id": "cooked-cartridge",
   "metadata": {},
   "outputs": [],
   "source": []
  }
 ],
 "metadata": {
  "kernelspec": {
   "display_name": "Python 3",
   "language": "python",
   "name": "python3"
  },
  "language_info": {
   "codemirror_mode": {
    "name": "ipython",
    "version": 3
   },
   "file_extension": ".py",
   "mimetype": "text/x-python",
   "name": "python",
   "nbconvert_exporter": "python",
   "pygments_lexer": "ipython3",
   "version": "3.8.8"
  }
 },
 "nbformat": 4,
 "nbformat_minor": 5
}
