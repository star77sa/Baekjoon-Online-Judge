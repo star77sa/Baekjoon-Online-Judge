{
 "cells": [
  {
   "cell_type": "markdown",
   "id": "russian-lightning",
   "metadata": {},
   "source": [
    "# 10828 스택"
   ]
  },
  {
   "cell_type": "code",
   "execution_count": 52,
   "id": "earlier-daisy",
   "metadata": {},
   "outputs": [],
   "source": [
    "import sys\n",
    "\n",
    "class stack():\n",
    "    \n",
    "    data = ['-' for i in range(10001)]\n",
    "    top_ = -1\n",
    "    \n",
    "    def push(self, a):\n",
    "        if self.top_ != 10000:\n",
    "            self.top_ = self.top_ + 1\n",
    "            self.data[self.top_] = a\n",
    "#        else:\n",
    "#            print(\"Stack over flow\")\n",
    "    \n",
    "    def pop(self):\n",
    "        if self.top_ != -1:\n",
    "            print(self.data[self.top_])\n",
    "            self.top_ -= 1\n",
    "            \n",
    "        else:\n",
    "            print(self.top_)\n",
    "            \n",
    "    def size(self):\n",
    "        print(self.top_+1)\n",
    "        \n",
    "    def empty(self):\n",
    "        if self.top_ == -1:\n",
    "            print(1)\n",
    "        else:\n",
    "            print(0)\n",
    "    \n",
    "    def top(self):\n",
    "        if self.top_ != -1:\n",
    "            print(self.data[self.top_])\n",
    "        else:\n",
    "            print(-1)"
   ]
  },
  {
   "cell_type": "code",
   "execution_count": 53,
   "id": "level-barbados",
   "metadata": {},
   "outputs": [],
   "source": [
    "st = stack()"
   ]
  },
  {
   "cell_type": "code",
   "execution_count": 54,
   "id": "swedish-arthritis",
   "metadata": {},
   "outputs": [
    {
     "name": "stdin",
     "output_type": "stream",
     "text": [
      " 14\n"
     ]
    }
   ],
   "source": [
    "N = int(sys.stdin.readline())\n",
    "#N = int(input())"
   ]
  },
  {
   "cell_type": "code",
   "execution_count": 55,
   "id": "bright-palace",
   "metadata": {},
   "outputs": [
    {
     "name": "stdin",
     "output_type": "stream",
     "text": [
      " push 1\n",
      " push 2\n",
      " top\n"
     ]
    },
    {
     "name": "stdout",
     "output_type": "stream",
     "text": [
      "2\n"
     ]
    },
    {
     "name": "stdin",
     "output_type": "stream",
     "text": [
      " size\n"
     ]
    },
    {
     "name": "stdout",
     "output_type": "stream",
     "text": [
      "2\n"
     ]
    },
    {
     "name": "stdin",
     "output_type": "stream",
     "text": [
      " empty\n"
     ]
    },
    {
     "name": "stdout",
     "output_type": "stream",
     "text": [
      "0\n"
     ]
    },
    {
     "name": "stdin",
     "output_type": "stream",
     "text": [
      " pop\n"
     ]
    },
    {
     "name": "stdout",
     "output_type": "stream",
     "text": [
      "2\n"
     ]
    },
    {
     "name": "stdin",
     "output_type": "stream",
     "text": [
      " pop\n"
     ]
    },
    {
     "name": "stdout",
     "output_type": "stream",
     "text": [
      "1\n"
     ]
    },
    {
     "name": "stdin",
     "output_type": "stream",
     "text": [
      " pop\n"
     ]
    },
    {
     "name": "stdout",
     "output_type": "stream",
     "text": [
      "-1\n"
     ]
    },
    {
     "name": "stdin",
     "output_type": "stream",
     "text": [
      " size\n"
     ]
    },
    {
     "name": "stdout",
     "output_type": "stream",
     "text": [
      "0\n"
     ]
    },
    {
     "name": "stdin",
     "output_type": "stream",
     "text": [
      " empty\n"
     ]
    },
    {
     "name": "stdout",
     "output_type": "stream",
     "text": [
      "1\n"
     ]
    },
    {
     "name": "stdin",
     "output_type": "stream",
     "text": [
      " pop\n"
     ]
    },
    {
     "name": "stdout",
     "output_type": "stream",
     "text": [
      "-1\n"
     ]
    },
    {
     "name": "stdin",
     "output_type": "stream",
     "text": [
      " push 3\n",
      " empty\n"
     ]
    },
    {
     "name": "stdout",
     "output_type": "stream",
     "text": [
      "0\n"
     ]
    },
    {
     "name": "stdin",
     "output_type": "stream",
     "text": [
      " top\n"
     ]
    },
    {
     "name": "stdout",
     "output_type": "stream",
     "text": [
      "3\n"
     ]
    }
   ],
   "source": [
    "for i in range(N):\n",
    "    string = input()\n",
    "    if string.count(\" \") != 0:\n",
    "        fun, num = string.split()\n",
    "        if fun == 'push':\n",
    "            st.push(num)\n",
    "    \n",
    "    elif string == 'pop':\n",
    "        st.pop()\n",
    "\n",
    "    elif string == 'size':\n",
    "        st.size()\n",
    "        \n",
    "    elif string == 'empty':\n",
    "        st.empty()\n",
    "    \n",
    "    elif string == 'top':\n",
    "        st.top()    "
   ]
  },
  {
   "cell_type": "markdown",
   "id": "quick-highway",
   "metadata": {},
   "source": [
    "---\n",
    "그냥 함수로 정의해서 해보자..."
   ]
  },
  {
   "cell_type": "code",
   "execution_count": 75,
   "id": "numeric-tolerance",
   "metadata": {},
   "outputs": [],
   "source": [
    "import sys\n",
    "\n",
    "data = ['-' for i in range(10000)]\n",
    "top_ = -1\n",
    "    \n",
    "def push(top_, a):\n",
    "    if top_ != 9999:\n",
    "        top_ = top_ + 1\n",
    "        data[top_] = a\n",
    "    return top_\n",
    "#        else:\n",
    "#            print(\"Stack over flow\")\n",
    "    \n",
    "def pop(top_):\n",
    "    if top_ != -1:\n",
    "        print(data[top_])\n",
    "        top_ -= 1\n",
    "            \n",
    "    else:\n",
    "        print(top_)\n",
    "    return top_\n",
    "            \n",
    "def size():\n",
    "    print(top_+1)\n",
    "        \n",
    "def empty():\n",
    "    if top_ == -1:\n",
    "        print(1)\n",
    "    else:\n",
    "        print(0)\n",
    "    \n",
    "def top():\n",
    "    if top_ != -1:\n",
    "        print(data[top_])\n",
    "    else:\n",
    "        print(-1)"
   ]
  },
  {
   "cell_type": "code",
   "execution_count": 77,
   "id": "permanent-small",
   "metadata": {},
   "outputs": [
    {
     "name": "stdin",
     "output_type": "stream",
     "text": [
      " 10\n",
      " top\n"
     ]
    },
    {
     "name": "stdout",
     "output_type": "stream",
     "text": [
      "-1\n"
     ]
    },
    {
     "name": "stdin",
     "output_type": "stream",
     "text": [
      " top\n"
     ]
    },
    {
     "name": "stdout",
     "output_type": "stream",
     "text": [
      "-1\n"
     ]
    },
    {
     "name": "stdin",
     "output_type": "stream",
     "text": [
      " top\n"
     ]
    },
    {
     "name": "stdout",
     "output_type": "stream",
     "text": [
      "-1\n"
     ]
    },
    {
     "name": "stdin",
     "output_type": "stream",
     "text": [
      " top\n"
     ]
    },
    {
     "name": "stdout",
     "output_type": "stream",
     "text": [
      "-1\n"
     ]
    },
    {
     "name": "stdin",
     "output_type": "stream",
     "text": [
      " top\n"
     ]
    },
    {
     "name": "stdout",
     "output_type": "stream",
     "text": [
      "-1\n"
     ]
    },
    {
     "name": "stdin",
     "output_type": "stream",
     "text": [
      " size\n"
     ]
    },
    {
     "name": "stdout",
     "output_type": "stream",
     "text": [
      "0\n"
     ]
    },
    {
     "name": "stdin",
     "output_type": "stream",
     "text": [
      " push  100\n",
      " top\n"
     ]
    },
    {
     "name": "stdout",
     "output_type": "stream",
     "text": [
      "100\n"
     ]
    },
    {
     "name": "stdin",
     "output_type": "stream",
     "text": [
      " push 100 100\n"
     ]
    },
    {
     "ename": "ValueError",
     "evalue": "too many values to unpack (expected 2)",
     "output_type": "error",
     "traceback": [
      "\u001b[1;31m---------------------------------------------------------------------------\u001b[0m",
      "\u001b[1;31mValueError\u001b[0m                                Traceback (most recent call last)",
      "\u001b[1;32m<ipython-input-77-dc0169b0e12c>\u001b[0m in \u001b[0;36m<module>\u001b[1;34m\u001b[0m\n\u001b[0;32m      7\u001b[0m \u001b[1;33m\u001b[0m\u001b[0m\n\u001b[0;32m      8\u001b[0m     \u001b[1;32mif\u001b[0m \u001b[0mstring\u001b[0m\u001b[1;33m.\u001b[0m\u001b[0mcount\u001b[0m\u001b[1;33m(\u001b[0m\u001b[1;34m\" \"\u001b[0m\u001b[1;33m)\u001b[0m \u001b[1;33m!=\u001b[0m \u001b[1;36m0\u001b[0m\u001b[1;33m:\u001b[0m\u001b[1;33m\u001b[0m\u001b[1;33m\u001b[0m\u001b[0m\n\u001b[1;32m----> 9\u001b[1;33m         \u001b[0mfun\u001b[0m\u001b[1;33m,\u001b[0m \u001b[0mnum\u001b[0m \u001b[1;33m=\u001b[0m \u001b[0mstring\u001b[0m\u001b[1;33m.\u001b[0m\u001b[0msplit\u001b[0m\u001b[1;33m(\u001b[0m\u001b[1;33m)\u001b[0m\u001b[1;33m\u001b[0m\u001b[1;33m\u001b[0m\u001b[0m\n\u001b[0m\u001b[0;32m     10\u001b[0m         \u001b[1;32mif\u001b[0m \u001b[0mfun\u001b[0m \u001b[1;33m==\u001b[0m \u001b[1;34m'push'\u001b[0m\u001b[1;33m:\u001b[0m\u001b[1;33m\u001b[0m\u001b[1;33m\u001b[0m\u001b[0m\n\u001b[0;32m     11\u001b[0m             \u001b[0mtop_\u001b[0m \u001b[1;33m=\u001b[0m \u001b[0mpush\u001b[0m\u001b[1;33m(\u001b[0m\u001b[0mtop_\u001b[0m\u001b[1;33m,\u001b[0m \u001b[0mnum\u001b[0m\u001b[1;33m)\u001b[0m\u001b[1;33m\u001b[0m\u001b[1;33m\u001b[0m\u001b[0m\n",
      "\u001b[1;31mValueError\u001b[0m: too many values to unpack (expected 2)"
     ]
    }
   ],
   "source": [
    "#N = int(sys.stdin.readline())\n",
    "N = int(input())\n",
    "\n",
    "for i in range(N):\n",
    "    #string = sys.stdin.readline()\n",
    "    string = input()\n",
    "\n",
    "    if string.count(\" \") != 0:\n",
    "        fun, num = string.split()\n",
    "        if fun == 'push':\n",
    "            top_ = push(top_, num)\n",
    "    \n",
    "    elif string == 'pop':\n",
    "        top_ = pop(top_)\n",
    "\n",
    "    elif string == 'size':\n",
    "        size()\n",
    "        \n",
    "    elif string == 'empty':\n",
    "        empty()\n",
    "    \n",
    "    elif string == 'top':\n",
    "        top()    "
   ]
  },
  {
   "cell_type": "markdown",
   "id": "cognitive-october",
   "metadata": {},
   "source": [
    "# "
   ]
  }
 ],
 "metadata": {
  "kernelspec": {
   "display_name": "Python 3",
   "language": "python",
   "name": "python3"
  },
  "language_info": {
   "codemirror_mode": {
    "name": "ipython",
    "version": 3
   },
   "file_extension": ".py",
   "mimetype": "text/x-python",
   "name": "python",
   "nbconvert_exporter": "python",
   "pygments_lexer": "ipython3",
   "version": "3.8.8"
  }
 },
 "nbformat": 4,
 "nbformat_minor": 5
}
