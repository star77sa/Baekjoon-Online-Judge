{
 "cells": [
  {
   "cell_type": "markdown",
   "id": "flexible-landscape",
   "metadata": {},
   "source": [
    "# 10773 제로"
   ]
  },
  {
   "cell_type": "code",
   "execution_count": 22,
   "id": "double-success",
   "metadata": {},
   "outputs": [],
   "source": [
    "import sys\n",
    "\n",
    "class stack():\n",
    "    data = [0 for i in range(1000000)]\n",
    "    top_ = -1\n",
    "    def push(self, a):\n",
    "        if self.top_ != 999999:\n",
    "            self.top_ = self.top_ + 1\n",
    "            self.data[self.top_] = a\n",
    "#        else:\n",
    "#            print(\"Stack over flow\")\n",
    "\n",
    "    def pop(self):\n",
    "        if self.top_ != -1:\n",
    "            print(self.data[self.top_])\n",
    "            self.top_ -= 1     \n",
    "        else:\n",
    "            print(self.top_)\n",
    "            \n",
    "    def remove(self):\n",
    "        if self.top_ != -1:\n",
    "            self.data[self.top_] = 0\n",
    "            self.top_ -= 1    \n",
    "        else:\n",
    "            print(self.top_)        \n",
    "            \n",
    "    def size(self):\n",
    "        print(self.top_+1)\n",
    "        \n",
    "    def empty(self):\n",
    "        if self.top_ == -1:\n",
    "            print(1)\n",
    "        else:\n",
    "            print(0)\n",
    "    \n",
    "    def top(self):\n",
    "        if self.top_ != -1:\n",
    "            print(self.data[self.top_])\n",
    "        else:\n",
    "            print(-1)\n",
    "            \n",
    "st = stack()\n",
    "#K = int(input())\n",
    "K = int(sys.stdin.readline())\n",
    "for i in range(K):\n",
    "#    n = int(input())\n",
    "    n = int(sys.stdin.readline())\n",
    "    if n != 0:\n",
    "        st.push(n)\n",
    "    else:\n",
    "        st.remove()\n",
    "\n",
    "print(sum(st.data))"
   ]
  }
 ],
 "metadata": {
  "kernelspec": {
   "display_name": "Python 3",
   "language": "python",
   "name": "python3"
  },
  "language_info": {
   "codemirror_mode": {
    "name": "ipython",
    "version": 3
   },
   "file_extension": ".py",
   "mimetype": "text/x-python",
   "name": "python",
   "nbconvert_exporter": "python",
   "pygments_lexer": "ipython3",
   "version": "3.8.8"
  }
 },
 "nbformat": 4,
 "nbformat_minor": 5
}
