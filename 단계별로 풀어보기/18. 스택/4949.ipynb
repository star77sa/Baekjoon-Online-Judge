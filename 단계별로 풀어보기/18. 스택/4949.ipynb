{
 "cells": [
  {
   "cell_type": "markdown",
   "id": "novel-seven",
   "metadata": {},
   "source": [
    "# 4949 균형잡힌 세상"
   ]
  },
  {
   "cell_type": "code",
   "execution_count": 16,
   "id": "surprised-planet",
   "metadata": {},
   "outputs": [
    {
     "name": "stdin",
     "output_type": "stream",
     "text": [
      " .\n"
     ]
    }
   ],
   "source": [
    "import sys\n",
    "\n",
    "class stack():\n",
    "    data = [0 for i in range(1000000)]\n",
    "    top_ = -1\n",
    "    YorN = 'yes'\n",
    "    \n",
    "    def push(self, a):\n",
    "        self.top_ = self.top_ + 1\n",
    "        self.data[self.top_] = a\n",
    "#        else:\n",
    "#            print(\"Stack over flow\")\n",
    "\n",
    "    def pop(self):\n",
    "        if self.top_ != -1:\n",
    "            print(self.data[self.top_])\n",
    "            self.top_ -= 1     \n",
    "        else:\n",
    "            print(self.top_)\n",
    "            \n",
    "    def remove(self, a):\n",
    "        if self.top_ != -1 :\n",
    "            if (a == ')') & (self.data[self.top_] == '(')  :\n",
    "                self.data[self.top_] == 0\n",
    "                self.top_ -= 1\n",
    "            elif (a == ']') & (self.data[self.top_] == '[')  :\n",
    "                self.data[self.top_] == 0\n",
    "                self.top_ -= 1\n",
    "            else:\n",
    "                self.YorN = 'no'  # 이부분이 없었어서 틀렸었음.. remove해야되는데 짝이 안맞는 경우 no 처리.\n",
    "        else:\n",
    "            self.YorN = 'no'\n",
    "            \n",
    "    def size(self):\n",
    "        print(self.top_+1)\n",
    "        \n",
    "    def empty(self):\n",
    "        if self.top_ == -1:\n",
    "            return 1\n",
    "        else:\n",
    "            return 0\n",
    "    \n",
    "    def top(self):\n",
    "        if self.top_ != -1:\n",
    "            print(self.data[self.top_])\n",
    "        else:\n",
    "            print(-1)\n",
    "            \n",
    "\n",
    "#K = int(input())\n",
    "#K = int(sys.stdin.readline())\n",
    "string = ''\n",
    "while string != '.':\n",
    "    st = stack()\n",
    "#    string = sys.stdin.readline()\n",
    "    string = input()\n",
    "    for j in range(len(string)):\n",
    "        if (string[j] == '(') | (string[j] == '['):\n",
    "            st.push(string[j])\n",
    "        elif (string[j] == ')') | (string[j] == ']'):\n",
    "            st.remove(string[j])\n",
    "    if st.empty() == 0:\n",
    "        st.YorN = 'no'\n",
    "    \n",
    "    if string == '.':\n",
    "        break\n",
    "    print(st.YorN)"
   ]
  },
  {
   "cell_type": "code",
   "execution_count": null,
   "id": "married-wellington",
   "metadata": {},
   "outputs": [],
   "source": []
  }
 ],
 "metadata": {
  "kernelspec": {
   "display_name": "Python 3",
   "language": "python",
   "name": "python3"
  },
  "language_info": {
   "codemirror_mode": {
    "name": "ipython",
    "version": 3
   },
   "file_extension": ".py",
   "mimetype": "text/x-python",
   "name": "python",
   "nbconvert_exporter": "python",
   "pygments_lexer": "ipython3",
   "version": "3.8.8"
  }
 },
 "nbformat": 4,
 "nbformat_minor": 5
}
