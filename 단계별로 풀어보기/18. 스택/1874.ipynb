{
 "cells": [
  {
   "cell_type": "markdown",
   "id": "assisted-arbor",
   "metadata": {},
   "source": [
    "# 1874 스택수열"
   ]
  },
  {
   "cell_type": "code",
   "execution_count": 3,
   "id": "pharmaceutical-absolute",
   "metadata": {},
   "outputs": [],
   "source": [
    "def push(a, top):\n",
    "    top = top + 1\n",
    "    stackarr[top] = a\n",
    "    return top"
   ]
  },
  {
   "cell_type": "code",
   "execution_count": 4,
   "id": "powered-crowd",
   "metadata": {},
   "outputs": [],
   "source": [
    "def pop(top):\n",
    "    stackarr[top] = 0\n",
    "    top = top - 1\n",
    "    return top"
   ]
  },
  {
   "cell_type": "code",
   "execution_count": 16,
   "id": "divine-savings",
   "metadata": {},
   "outputs": [
    {
     "name": "stdin",
     "output_type": "stream",
     "text": [
      " 5\n",
      " 1\n",
      " 2\n",
      " 5\n",
      " 3\n",
      " 4\n"
     ]
    },
    {
     "name": "stdout",
     "output_type": "stream",
     "text": [
      "NO\n",
      "5\n"
     ]
    }
   ],
   "source": [
    "import sys\n",
    "#n = int(input())\n",
    "n = int(sys.stdin.readline())\n",
    "stackarr = [' '] * 200000 # Stack\n",
    "top = -1 \n",
    "\n",
    "memory = [' '] * 300000 # +, -를 담을 공간\n",
    "memc = 0 # memory의 갯수\n",
    "\n",
    "count = 1 # 1부터 시작, 스택에 넣을 숫자. 계속 +1\n",
    "\n",
    "for i in range(n):\n",
    "    #a = int(input())\n",
    "    a = int(sys.stdin.readline())\n",
    "    while a != stackarr[top]: # 스택의 맨 위에있는 숫자먼저 비교. 같으면 꺼냄, 다르면 푸쉬\n",
    "        top = push(count, top) # 달라서 푸쉬\n",
    "        count += 1\n",
    "        memory[memc] = ('+')\n",
    "        memc +=1\n",
    "        if memc > 2*n: # NO 인경우, 무한히 증가하여 break\n",
    "            break\n",
    "    if memc < 2*n: # Yes인\n",
    "        top = pop(top)\n",
    "        memory[memc] = ('-')\n",
    "        memc +=1\n",
    "    \n",
    "if memc > 2*n:\n",
    "    print(\"NO\")\n",
    "else:\n",
    "    print(\"\\n\".join(\"\\n\".join(memory).split()))"
   ]
  }
 ],
 "metadata": {
  "kernelspec": {
   "display_name": "Python 3",
   "language": "python",
   "name": "python3"
  },
  "language_info": {
   "codemirror_mode": {
    "name": "ipython",
    "version": 3
   },
   "file_extension": ".py",
   "mimetype": "text/x-python",
   "name": "python",
   "nbconvert_exporter": "python",
   "pygments_lexer": "ipython3",
   "version": "3.8.8"
  }
 },
 "nbformat": 4,
 "nbformat_minor": 5
}
