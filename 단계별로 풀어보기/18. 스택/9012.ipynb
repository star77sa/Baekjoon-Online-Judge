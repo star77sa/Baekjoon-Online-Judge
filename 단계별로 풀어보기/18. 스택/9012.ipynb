{
 "cells": [
  {
   "cell_type": "markdown",
   "id": "authorized-generator",
   "metadata": {},
   "source": [
    "# 9012 괄호"
   ]
  },
  {
   "cell_type": "markdown",
   "id": "persistent-advertising",
   "metadata": {},
   "source": [
    "스택"
   ]
  },
  {
   "cell_type": "code",
   "execution_count": 12,
   "id": "worthy-opera",
   "metadata": {},
   "outputs": [
    {
     "name": "stdin",
     "output_type": "stream",
     "text": [
      " 3\n",
      " ((\n"
     ]
    },
    {
     "name": "stdout",
     "output_type": "stream",
     "text": [
      "NO\n"
     ]
    },
    {
     "name": "stdin",
     "output_type": "stream",
     "text": [
      " ))\n"
     ]
    },
    {
     "name": "stdout",
     "output_type": "stream",
     "text": [
      "NO\n"
     ]
    },
    {
     "name": "stdin",
     "output_type": "stream",
     "text": [
      " ())(()\n"
     ]
    },
    {
     "name": "stdout",
     "output_type": "stream",
     "text": [
      "NO\n"
     ]
    }
   ],
   "source": [
    "import sys\n",
    "\n",
    "class stack():\n",
    "    data = [0 for i in range(1000000)]\n",
    "    top_ = -1\n",
    "    YorN = 'YES'\n",
    "    \n",
    "    def push(self, a):\n",
    "        if self.top_ != 999999:\n",
    "            self.top_ = self.top_ + 1\n",
    "            self.data[self.top_] = a\n",
    "#        else:\n",
    "#            print(\"Stack over flow\")\n",
    "\n",
    "    def pop(self):\n",
    "        if self.top_ != -1:\n",
    "            print(self.data[self.top_])\n",
    "            self.top_ -= 1     \n",
    "        else:\n",
    "            print(self.top_)\n",
    "            \n",
    "    def remove(self):\n",
    "        if self.top_ != -1:\n",
    "            self.data[self.top_] = 0\n",
    "            self.top_ -= 1\n",
    "            \n",
    "        else:\n",
    "            self.YorN = 'NO'\n",
    "            \n",
    "    def size(self):\n",
    "        print(self.top_+1)\n",
    "        \n",
    "    def empty(self):\n",
    "        if self.top_ == -1:\n",
    "            return 1\n",
    "        else:\n",
    "            return 0\n",
    "    \n",
    "    def top(self):\n",
    "        if self.top_ != -1:\n",
    "            print(self.data[self.top_])\n",
    "        else:\n",
    "            print(-1)\n",
    "            \n",
    "\n",
    "K = int(input())\n",
    "#K = int(sys.stdin.readline())\n",
    "\n",
    "for i in range(K):\n",
    "    st = stack()\n",
    "#    string = sys.stdin.readline()\n",
    "    string = input()\n",
    "    for j in range(len(string)):\n",
    "        if string[j] == '(':\n",
    "            st.push('(')\n",
    "        else:\n",
    "            st.remove()\n",
    "    if st.empty() == 0:\n",
    "        st.YorN = 'NO'\n",
    "    print(st.YorN)"
   ]
  },
  {
   "cell_type": "code",
   "execution_count": null,
   "id": "connected-float",
   "metadata": {},
   "outputs": [],
   "source": []
  }
 ],
 "metadata": {
  "kernelspec": {
   "display_name": "Python 3",
   "language": "python",
   "name": "python3"
  },
  "language_info": {
   "codemirror_mode": {
    "name": "ipython",
    "version": 3
   },
   "file_extension": ".py",
   "mimetype": "text/x-python",
   "name": "python",
   "nbconvert_exporter": "python",
   "pygments_lexer": "ipython3",
   "version": "3.8.8"
  }
 },
 "nbformat": 4,
 "nbformat_minor": 5
}
