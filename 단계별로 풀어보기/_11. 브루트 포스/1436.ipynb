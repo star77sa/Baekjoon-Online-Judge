{
 "cells": [
  {
   "cell_type": "markdown",
   "id": "vertical-glossary",
   "metadata": {},
   "source": [
    "# 1436 영화감독 숌"
   ]
  },
  {
   "cell_type": "code",
   "execution_count": 11,
   "id": "elementary-summit",
   "metadata": {},
   "outputs": [
    {
     "name": "stdin",
     "output_type": "stream",
     "text": [
      " 100\n"
     ]
    }
   ],
   "source": [
    "count = 0\n",
    "temp = 0\n",
    "N = int(input())\n",
    "i = 0"
   ]
  },
  {
   "cell_type": "code",
   "execution_count": 12,
   "id": "mechanical-provider",
   "metadata": {},
   "outputs": [
    {
     "name": "stdout",
     "output_type": "stream",
     "text": [
      "54666\n"
     ]
    }
   ],
   "source": [
    "while count != N:\n",
    "    if str(i).count(\"666\") != 0:\n",
    "        count += 1\n",
    "        temp = i\n",
    "    i += 1\n",
    "print(temp)"
   ]
  }
 ],
 "metadata": {
  "kernelspec": {
   "display_name": "Python 3",
   "language": "python",
   "name": "python3"
  },
  "language_info": {
   "codemirror_mode": {
    "name": "ipython",
    "version": 3
   },
   "file_extension": ".py",
   "mimetype": "text/x-python",
   "name": "python",
   "nbconvert_exporter": "python",
   "pygments_lexer": "ipython3",
   "version": "3.8.8"
  }
 },
 "nbformat": 4,
 "nbformat_minor": 5
}
