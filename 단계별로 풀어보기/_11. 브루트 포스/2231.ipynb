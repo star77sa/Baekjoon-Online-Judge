{
 "cells": [
  {
   "cell_type": "markdown",
   "id": "understanding-leisure",
   "metadata": {},
   "source": [
    "# 2231 분해합"
   ]
  },
  {
   "cell_type": "code",
   "execution_count": 8,
   "id": "agreed-feature",
   "metadata": {},
   "outputs": [
    {
     "name": "stdin",
     "output_type": "stream",
     "text": [
      " 1000000\n"
     ]
    }
   ],
   "source": [
    "N = int(input())"
   ]
  },
  {
   "cell_type": "code",
   "execution_count": 9,
   "id": "herbal-manor",
   "metadata": {},
   "outputs": [
    {
     "name": "stdout",
     "output_type": "stream",
     "text": [
      "0\n"
     ]
    }
   ],
   "source": [
    "for i in range(1,N+1):\n",
    "    n = i\n",
    "    temp = i\n",
    "    while temp // 10 != 0:\n",
    "        n = n + temp % 10\n",
    "        temp = temp // 10\n",
    "    n += temp\n",
    "    if N == n:\n",
    "        break\n",
    "    \n",
    "if i == N:\n",
    "    print(0)\n",
    "else:\n",
    "    print(i)"
   ]
  }
 ],
 "metadata": {
  "kernelspec": {
   "display_name": "Python 3",
   "language": "python",
   "name": "python3"
  },
  "language_info": {
   "codemirror_mode": {
    "name": "ipython",
    "version": 3
   },
   "file_extension": ".py",
   "mimetype": "text/x-python",
   "name": "python",
   "nbconvert_exporter": "python",
   "pygments_lexer": "ipython3",
   "version": "3.8.8"
  }
 },
 "nbformat": 4,
 "nbformat_minor": 5
}
