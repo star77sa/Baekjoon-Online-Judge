{
 "cells": [
  {
   "cell_type": "markdown",
   "id": "forty-magnet",
   "metadata": {},
   "source": [
    "# 11866 요세푸스 문제 0"
   ]
  },
  {
   "cell_type": "markdown",
   "id": "encouraging-bradley",
   "metadata": {},
   "source": [
    "```python\n",
    "list.pop을 사용하기에 ... 다음 K을 더할때는 원래값이 사라진상태에서 더해지므로 하나가 더 가게됨. 따라서\n",
    "K-1을 더하고, 전체 갯수로 나누어 나머지만 볼 것..\n",
    "\n",
    "N, K = 7, 3의 경우에는... \n",
    "인덱스가 2 > 4 > 1 > 3 > 2 > 0 > 0 순서인데\n",
    "차례로\n",
    "3-1\n",
    "(2+2) % 6\n",
    "(4+2) % 5\n",
    "(1+2) % 4\n",
    "(3+2) % 3\n",
    "(2+2) % 2\n",
    "(0+2) % 1          # (이전수 + 2 % 현재 리스트의 갯수)\n",
    "로 나타낼 수 있다.. \n",
    "다만 시간복잡도가 걱정이네. Good 68ms 무난무난\n",
    "```"
   ]
  },
  {
   "cell_type": "markdown",
   "id": "recovered-eclipse",
   "metadata": {},
   "source": [
    "```\n",
    "큐의아이디어 이용, front 설정해놓고 3번째를 없앨때마다 뒤로 보낼것.\n",
    "why?? list.remove는 시간복잡도가 너무 큼.\n",
    "```"
   ]
  },
  {
   "cell_type": "code",
   "execution_count": 41,
   "id": "fixed-iraqi",
   "metadata": {},
   "outputs": [
    {
     "name": "stdin",
     "output_type": "stream",
     "text": [
      " 7 3\n"
     ]
    }
   ],
   "source": [
    "import sys\n",
    "# N, K = map(int, input().split())\n",
    "N, K = map(int, sys.stdin.readline().split())"
   ]
  },
  {
   "cell_type": "code",
   "execution_count": 125,
   "id": "appointed-balloon",
   "metadata": {},
   "outputs": [
    {
     "name": "stdout",
     "output_type": "stream",
     "text": [
      "<3, 6, 2, 7, 5, 1, 4>\n"
     ]
    }
   ],
   "source": [
    "front = K-1\n",
    "data = [i for i in range(1, N+1)]\n",
    "result = []\n",
    "\n",
    "while len(data) != 0: # N 일지도. 나중체크.\n",
    "    result.append(data.pop(front))\n",
    "    if len(data) != 0: # 끝부분에 0으로 나누는 것 방지\n",
    "        front = ((front + K-1) % len(data)) # 원래수 하나를 뺐으니까. \n",
    "        \n",
    "result = map(str, result)        \n",
    "print('<' + ', '.join(result) + '>')"
   ]
  }
 ],
 "metadata": {
  "kernelspec": {
   "display_name": "Python 3",
   "language": "python",
   "name": "python3"
  },
  "language_info": {
   "codemirror_mode": {
    "name": "ipython",
    "version": 3
   },
   "file_extension": ".py",
   "mimetype": "text/x-python",
   "name": "python",
   "nbconvert_exporter": "python",
   "pygments_lexer": "ipython3",
   "version": "3.8.8"
  }
 },
 "nbformat": 4,
 "nbformat_minor": 5
}
