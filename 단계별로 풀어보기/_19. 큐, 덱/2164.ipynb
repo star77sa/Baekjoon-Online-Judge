{
 "cells": [
  {
   "cell_type": "markdown",
   "id": "portable-vaccine",
   "metadata": {},
   "source": [
    "# 2164 카드 2 (18258 구현 큐 사용)"
   ]
  },
  {
   "cell_type": "code",
   "execution_count": 127,
   "id": "included-intellectual",
   "metadata": {},
   "outputs": [],
   "source": [
    "import sys\n",
    "\n",
    "class queue():\n",
    "    \n",
    "    top = -1\n",
    "    ft = 0\n",
    "    data = []\n",
    "    \n",
    "    def push(self, a):\n",
    "        self.top = self.top + 1\n",
    "        self.data[self.top] = a\n",
    "        \n",
    "    def pop(self):\n",
    "        if (self.top + 1) != self.ft:\n",
    "            tmp = self.data[self.ft]\n",
    "            self.ft = self.ft + 1 # list.remove는 시간복잡도가 n임\n",
    "            return tmp            # 그래서 맨 앞 ft를 top 처럼 사용할것.\n",
    "        else:\n",
    "            print(-1)"
   ]
  },
  {
   "cell_type": "code",
   "execution_count": 131,
   "id": "maritime-publication",
   "metadata": {},
   "outputs": [],
   "source": [
    "que = queue()"
   ]
  },
  {
   "cell_type": "code",
   "execution_count": 132,
   "id": "green-eclipse",
   "metadata": {},
   "outputs": [
    {
     "name": "stdin",
     "output_type": "stream",
     "text": [
      " 6\n"
     ]
    }
   ],
   "source": [
    "N = int(input())"
   ]
  },
  {
   "cell_type": "code",
   "execution_count": 133,
   "id": "mental-flooring",
   "metadata": {},
   "outputs": [],
   "source": [
    "que.data = [i for i in range(1, N+1)] + [0 for i in range (500000)]\n",
    "que.top = N-1"
   ]
  },
  {
   "cell_type": "code",
   "execution_count": 139,
   "id": "modified-sister",
   "metadata": {},
   "outputs": [],
   "source": [
    "while (que.top + 1) != que.ft :\n",
    "    tmp = que.pop()\n",
    "    if (que.top + 1) != que.ft: # 이 조건을 안달고 이어서했더니 틀렸었음.\n",
    "        tmp = que.pop()\n",
    "        que.push(tmp)"
   ]
  },
  {
   "cell_type": "code",
   "execution_count": 140,
   "id": "national-given",
   "metadata": {},
   "outputs": [
    {
     "name": "stdout",
     "output_type": "stream",
     "text": [
      "4\n"
     ]
    }
   ],
   "source": [
    "print(que.data[que.ft-1])"
   ]
  }
 ],
 "metadata": {
  "kernelspec": {
   "display_name": "Python 3",
   "language": "python",
   "name": "python3"
  },
  "language_info": {
   "codemirror_mode": {
    "name": "ipython",
    "version": 3
   },
   "file_extension": ".py",
   "mimetype": "text/x-python",
   "name": "python",
   "nbconvert_exporter": "python",
   "pygments_lexer": "ipython3",
   "version": "3.8.8"
  }
 },
 "nbformat": 4,
 "nbformat_minor": 5
}
