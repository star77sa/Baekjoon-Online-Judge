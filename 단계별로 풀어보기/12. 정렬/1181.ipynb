{
 "cells": [
  {
   "cell_type": "markdown",
   "id": "expressed-amino",
   "metadata": {},
   "source": [
    "# 1181 단어정렬"
   ]
  },
  {
   "cell_type": "code",
   "execution_count": 20,
   "id": "angry-communication",
   "metadata": {},
   "outputs": [
    {
     "name": "stdin",
     "output_type": "stream",
     "text": [
      " 13\n",
      " but\n",
      " i\n",
      " wont\n",
      " hesitate\n",
      " no\n",
      " \n",
      " more\n",
      " no\n",
      " it\n",
      " cannot\n",
      " wait\n",
      " im\n",
      " yours\n"
     ]
    },
    {
     "name": "stdout",
     "output_type": "stream",
     "text": [
      "\n",
      "i\n",
      "im\n",
      "it\n",
      "no\n",
      "but\n",
      "more\n",
      "wait\n",
      "wont\n",
      "yours\n",
      "cannot\n",
      "hesitate\n"
     ]
    }
   ],
   "source": [
    "import sys\n",
    "N = int(input())\n",
    "cache = []\n",
    "for i in range(N):\n",
    "    a = str(input())\n",
    "    cache.append((a, len(a)))\n",
    "\n",
    "cache = list(set(cache))\n",
    "cache.sort(key = lambda x: (x[1], x[0]))\n",
    "for i in range(len(cache)):\n",
    "    print(cache[i][0])"
   ]
  },
  {
   "cell_type": "code",
   "execution_count": null,
   "id": "adequate-importance",
   "metadata": {},
   "outputs": [],
   "source": []
  }
 ],
 "metadata": {
  "kernelspec": {
   "display_name": "Python 3",
   "language": "python",
   "name": "python3"
  },
  "language_info": {
   "codemirror_mode": {
    "name": "ipython",
    "version": 3
   },
   "file_extension": ".py",
   "mimetype": "text/x-python",
   "name": "python",
   "nbconvert_exporter": "python",
   "pygments_lexer": "ipython3",
   "version": "3.8.8"
  }
 },
 "nbformat": 4,
 "nbformat_minor": 5
}
