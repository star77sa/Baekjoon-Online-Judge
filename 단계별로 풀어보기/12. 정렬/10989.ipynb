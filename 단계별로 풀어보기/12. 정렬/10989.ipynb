{
 "cells": [
  {
   "cell_type": "markdown",
   "id": "chemical-cooperation",
   "metadata": {},
   "source": [
    "# 10989 수 정렬하기 3"
   ]
  },
  {
   "cell_type": "code",
   "execution_count": 7,
   "id": "instrumental-factory",
   "metadata": {},
   "outputs": [
    {
     "name": "stdin",
     "output_type": "stream",
     "text": [
      " 5\n",
      " 2\n",
      " 3\n",
      " 1\n",
      " 4\n",
      " 2\n",
      " 3\n",
      " 5\n",
      " 1\n",
      " 7\n"
     ]
    },
    {
     "name": "stdout",
     "output_type": "stream",
     "text": [
      "1\n",
      "1\n",
      "1\n",
      "1\n",
      "2\n",
      "2\n",
      "2\n",
      "2\n",
      "3\n",
      "3\n",
      "3\n",
      "3\n",
      "4\n",
      "4\n",
      "5\n",
      "5\n",
      "5\n",
      "5\n",
      "7\n",
      "10\n"
     ]
    }
   ],
   "source": [
    "data = [0 for i in range(10001)]\n",
    "\n",
    "N = int(input())\n",
    "\n",
    "for i in range(N):\n",
    "    a = int(input())\n",
    "    data[a] += 1\n",
    "    \n",
    "for i in range(10001):\n",
    "    for j in range(data[i]):\n",
    "        print(i)"
   ]
  },
  {
   "cell_type": "code",
   "execution_count": null,
   "id": "advance-mileage",
   "metadata": {},
   "outputs": [],
   "source": []
  }
 ],
 "metadata": {
  "kernelspec": {
   "display_name": "Python 3",
   "language": "python",
   "name": "python3"
  },
  "language_info": {
   "codemirror_mode": {
    "name": "ipython",
    "version": 3
   },
   "file_extension": ".py",
   "mimetype": "text/x-python",
   "name": "python",
   "nbconvert_exporter": "python",
   "pygments_lexer": "ipython3",
   "version": "3.8.8"
  }
 },
 "nbformat": 4,
 "nbformat_minor": 5
}
