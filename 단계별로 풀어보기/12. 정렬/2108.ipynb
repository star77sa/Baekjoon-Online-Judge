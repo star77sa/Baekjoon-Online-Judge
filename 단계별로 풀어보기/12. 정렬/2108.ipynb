{
 "cells": [
  {
   "cell_type": "markdown",
   "id": "dynamic-array",
   "metadata": {},
   "source": [
    "# 2108 통계학"
   ]
  },
  {
   "cell_type": "code",
   "execution_count": 3,
   "id": "hydraulic-secondary",
   "metadata": {},
   "outputs": [],
   "source": [
    "import sys\n",
    "from collections import Counter"
   ]
  },
  {
   "cell_type": "code",
   "execution_count": 14,
   "id": "charged-ebony",
   "metadata": {},
   "outputs": [
    {
     "name": "stdin",
     "output_type": "stream",
     "text": [
      " 5\n",
      " -1\n",
      " -2\n",
      " -3\n",
      " -1\n",
      " -2\n"
     ]
    },
    {
     "name": "stdout",
     "output_type": "stream",
     "text": [
      "-2\n",
      "-2\n",
      "-1\n",
      "2\n"
     ]
    }
   ],
   "source": [
    "#N = int(input()) \n",
    "N = int(sys.stdin.readline())\n",
    "\n",
    "data = [0 for i in range(N)]\n",
    "for i in range(N):\n",
    "    data[i] = int(sys.stdin.readline())\n",
    "    #data[i] = int(input())\n",
    "    \n",
    "data.sort()\n",
    "\n",
    "print(round(sum(data)/len(data)))\n",
    "\n",
    "length = len(data)\n",
    "if length%2 == 1:\n",
    "    print(data[(length+1)//2-1])\n",
    "else:\n",
    "    print((data[(length/2)-1] + data[((length/2 +1)/2)]-1) / 2)\n",
    "\n",
    "mod = Counter(data).most_common()\n",
    "if length != 1:\n",
    "    \n",
    "    if mod[0][1] == mod[1][1]:\n",
    "        print(mod[1][0])\n",
    "    else:\n",
    "        print(mod[0][0])\n",
    "else:\n",
    "    print(data[0])\n",
    "\n",
    "print(max(data)-min(data))"
   ]
  }
 ],
 "metadata": {
  "kernelspec": {
   "display_name": "Python 3",
   "language": "python",
   "name": "python3"
  },
  "language_info": {
   "codemirror_mode": {
    "name": "ipython",
    "version": 3
   },
   "file_extension": ".py",
   "mimetype": "text/x-python",
   "name": "python",
   "nbconvert_exporter": "python",
   "pygments_lexer": "ipython3",
   "version": "3.8.8"
  }
 },
 "nbformat": 4,
 "nbformat_minor": 5
}
