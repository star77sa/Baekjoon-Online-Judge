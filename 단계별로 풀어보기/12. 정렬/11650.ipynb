{
 "cells": [
  {
   "cell_type": "markdown",
   "id": "conservative-pursuit",
   "metadata": {},
   "source": [
    "# 11650 좌표 정렬하기"
   ]
  },
  {
   "cell_type": "code",
   "execution_count": 4,
   "id": "closed-swiss",
   "metadata": {},
   "outputs": [
    {
     "name": "stdin",
     "output_type": "stream",
     "text": [
      " 3 4\n",
      " 1 1\n",
      " 1 -1\n",
      " 2 2\n",
      " 3 3\n"
     ]
    }
   ],
   "source": [
    "import sys\n",
    "N = int(sys.stdin.readline())\n",
    "cache = []\n",
    "for i in range(N):\n",
    "    cache.append(list(map(int, sys.stdin.readline().split())))\n",
    "cache.sort(key = lambda x: (x[0], x[1]))\n",
    "for i in range(N):\n",
    "    print(*cache[i])"
   ]
  }
 ],
 "metadata": {
  "kernelspec": {
   "display_name": "Python 3",
   "language": "python",
   "name": "python3"
  },
  "language_info": {
   "codemirror_mode": {
    "name": "ipython",
    "version": 3
   },
   "file_extension": ".py",
   "mimetype": "text/x-python",
   "name": "python",
   "nbconvert_exporter": "python",
   "pygments_lexer": "ipython3",
   "version": "3.8.8"
  }
 },
 "nbformat": 4,
 "nbformat_minor": 5
}
