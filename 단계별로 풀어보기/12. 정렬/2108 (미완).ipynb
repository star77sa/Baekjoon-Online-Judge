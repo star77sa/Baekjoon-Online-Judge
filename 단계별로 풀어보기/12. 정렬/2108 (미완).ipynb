{
 "cells": [
  {
   "cell_type": "code",
   "execution_count": null,
   "id": "sacred-ottawa",
   "metadata": {},
   "outputs": [],
   "source": [
    "import sys"
   ]
  },
  {
   "cell_type": "code",
   "execution_count": 22,
   "id": "soviet-wheat",
   "metadata": {},
   "outputs": [],
   "source": [
    "def average(a):\n",
    "    sum_ = sum(a)\n",
    "    length = len(a)\n",
    "    return round(sum_/length)\n",
    "\n",
    "def med(a):\n",
    "    length = len(a)\n",
    "    if length%2 == 1:\n",
    "        return a[int((length+1)/2) -1]\n",
    "    else:\n",
    "        return (a[int(length/2)-1] + a[int((length/2 + 1)/2)-1])/2\n",
    "    \n",
    "#def mode(a):\n",
    "#    num = []\n",
    "#    many = []\n",
    "\n",
    "def range_(a):\n",
    "    return max(a) - min(a)"
   ]
  },
  {
   "cell_type": "code",
   "execution_count": 31,
   "id": "statistical-return",
   "metadata": {},
   "outputs": [],
   "source": [
    "N = int(input()) # N = int(sys.stdin.readline())\n",
    "\n",
    "data = []\n",
    "for i in range(N):\n",
    "    data.append(int(input()))\n",
    "    data.sort()\n",
    "\n",
    "print(average(data))\n",
    "print(med(data))\n",
    "print(mode)\n",
    "print(range_(data))"
   ]
  }
 ],
 "metadata": {
  "kernelspec": {
   "display_name": "Python 3",
   "language": "python",
   "name": "python3"
  },
  "language_info": {
   "codemirror_mode": {
    "name": "ipython",
    "version": 3
   },
   "file_extension": ".py",
   "mimetype": "text/x-python",
   "name": "python",
   "nbconvert_exporter": "python",
   "pygments_lexer": "ipython3",
   "version": "3.8.8"
  }
 },
 "nbformat": 4,
 "nbformat_minor": 5
}
