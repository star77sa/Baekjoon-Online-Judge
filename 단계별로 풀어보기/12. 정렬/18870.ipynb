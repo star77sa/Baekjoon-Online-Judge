{
 "cells": [
  {
   "cell_type": "markdown",
   "id": "stopped-prize",
   "metadata": {},
   "source": [
    "\n",
    "# 18870 좌표 압축"
   ]
  },
  {
   "cell_type": "code",
   "execution_count": 69,
   "id": "useful-dallas",
   "metadata": {},
   "outputs": [
    {
     "name": "stdin",
     "output_type": "stream",
     "text": [
      " 6\n"
     ]
    }
   ],
   "source": [
    "import sys\n",
    "\n",
    "N = int(sys.stdin.readline())"
   ]
  },
  {
   "cell_type": "code",
   "execution_count": 84,
   "id": "public-literature",
   "metadata": {},
   "outputs": [
    {
     "name": "stdin",
     "output_type": "stream",
     "text": [
      "  1000 999 1000 999 1000 999\n"
     ]
    }
   ],
   "source": [
    "data = []\n",
    "data = list(map(int, sys.stdin.readline().split()))\n",
    "data2 = list(set(data))"
   ]
  },
  {
   "cell_type": "code",
   "execution_count": 85,
   "id": "respected-staff",
   "metadata": {},
   "outputs": [],
   "source": [
    "data2 = sorted(data2)"
   ]
  },
  {
   "cell_type": "code",
   "execution_count": 87,
   "id": "hydraulic-stopping",
   "metadata": {},
   "outputs": [],
   "source": [
    "order = { data2[i] : i for i in range(len(data2))}"
   ]
  },
  {
   "cell_type": "code",
   "execution_count": 89,
   "id": "cheap-developer",
   "metadata": {},
   "outputs": [
    {
     "name": "stdout",
     "output_type": "stream",
     "text": [
      "1 0 1 0 1 0 "
     ]
    }
   ],
   "source": [
    "for i in range(N):\n",
    "    print(order[data[i]], end=' ')"
   ]
  }
 ],
 "metadata": {
  "kernelspec": {
   "display_name": "Python 3",
   "language": "python",
   "name": "python3"
  },
  "language_info": {
   "codemirror_mode": {
    "name": "ipython",
    "version": 3
   },
   "file_extension": ".py",
   "mimetype": "text/x-python",
   "name": "python",
   "nbconvert_exporter": "python",
   "pygments_lexer": "ipython3",
   "version": "3.8.8"
  }
 },
 "nbformat": 4,
 "nbformat_minor": 5
}
