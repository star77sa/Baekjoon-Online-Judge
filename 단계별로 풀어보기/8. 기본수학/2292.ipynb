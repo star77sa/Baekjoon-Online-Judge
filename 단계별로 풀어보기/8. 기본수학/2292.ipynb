{
 "cells": [
  {
   "cell_type": "code",
   "execution_count": 20,
   "id": "muslim-monroe",
   "metadata": {},
   "outputs": [
    {
     "name": "stdin",
     "output_type": "stream",
     "text": [
      " 53\n"
     ]
    }
   ],
   "source": [
    "N = int(input())"
   ]
  },
  {
   "cell_type": "code",
   "execution_count": 21,
   "id": "premier-advance",
   "metadata": {},
   "outputs": [],
   "source": [
    "a=0"
   ]
  },
  {
   "cell_type": "code",
   "execution_count": 22,
   "id": "perfect-convenience",
   "metadata": {},
   "outputs": [],
   "source": [
    "if N==1:\n",
    "    a=1\n",
    "else:\n",
    "    a=1\n",
    "    N = N-1\n",
    "    \n",
    "    while N > 0:\n",
    "        N = N-a*6\n",
    "        a = a+1"
   ]
  },
  {
   "cell_type": "code",
   "execution_count": 23,
   "id": "greek-alaska",
   "metadata": {},
   "outputs": [
    {
     "name": "stdout",
     "output_type": "stream",
     "text": [
      "5\n"
     ]
    }
   ],
   "source": [
    "print(a)"
   ]
  }
 ],
 "metadata": {
  "kernelspec": {
   "display_name": "Python 3",
   "language": "python",
   "name": "python3"
  },
  "language_info": {
   "codemirror_mode": {
    "name": "ipython",
    "version": 3
   },
   "file_extension": ".py",
   "mimetype": "text/x-python",
   "name": "python",
   "nbconvert_exporter": "python",
   "pygments_lexer": "ipython3",
   "version": "3.8.8"
  }
 },
 "nbformat": 4,
 "nbformat_minor": 5
}
