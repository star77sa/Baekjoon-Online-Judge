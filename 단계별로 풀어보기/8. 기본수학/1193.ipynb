{
 "cells": [
  {
   "cell_type": "code",
   "execution_count": 11,
   "id": "stone-finance",
   "metadata": {},
   "outputs": [
    {
     "name": "stdin",
     "output_type": "stream",
     "text": [
      " 9\n"
     ]
    }
   ],
   "source": [
    "X = int(input())"
   ]
  },
  {
   "cell_type": "code",
   "execution_count": 12,
   "id": "imposed-spirit",
   "metadata": {},
   "outputs": [],
   "source": [
    "i = 0 # 누적으로 더하는 수. (1+2+3+4+5+....)\n",
    "n = 0 # 몇번째 줄"
   ]
  },
  {
   "cell_type": "code",
   "execution_count": 13,
   "id": "auburn-looking",
   "metadata": {},
   "outputs": [],
   "source": [
    "while i<X :\n",
    "    n = n+1\n",
    "    i = i + n"
   ]
  },
  {
   "cell_type": "code",
   "execution_count": 16,
   "id": "neutral-adult",
   "metadata": {},
   "outputs": [
    {
     "data": {
      "text/plain": [
       "3"
      ]
     },
     "execution_count": 16,
     "metadata": {},
     "output_type": "execute_result"
    }
   ],
   "source": [
    "# X - (i - n) # 정해진 줄의 번째 수"
   ]
  },
  {
   "cell_type": "code",
   "execution_count": 17,
   "id": "prime-oriental",
   "metadata": {},
   "outputs": [],
   "source": [
    "if n%2 ==1: # 홀수번째 줄일때 아래에서 시작\n",
    "    mother = X-(i-n)\n",
    "    son = n+1 - mother\n",
    "else: # 짝수번째 줄일때 위에서 시작\n",
    "    son = X-(i-n)\n",
    "    mother = n+1 - son"
   ]
  },
  {
   "cell_type": "code",
   "execution_count": 30,
   "id": "reported-darwin",
   "metadata": {},
   "outputs": [
    {
     "name": "stdout",
     "output_type": "stream",
     "text": [
      "3/2\n"
     ]
    }
   ],
   "source": [
    "print(\"%d/%d\" %(son, mother))"
   ]
  }
 ],
 "metadata": {
  "kernelspec": {
   "display_name": "Python 3",
   "language": "python",
   "name": "python3"
  },
  "language_info": {
   "codemirror_mode": {
    "name": "ipython",
    "version": 3
   },
   "file_extension": ".py",
   "mimetype": "text/x-python",
   "name": "python",
   "nbconvert_exporter": "python",
   "pygments_lexer": "ipython3",
   "version": "3.8.8"
  }
 },
 "nbformat": 4,
 "nbformat_minor": 5
}
