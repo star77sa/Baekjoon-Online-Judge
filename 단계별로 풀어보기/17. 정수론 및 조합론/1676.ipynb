{
 "cells": [
  {
   "cell_type": "markdown",
   "id": "incorporated-kruger",
   "metadata": {},
   "source": [
    "# 팩토리얼 0의 개수"
   ]
  },
  {
   "cell_type": "code",
   "execution_count": 5,
   "id": "refined-pakistan",
   "metadata": {},
   "outputs": [
    {
     "data": {
      "text/plain": [
       "3628800"
      ]
     },
     "execution_count": 5,
     "metadata": {},
     "output_type": "execute_result"
    }
   ],
   "source": [
    "from math import factorial\n",
    "\n",
    "a = factorial(10)\n",
    "a"
   ]
  },
  {
   "cell_type": "code",
   "execution_count": 3,
   "id": "opponent-rebel",
   "metadata": {},
   "outputs": [
    {
     "data": {
      "text/plain": [
       "0"
      ]
     },
     "execution_count": 3,
     "metadata": {},
     "output_type": "execute_result"
    }
   ],
   "source": [
    "a%10"
   ]
  },
  {
   "cell_type": "code",
   "execution_count": 4,
   "id": "sitting-heater",
   "metadata": {},
   "outputs": [
    {
     "data": {
      "text/plain": [
       "8"
      ]
     },
     "execution_count": 4,
     "metadata": {},
     "output_type": "execute_result"
    }
   ],
   "source": [
    "(a//100)%10"
   ]
  },
  {
   "cell_type": "code",
   "execution_count": null,
   "id": "square-correction",
   "metadata": {},
   "outputs": [],
   "source": [
    "N = int(input())\n",
    "N = factorial(N)\n"
   ]
  }
 ],
 "metadata": {
  "kernelspec": {
   "display_name": "Python 3",
   "language": "python",
   "name": "python3"
  },
  "language_info": {
   "codemirror_mode": {
    "name": "ipython",
    "version": 3
   },
   "file_extension": ".py",
   "mimetype": "text/x-python",
   "name": "python",
   "nbconvert_exporter": "python",
   "pygments_lexer": "ipython3",
   "version": "3.8.8"
  }
 },
 "nbformat": 4,
 "nbformat_minor": 5
}
