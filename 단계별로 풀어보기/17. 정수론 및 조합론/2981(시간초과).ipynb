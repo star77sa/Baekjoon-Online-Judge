{
 "cells": [
  {
   "cell_type": "markdown",
   "id": "demographic-miracle",
   "metadata": {},
   "source": [
    "# 2981 검문"
   ]
  },
  {
   "cell_type": "code",
   "execution_count": 96,
   "id": "registered-block",
   "metadata": {},
   "outputs": [
    {
     "name": "stdin",
     "output_type": "stream",
     "text": [
      " 3\n",
      " 6\n",
      " 34\n",
      " 38\n"
     ]
    },
    {
     "name": "stdout",
     "output_type": "stream",
     "text": [
      "2 4 "
     ]
    }
   ],
   "source": [
    "import sys\n",
    "\n",
    "t = int(sys.stdin.readline())\n",
    "slot = [0]*t\n",
    "remain = [0]*t\n",
    "\n",
    "for i in range(t):\n",
    "    slot[i] = int(sys.stdin.readline())\n",
    "sorted(slot)\n",
    "\n",
    "for i in range(2, slot[0]+1): # 1은 제외 . slot의 가장 작은 수까지\n",
    "    for j in range(t):\n",
    "        remain[j] = slot[j] % i # 나머지를 모두 리스트에 입력\n",
    "    if len(set(remain)) == 1: # 집합으로 바꿔서, 같은값을 하나로 뭉침. 여기서 1개가 나와야 나머지가 모두 동일한 것\n",
    "        print(i, end=' ')"
   ]
  },
  {
   "cell_type": "code",
   "execution_count": null,
   "id": "three-challenge",
   "metadata": {},
   "outputs": [],
   "source": []
  }
 ],
 "metadata": {
  "kernelspec": {
   "display_name": "Python 3",
   "language": "python",
   "name": "python3"
  },
  "language_info": {
   "codemirror_mode": {
    "name": "ipython",
    "version": 3
   },
   "file_extension": ".py",
   "mimetype": "text/x-python",
   "name": "python",
   "nbconvert_exporter": "python",
   "pygments_lexer": "ipython3",
   "version": "3.8.8"
  }
 },
 "nbformat": 4,
 "nbformat_minor": 5
}
