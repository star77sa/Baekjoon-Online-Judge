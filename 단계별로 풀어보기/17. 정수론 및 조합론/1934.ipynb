{
 "cells": [
  {
   "cell_type": "markdown",
   "id": "sudden-league",
   "metadata": {},
   "source": [
    "# 2609번 코드 응용"
   ]
  },
  {
   "cell_type": "code",
   "execution_count": 5,
   "id": "proud-shield",
   "metadata": {},
   "outputs": [
    {
     "name": "stdin",
     "output_type": "stream",
     "text": [
      " 1\n"
     ]
    }
   ],
   "source": [
    "Testcase = int(input())"
   ]
  },
  {
   "cell_type": "code",
   "execution_count": 8,
   "id": "fossil-female",
   "metadata": {},
   "outputs": [
    {
     "name": "stdin",
     "output_type": "stream",
     "text": [
      " 2 2\n"
     ]
    },
    {
     "name": "stdout",
     "output_type": "stream",
     "text": [
      "2\n",
      "2\n"
     ]
    }
   ],
   "source": [
    "for i in range(Testcase):\n",
    "\n",
    "    A, B = map(int, input().split())\n",
    "\n",
    "    if B > A:\n",
    "        A, B = B, A\n",
    "    \n",
    "    if A == B: # A == B 이면 최소공배수, 최대공약수 모두 A이다.\n",
    "        R_1 = A\n",
    "\n",
    "    else:\n",
    "        R_1 = A % B\n",
    "\n",
    "        if R_1 != 0: # R_1 == 0 이면, 나눈수가 최대공약수이다.\n",
    "            R_2 = B % R_1\n",
    "\n",
    "            while (R_2 != 0):\n",
    "                temp = R_1\n",
    "                R_1 = R_2\n",
    "                R_2 = temp % R_2\n",
    "        else:\n",
    "            R_1 = B\n",
    "        \n",
    "    LCM = A * B / R_1\n",
    "    print(int(LCM))"
   ]
  },
  {
   "cell_type": "markdown",
   "id": "assisted-variance",
   "metadata": {},
   "source": [
    "백준에 제출은 input 대신 sys.stdin.readline()으로 했더니\n",
    "시간이 152ms -> 76ms로 단축."
   ]
  },
  {
   "cell_type": "code",
   "execution_count": null,
   "id": "certain-trader",
   "metadata": {},
   "outputs": [],
   "source": []
  }
 ],
 "metadata": {
  "kernelspec": {
   "display_name": "Python 3",
   "language": "python",
   "name": "python3"
  },
  "language_info": {
   "codemirror_mode": {
    "name": "ipython",
    "version": 3
   },
   "file_extension": ".py",
   "mimetype": "text/x-python",
   "name": "python",
   "nbconvert_exporter": "python",
   "pygments_lexer": "ipython3",
   "version": "3.8.8"
  }
 },
 "nbformat": 4,
 "nbformat_minor": 5
}
