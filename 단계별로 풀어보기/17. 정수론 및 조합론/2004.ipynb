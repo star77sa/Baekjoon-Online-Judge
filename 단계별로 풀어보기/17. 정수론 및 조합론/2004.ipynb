{
 "cells": [
  {
   "cell_type": "markdown",
   "id": "sought-principle",
   "metadata": {},
   "source": [
    "# 조합 0의 개수"
   ]
  },
  {
   "cell_type": "code",
   "execution_count": null,
   "id": "tropical-yield",
   "metadata": {},
   "outputs": [
    {
     "name": "stdin",
     "output_type": "stream",
     "text": [
      " 2000000000 50000\n"
     ]
    }
   ],
   "source": [
    "from math import factorial\n",
    "import sys\n",
    "\n",
    "#N, K = map(int,sys.stdin.readline().split())\n",
    "N, K = map(int,input().split())\n",
    "\n",
    "\n",
    "N = factorial(N)//(factorial(N-K)*factorial(K)) # nCk\n",
    "\n",
    "count = 0\n",
    "\n",
    "while N%10 == 0:\n",
    "    N = N//10\n",
    "    count += 1 \n",
    "    \n",
    "print(count)"
   ]
  },
  {
   "cell_type": "code",
   "execution_count": null,
   "id": "responsible-riverside",
   "metadata": {},
   "outputs": [],
   "source": []
  }
 ],
 "metadata": {
  "kernelspec": {
   "display_name": "Python 3",
   "language": "python",
   "name": "python3"
  },
  "language_info": {
   "codemirror_mode": {
    "name": "ipython",
    "version": 3
   },
   "file_extension": ".py",
   "mimetype": "text/x-python",
   "name": "python",
   "nbconvert_exporter": "python",
   "pygments_lexer": "ipython3",
   "version": "3.8.8"
  }
 },
 "nbformat": 4,
 "nbformat_minor": 5
}
