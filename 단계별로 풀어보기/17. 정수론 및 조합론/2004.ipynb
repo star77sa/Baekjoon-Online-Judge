{
 "cells": [
  {
   "cell_type": "markdown",
   "id": "handy-jumping",
   "metadata": {},
   "source": [
    "# 조합 0의 개수"
   ]
  },
  {
   "cell_type": "markdown",
   "id": "spare-induction",
   "metadata": {},
   "source": [
    "`idea` : 이항계수는 n!  /  (n-k)! k!\n",
    "\n",
    "이 숫자의 0의 개수는 10으로 계속 나누다가, 그 나머지가 0이 아닐 때 까지의 나눈 수가 0의 개수임.\n",
    "\n",
    "But, 여기서 아이디어는 n! , (n-k)! , k! 을 각각 2와 5로 소인수 분해한뒤에\n",
    "\n",
    "n!의 2의 숫자 - (n-k)!의 2의 숫자 - k! 의 2의숫자\n",
    "\n",
    "n!의 5의 숫자 - (n-k)!의 5의 숫자 - k! 의 5의숫자\n",
    "\n",
    "이렇게 하면 nCk의 2의숫자, 5의숫자를 구할 수 있다. (n-k)!와 k!의 숫자를 빼는 이유는 이 두 수가 나누어 지는 수이기 때문이다.\n",
    "\n",
    "`+` 2의 숫자, 5의 숫자중에 더 적은 숫자가 10의 개수가 되므로, 더 작은 숫자를 구하면 그것이 답이다. "
   ]
  },
  {
   "cell_type": "code",
   "execution_count": 51,
   "id": "angry-acceptance",
   "metadata": {},
   "outputs": [
    {
     "ename": "ValueError",
     "evalue": "not enough values to unpack (expected 2, got 0)",
     "output_type": "error",
     "traceback": [
      "\u001b[1;31m---------------------------------------------------------------------------\u001b[0m",
      "\u001b[1;31mValueError\u001b[0m                                Traceback (most recent call last)",
      "\u001b[1;32m<ipython-input-51-01be7653c622>\u001b[0m in \u001b[0;36m<module>\u001b[1;34m\u001b[0m\n\u001b[0;32m      1\u001b[0m \u001b[1;32mimport\u001b[0m \u001b[0msys\u001b[0m\u001b[1;33m\u001b[0m\u001b[1;33m\u001b[0m\u001b[0m\n\u001b[1;32m----> 2\u001b[1;33m \u001b[0mn\u001b[0m\u001b[1;33m,\u001b[0m \u001b[0mk\u001b[0m \u001b[1;33m=\u001b[0m \u001b[0mmap\u001b[0m\u001b[1;33m(\u001b[0m\u001b[0mint\u001b[0m\u001b[1;33m,\u001b[0m\u001b[0msys\u001b[0m\u001b[1;33m.\u001b[0m\u001b[0mstdin\u001b[0m\u001b[1;33m.\u001b[0m\u001b[0mreadline\u001b[0m\u001b[1;33m(\u001b[0m\u001b[1;33m)\u001b[0m\u001b[1;33m.\u001b[0m\u001b[0msplit\u001b[0m\u001b[1;33m(\u001b[0m\u001b[1;33m)\u001b[0m\u001b[1;33m)\u001b[0m\u001b[1;33m\u001b[0m\u001b[1;33m\u001b[0m\u001b[0m\n\u001b[0m\u001b[0;32m      3\u001b[0m \u001b[1;31m#N, K = map(int,input().split())\u001b[0m\u001b[1;33m\u001b[0m\u001b[1;33m\u001b[0m\u001b[1;33m\u001b[0m\u001b[0m\n",
      "\u001b[1;31mValueError\u001b[0m: not enough values to unpack (expected 2, got 0)"
     ]
    }
   ],
   "source": [
    "import sys\n",
    "n, k = map(int,sys.stdin.readline().split())\n",
    "#N, K = map(int,input().split())"
   ]
  },
  {
   "cell_type": "code",
   "execution_count": 52,
   "id": "acute-setup",
   "metadata": {},
   "outputs": [],
   "source": [
    "def five(n): # factorial의 5의 숫자를 구하는 것이므로 ex) 100이면 5의 배수인 숫자가 20개 (적어도 5를 가진 숫자가 20개) \n",
    "             # 25의 배수인 숫자가 4개 (적어도 25를 가진 숫자가 4개) 이므로 25 + 4를 해주면 된다. 25는 원래 5를 2개 가진것이지만, 5의 배수에서 중복으로 1번 가져갔으므로 1개만 더하면 된다.\n",
    "    count = 0\n",
    "    while n >= 5:\n",
    "        n = n//5\n",
    "        count += n\n",
    "    return count"
   ]
  },
  {
   "cell_type": "code",
   "execution_count": 53,
   "id": "nonprofit-magnitude",
   "metadata": {},
   "outputs": [],
   "source": [
    "def two(n):\n",
    "    count = 0\n",
    "    while n >= 2:\n",
    "        n = n//2\n",
    "        count += n\n",
    "    return count"
   ]
  },
  {
   "cell_type": "code",
   "execution_count": 54,
   "id": "naval-toner",
   "metadata": {},
   "outputs": [
    {
     "name": "stdout",
     "output_type": "stream",
     "text": [
      "2\n"
     ]
    }
   ],
   "source": [
    "print(min((five(n)-five(n-k)-five(k)), (two(n)-two(n-k)-two(k))))"
   ]
  },
  {
   "cell_type": "code",
   "execution_count": null,
   "id": "secondary-suggestion",
   "metadata": {},
   "outputs": [],
   "source": []
  }
 ],
 "metadata": {
  "kernelspec": {
   "display_name": "Python 3",
   "language": "python",
   "name": "python3"
  },
  "language_info": {
   "codemirror_mode": {
    "name": "ipython",
    "version": 3
   },
   "file_extension": ".py",
   "mimetype": "text/x-python",
   "name": "python",
   "nbconvert_exporter": "python",
   "pygments_lexer": "ipython3",
   "version": "3.8.8"
  }
 },
 "nbformat": 4,
 "nbformat_minor": 5
}
