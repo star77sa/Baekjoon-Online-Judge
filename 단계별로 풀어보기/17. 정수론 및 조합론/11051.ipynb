{
 "cells": [
  {
   "cell_type": "markdown",
   "id": "prescribed-reservoir",
   "metadata": {},
   "source": [
    "# 이항 계수 2"
   ]
  },
  {
   "cell_type": "code",
   "execution_count": 31,
   "id": "related-geneva",
   "metadata": {},
   "outputs": [
    {
     "name": "stdin",
     "output_type": "stream",
     "text": [
      " 5 2\n"
     ]
    },
    {
     "name": "stdout",
     "output_type": "stream",
     "text": [
      "10\n"
     ]
    }
   ],
   "source": [
    "import sys\n",
    "n, k = map(int, sys.stdin.readline().split())\n",
    "#n, k = map(int, input().split()) \n",
    "def bin_coef(n, k): # n > k\n",
    "    cache = [ [ 0 for _ in range(k+1)] for _ in range(n+1)]\n",
    "    \n",
    "    #1. nCn, nC0 = 1\n",
    "    for i in range(n+1): # 0 ~ n\n",
    "        cache[i][0] = 1\n",
    "    for i in range(k+1): # 0 ~ k\n",
    "        cache[i][i] = 1\n",
    "        \n",
    "    #2. n-1Ck-1 + n-1Ck = nCk\n",
    "    for i in range(1, n+1):\n",
    "        for j in range(1, k+1):\n",
    "            cache[i][j] = cache[i-1][j-1] + cache[i-1][j]\n",
    "    \n",
    "    print(cache[n][k] % 10007)\n",
    "\n",
    "bin_coef(n, k)"
   ]
  }
 ],
 "metadata": {
  "kernelspec": {
   "display_name": "Python 3",
   "language": "python",
   "name": "python3"
  },
  "language_info": {
   "codemirror_mode": {
    "name": "ipython",
    "version": 3
   },
   "file_extension": ".py",
   "mimetype": "text/x-python",
   "name": "python",
   "nbconvert_exporter": "python",
   "pygments_lexer": "ipython3",
   "version": "3.8.8"
  }
 },
 "nbformat": 4,
 "nbformat_minor": 5
}
