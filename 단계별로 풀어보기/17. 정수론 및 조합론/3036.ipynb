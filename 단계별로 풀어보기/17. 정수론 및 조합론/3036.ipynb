{
 "cells": [
  {
   "cell_type": "markdown",
   "id": "heavy-blogger",
   "metadata": {},
   "source": [
    "# 2609 최대공약수 코드 응용"
   ]
  },
  {
   "cell_type": "code",
   "execution_count": 38,
   "id": "judicial-weight",
   "metadata": {},
   "outputs": [
    {
     "name": "stdin",
     "output_type": "stream",
     "text": [
      " 3\n"
     ]
    }
   ],
   "source": [
    "N = int(input())"
   ]
  },
  {
   "cell_type": "code",
   "execution_count": 39,
   "id": "alleged-tulsa",
   "metadata": {},
   "outputs": [
    {
     "name": "stdin",
     "output_type": "stream",
     "text": [
      " 30 25 5\n"
     ]
    }
   ],
   "source": [
    "rings = list(map(int, (input().split())))"
   ]
  },
  {
   "cell_type": "markdown",
   "id": "american-figure",
   "metadata": {},
   "source": [
    "30/25 => 6 / 5"
   ]
  },
  {
   "cell_type": "markdown",
   "id": "renewable-adolescent",
   "metadata": {},
   "source": [
    "분모 분자에 최대공약수로 나눈 수!!"
   ]
  },
  {
   "cell_type": "code",
   "execution_count": 40,
   "id": "sustainable-paintball",
   "metadata": {},
   "outputs": [
    {
     "name": "stdout",
     "output_type": "stream",
     "text": [
      "6/5\n",
      "6/1\n"
     ]
    }
   ],
   "source": [
    "for i in range(1, N): # 1부터 시작\n",
    "    \n",
    "    A, B = rings[0], rings[i]\n",
    "    \n",
    "    if A == B: # A == B 이면 최소공배수, 최대공약수 모두 A이다.\n",
    "        print(\"1/1\")\n",
    "\n",
    "    else:\n",
    "        R_1 = A % B\n",
    "\n",
    "        if R_1 != 0: # R_1 == 0 이면, 나눈수가 최대공약수이다.\n",
    "            R_2 = B % R_1\n",
    "\n",
    "            while (R_2 != 0):\n",
    "                temp = R_1\n",
    "                R_1 = R_2\n",
    "                R_2 = temp % R_2\n",
    "        else:\n",
    "            R_1 = B\n",
    "        \n",
    "        \n",
    "        # 여기서 구한 R_1이 최대공약수이다.\n",
    "        print(str(A//R_1) + \"/\" + str(B//R_1))"
   ]
  }
 ],
 "metadata": {
  "kernelspec": {
   "display_name": "Python 3",
   "language": "python",
   "name": "python3"
  },
  "language_info": {
   "codemirror_mode": {
    "name": "ipython",
    "version": 3
   },
   "file_extension": ".py",
   "mimetype": "text/x-python",
   "name": "python",
   "nbconvert_exporter": "python",
   "pygments_lexer": "ipython3",
   "version": "3.8.8"
  }
 },
 "nbformat": 4,
 "nbformat_minor": 5
}
