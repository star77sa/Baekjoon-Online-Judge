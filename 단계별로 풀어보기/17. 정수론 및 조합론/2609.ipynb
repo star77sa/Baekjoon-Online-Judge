{
 "cells": [
  {
   "cell_type": "markdown",
   "id": "beneficial-trinity",
   "metadata": {},
   "source": [
    "유클리드 호제법\n",
    "\n",
    "최대공약수를 찾을 때, 작은 수의 경우에는 사람이 직접 계산해서 찾을 수 있지만, 수가 무진장 커진다면 컴퓨터를 써야 합니다. 그런데 컴퓨터를 이용해 최대공약수를 찾을 때는, 위와 같이 소인수분해를 하기 보다는 유클리드 호제법이라는 알고리즘(문제를 풀기 위해 정해진 절차)를 사용하는 것이 더 빠릅니다. 유클리드 호제법은 다음 정리로부터 기인합니다.\n",
    "\n",
    " \n",
    " - A와 B의 최대공약수를 구하기 위해서 A를 B로 나눈 나머지 R1을 구합니다.\n",
    " - B를 R1로 나눈 나머지 R2를 구합니다.\n",
    " - R1을 R2로 나눈 나머지 R3를 구합니다.\n",
    " - 이 과정을 계속반복하여, 어느 한 쪽이 나누어떨어질 때까지 반복합니다. 이 직전 얻은 나머지가 최대공약수 입니다."
   ]
  },
  {
   "cell_type": "code",
   "execution_count": 104,
   "id": "headed-anthropology",
   "metadata": {},
   "outputs": [
    {
     "name": "stdin",
     "output_type": "stream",
     "text": [
      " 48 12\n"
     ]
    },
    {
     "name": "stdout",
     "output_type": "stream",
     "text": [
      "12\n"
     ]
    }
   ],
   "source": [
    "A, B = map(int, input().split())\n",
    "\n",
    "if B > A:\n",
    "    A, B = B, A\n",
    "    \n",
    "if A == B: # A == B 이면 최소공배수, 최대공약수 모두 A이다.\n",
    "    print(A)\n",
    "    R_1 = A\n",
    "\n",
    "else:\n",
    "    R_1 = A % B\n",
    "\n",
    "    if R_1 != 0: # R_1 == 0 이면, 나눈수가 최대공약수이다.\n",
    "        R_2 = B % R_1\n",
    "\n",
    "        while (R_2 != 0):\n",
    "            temp = R_1\n",
    "            R_1 = R_2\n",
    "            R_2 = temp % R_2\n",
    "    else:\n",
    "        R_1 = B\n",
    "        \n",
    "    print(R_1)"
   ]
  },
  {
   "cell_type": "markdown",
   "id": "relevant-catch",
   "metadata": {},
   "source": [
    "---\n",
    "여기까지가 최대공약수"
   ]
  },
  {
   "cell_type": "markdown",
   "id": "generous-feedback",
   "metadata": {},
   "source": [
    "최대공약수 * 최소공배수 = A * B"
   ]
  },
  {
   "cell_type": "markdown",
   "id": "emotional-lingerie",
   "metadata": {},
   "source": [
    "따라서 최소공배수 = A * B / 최소공배수"
   ]
  },
  {
   "cell_type": "code",
   "execution_count": 96,
   "id": "departmental-queen",
   "metadata": {},
   "outputs": [
    {
     "name": "stdout",
     "output_type": "stream",
     "text": [
      "1\n"
     ]
    }
   ],
   "source": [
    "LCM = A * B / R_1\n",
    "print(int(LCM))"
   ]
  }
 ],
 "metadata": {
  "kernelspec": {
   "display_name": "Python 3",
   "language": "python",
   "name": "python3"
  },
  "language_info": {
   "codemirror_mode": {
    "name": "ipython",
    "version": 3
   },
   "file_extension": ".py",
   "mimetype": "text/x-python",
   "name": "python",
   "nbconvert_exporter": "python",
   "pygments_lexer": "ipython3",
   "version": "3.8.8"
  }
 },
 "nbformat": 4,
 "nbformat_minor": 5
}
