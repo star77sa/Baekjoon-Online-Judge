{
 "cells": [
  {
   "cell_type": "markdown",
   "id": "unsigned-brown",
   "metadata": {},
   "source": [
    "ex) 12\n",
    "\n",
    "12 = 2 * 2 * 3 ,\n",
    "\n",
    "약수 : 1, 2, 3, 4, 6, 12\n",
    "진약수 : 2, 3, 4, 6\n",
    "\n",
    "ex) 21\n",
    "\n",
    "진약수 : 3, 7\n",
    "\n",
    "ex) 36\n",
    "\n",
    "진약수 : 2,3,4,6,9,12,18\n",
    "\n",
    "\n",
    "\n",
    "첫 수와 끝 수를 곱하면 되네?"
   ]
  },
  {
   "cell_type": "code",
   "execution_count": 24,
   "id": "romantic-upgrade",
   "metadata": {},
   "outputs": [
    {
     "name": "stdin",
     "output_type": "stream",
     "text": [
      " 2\n",
      " 4 2\n"
     ]
    },
    {
     "name": "stdout",
     "output_type": "stream",
     "text": [
      "8\n"
     ]
    }
   ],
   "source": [
    "N = int(input())\n",
    "value = [0] * N\n",
    "value = list( map(int, input().split()) )\n",
    "print( min(value) * max(value) )"
   ]
  }
 ],
 "metadata": {
  "kernelspec": {
   "display_name": "Python 3",
   "language": "python",
   "name": "python3"
  },
  "language_info": {
   "codemirror_mode": {
    "name": "ipython",
    "version": 3
   },
   "file_extension": ".py",
   "mimetype": "text/x-python",
   "name": "python",
   "nbconvert_exporter": "python",
   "pygments_lexer": "ipython3",
   "version": "3.8.8"
  }
 },
 "nbformat": 4,
 "nbformat_minor": 5
}
