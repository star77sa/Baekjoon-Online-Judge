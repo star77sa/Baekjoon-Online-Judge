{
 "cells": [
  {
   "cell_type": "markdown",
   "id": "painful-settlement",
   "metadata": {},
   "source": [
    "# 1002 터렛"
   ]
  },
  {
   "cell_type": "markdown",
   "id": "controversial-society",
   "metadata": {},
   "source": [
    "1. 한 원이 다른 원 안에 있고, 내접하지 않는경우\n",
    "2. 한점에서 내접하는 경우\n",
    "3. 한 원의 중심이 다른 원 안에 있고, 두 점에서 만나는 경우 \n",
    "4. 한 원으 중심이 다른 원 밖에 있고, 두 점에서 만나는 경우\n",
    "5. 한 점에서 외접하는 경우\n",
    "6. 한 원이 다른 원 밖에 있고, 외접하지 않는경우"
   ]
  },
  {
   "cell_type": "code",
   "execution_count": 12,
   "id": "continent-index",
   "metadata": {},
   "outputs": [
    {
     "name": "stdin",
     "output_type": "stream",
     "text": [
      " 3\n",
      " 0 0 13 40 0 37\n"
     ]
    },
    {
     "name": "stdout",
     "output_type": "stream",
     "text": [
      "2\n"
     ]
    },
    {
     "name": "stdin",
     "output_type": "stream",
     "text": [
      " 0 0 3 0 7 4\n"
     ]
    },
    {
     "name": "stdout",
     "output_type": "stream",
     "text": [
      "1\n"
     ]
    },
    {
     "name": "stdin",
     "output_type": "stream",
     "text": [
      " 1 1 1 1 1 5\n"
     ]
    },
    {
     "name": "stdout",
     "output_type": "stream",
     "text": [
      "0\n"
     ]
    }
   ],
   "source": [
    "import sys\n",
    "import math\n",
    "def distance(x1,y1,x2,y2):\n",
    "    return math.sqrt((x1-x2)**2+(y1-y2)**2)\n",
    "\n",
    "T = int(sys.stdin.readline())\n",
    "for i in range(T):\n",
    "    x1, y1, r1, x2, y2, r2 = map(int, sys.stdin.readline().split())\n",
    "    if r2 > r1:\n",
    "        x1, y1, r1, x2, y2, r2 = x2, y2, r2, x1, y1, r1 # 앞꺼가 반지름이 더 크도록 유지\n",
    "        \n",
    "    d = distance(x1,y1,x2,y2)\n",
    "    \n",
    "    if (d==0) & (r1 == r2):\n",
    "        print('-1')        \n",
    "    elif (d > r1-r2) & (d < r1+r2):\n",
    "        print('2')\n",
    "    elif (d == r1-r2) | (d == r1+r2) :\n",
    "        print('1')\n",
    "    else:\n",
    "        print('0')"
   ]
  }
 ],
 "metadata": {
  "kernelspec": {
   "display_name": "Python 3",
   "language": "python",
   "name": "python3"
  },
  "language_info": {
   "codemirror_mode": {
    "name": "ipython",
    "version": 3
   },
   "file_extension": ".py",
   "mimetype": "text/x-python",
   "name": "python",
   "nbconvert_exporter": "python",
   "pygments_lexer": "ipython3",
   "version": "3.8.8"
  }
 },
 "nbformat": 4,
 "nbformat_minor": 5
}
