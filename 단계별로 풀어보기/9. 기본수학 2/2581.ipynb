{
 "cells": [
  {
   "cell_type": "markdown",
   "id": "ongoing-aberdeen",
   "metadata": {},
   "source": [
    "# #1978 참고. 소수 구분은 동일하게 하였음"
   ]
  },
  {
   "cell_type": "code",
   "execution_count": 34,
   "id": "reduced-invitation",
   "metadata": {},
   "outputs": [
    {
     "name": "stdin",
     "output_type": "stream",
     "text": [
      " 64\n",
      " 65\n"
     ]
    },
    {
     "name": "stdout",
     "output_type": "stream",
     "text": [
      "-1\n"
     ]
    }
   ],
   "source": [
    "prime = [i for i in range(2,10001)] # 2 ~ 10000\n",
    "\n",
    "for i in range(2,100): # 2 ~ 100 해당하는 값\n",
    "    j=2 # 배수. 2의 배수부터 시작\n",
    "    if prime.count(i) == 1: # 해당 값이 존재할 경우\n",
    "        for k in range(10000//i): # 10000보단 작은값까지만\n",
    "            if prime.count(i*j) == 1: # 해당값의 배수가 존재할경우\n",
    "                prime.remove(i*j)                \n",
    "            j += 1\n",
    "            \n",
    "            \n",
    "prime = set(prime)\n",
    "\n",
    "M = int(input())\n",
    "N = int(input())\n",
    "\n",
    "A = set([i for i in range(M, N+1)])\n",
    "\n",
    "if len(prime & A) != 0:\n",
    "    print(sum(prime & A))\n",
    "    print(min(prime & A))\n",
    "else:\n",
    "    print(\"-1\")"
   ]
  }
 ],
 "metadata": {
  "kernelspec": {
   "display_name": "Python 3",
   "language": "python",
   "name": "python3"
  },
  "language_info": {
   "codemirror_mode": {
    "name": "ipython",
    "version": 3
   },
   "file_extension": ".py",
   "mimetype": "text/x-python",
   "name": "python",
   "nbconvert_exporter": "python",
   "pygments_lexer": "ipython3",
   "version": "3.8.8"
  }
 },
 "nbformat": 4,
 "nbformat_minor": 5
}
