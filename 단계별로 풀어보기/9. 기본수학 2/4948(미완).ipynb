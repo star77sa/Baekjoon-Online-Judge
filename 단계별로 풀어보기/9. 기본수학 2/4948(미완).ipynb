{
 "cells": [
  {
   "cell_type": "code",
   "execution_count": null,
   "id": "imported-tenant",
   "metadata": {},
   "outputs": [
    {
     "name": "stdin",
     "output_type": "stream",
     "text": [
      " 100000\n"
     ]
    }
   ],
   "source": [
    "n = int(input())\n",
    "import math\n",
    "\n",
    "prime = [i for i in range(2, 2*n+1)] # 2 ~ 2n\n",
    "\n",
    "for i in range(2, math.floor(math.sqrt(2*n))+1): # 2 ~ 루트 N 해당하는 값\n",
    "    j=2 # 배수. 2의 배수부터 시작\n",
    "    if prime.count(i) == 1:\n",
    "        for k in range(2*n//i): # N보단 작은값까지만\n",
    "            if prime.count(i*j) == 1: # 해당값의 배수가 존재할경우\n",
    "                prime.remove(i*j)                \n",
    "            j += 1\n",
    "\n",
    "    \n",
    "while prime[0] < n:\n",
    "    prime.pop(0)\n",
    "    \n",
    "print(len(prime))"
   ]
  },
  {
   "cell_type": "code",
   "execution_count": null,
   "id": "cardiac-therapist",
   "metadata": {},
   "outputs": [],
   "source": [
    "# 알고리즘 효율 똥\n",
    "# 13에서 3나와야하는데 4나옴. 위아래로는 제대로 되긴함."
   ]
  }
 ],
 "metadata": {
  "kernelspec": {
   "display_name": "Python 3",
   "language": "python",
   "name": "python3"
  },
  "language_info": {
   "codemirror_mode": {
    "name": "ipython",
    "version": 3
   },
   "file_extension": ".py",
   "mimetype": "text/x-python",
   "name": "python",
   "nbconvert_exporter": "python",
   "pygments_lexer": "ipython3",
   "version": "3.8.8"
  }
 },
 "nbformat": 4,
 "nbformat_minor": 5
}
