{
 "cells": [
  {
   "cell_type": "code",
   "execution_count": 11,
   "id": "general-quick",
   "metadata": {},
   "outputs": [
    {
     "name": "stdin",
     "output_type": "stream",
     "text": [
      " 3 16\n"
     ]
    },
    {
     "name": "stdout",
     "output_type": "stream",
     "text": [
      "3\n",
      "5\n",
      "7\n",
      "11\n",
      "13\n"
     ]
    }
   ],
   "source": [
    "M, N = map(int, (input().split()))\n",
    "import math\n",
    "\n",
    "prime = [i for i in range(2, N+1)] # 2 ~ N+1\n",
    "\n",
    "for i in range(2, math.floor(math.sqrt(N))+1): # 2 ~ 루트 N 해당하는 값\n",
    "    j=2 # 배수. 2의 배수부터 시작\n",
    "    if prime.count(i) == 1:\n",
    "        for k in range(N//i): # N보단 작은값까지만\n",
    "            if prime.count(i*j) == 1: # 해당값의 배수가 존재할경우\n",
    "                prime.remove(i*j)                \n",
    "            j += 1\n",
    "\n",
    "    \n",
    "while prime[0] < M:\n",
    "    prime.pop(0)\n",
    "    \n",
    "for i in range(len(prime)):\n",
    "    print(prime[i])"
   ]
  },
  {
   "cell_type": "code",
   "execution_count": null,
   "id": "plastic-trash",
   "metadata": {},
   "outputs": [],
   "source": []
  }
 ],
 "metadata": {
  "kernelspec": {
   "display_name": "Python 3",
   "language": "python",
   "name": "python3"
  },
  "language_info": {
   "codemirror_mode": {
    "name": "ipython",
    "version": 3
   },
   "file_extension": ".py",
   "mimetype": "text/x-python",
   "name": "python",
   "nbconvert_exporter": "python",
   "pygments_lexer": "ipython3",
   "version": "3.8.8"
  }
 },
 "nbformat": 4,
 "nbformat_minor": 5
}
