{
 "cells": [
  {
   "cell_type": "code",
   "execution_count": null,
   "metadata": {},
   "outputs": [],
   "source": [
    "N = input(); N=int(N)\n",
    "def cal(N):\n",
    "    count=0\n",
    "    for i in range(1, N+1):\n",
    "        length = len(str(i))\n",
    "        if length==1 or length==2:\n",
    "            count+=1\n",
    "        else:\n",
    "            if (int(str(i)[2]) - int(str(i)[1])) == (int((str(i))[1])  - int(str(i)[0])):\n",
    "                count+=1\n",
    "    print(count)\n",
    "cal(N)"
   ]
  }
 ],
 "metadata": {
  "kernelspec": {
   "display_name": "Python 3",
   "language": "python",
   "name": "python3"
  },
  "language_info": {
   "codemirror_mode": {
    "name": "ipython",
    "version": 3
   },
   "file_extension": ".py",
   "mimetype": "text/x-python",
   "name": "python",
   "nbconvert_exporter": "python",
   "pygments_lexer": "ipython3",
   "version": "3.8.5"
  }
 },
 "nbformat": 4,
 "nbformat_minor": 4
}
