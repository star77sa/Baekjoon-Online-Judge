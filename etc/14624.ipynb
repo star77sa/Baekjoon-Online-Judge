{
 "cells": [
  {
   "cell_type": "markdown",
   "id": "attractive-fellowship",
   "metadata": {},
   "source": [
    "# 14624 전북대학교"
   ]
  },
  {
   "cell_type": "code",
   "execution_count": 22,
   "id": "surgical-webcam",
   "metadata": {},
   "outputs": [
    {
     "name": "stdin",
     "output_type": "stream",
     "text": [
      " 51\n"
     ]
    }
   ],
   "source": [
    "N = int(input())"
   ]
  },
  {
   "cell_type": "code",
   "execution_count": 23,
   "id": "comfortable-ratio",
   "metadata": {},
   "outputs": [
    {
     "name": "stdout",
     "output_type": "stream",
     "text": [
      "***************************************************\n",
      "                         *\n",
      "                        * *\n",
      "                       *   *\n",
      "                      *     *\n",
      "                     *       *\n",
      "                    *         *\n",
      "                   *           *\n",
      "                  *             *\n",
      "                 *               *\n",
      "                *                 *\n",
      "               *                   *\n",
      "              *                     *\n",
      "             *                       *\n",
      "            *                         *\n",
      "           *                           *\n",
      "          *                             *\n",
      "         *                               *\n",
      "        *                                 *\n",
      "       *                                   *\n",
      "      *                                     *\n",
      "     *                                       *\n",
      "    *                                         *\n",
      "   *                                           *\n",
      "  *                                             *\n",
      " *                                               *\n",
      "*                                                 *\n"
     ]
    }
   ],
   "source": [
    "if N % 2 == 0:\n",
    "    print('I LOVE CBNU')\n",
    "else:\n",
    "    print('*'*N)\n",
    "    print(' '*(N//2) + '*')\n",
    "    for i in range(N//2):\n",
    "        print((N//2-1-i)*' '+'*'+(2*i+1)*' '+'*')"
   ]
  },
  {
   "cell_type": "code",
   "execution_count": null,
   "id": "stone-merchant",
   "metadata": {},
   "outputs": [],
   "source": []
  }
 ],
 "metadata": {
  "kernelspec": {
   "display_name": "Python 3",
   "language": "python",
   "name": "python3"
  },
  "language_info": {
   "codemirror_mode": {
    "name": "ipython",
    "version": 3
   },
   "file_extension": ".py",
   "mimetype": "text/x-python",
   "name": "python",
   "nbconvert_exporter": "python",
   "pygments_lexer": "ipython3",
   "version": "3.8.8"
  }
 },
 "nbformat": 4,
 "nbformat_minor": 5
}
