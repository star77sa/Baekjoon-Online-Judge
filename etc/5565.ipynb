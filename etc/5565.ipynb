{
 "cells": [
  {
   "cell_type": "markdown",
   "id": "touched-sheep",
   "metadata": {},
   "source": [
    "# 5565 영수증"
   ]
  },
  {
   "cell_type": "code",
   "execution_count": null,
   "id": "innocent-charm",
   "metadata": {},
   "outputs": [],
   "source": [
    "price = int(input())\n",
    "\n",
    "for _ in range(9):\n",
    "    price -= int(input())\n",
    "    \n",
    "print(price)"
   ]
  }
 ],
 "metadata": {
  "kernelspec": {
   "display_name": "Python 3",
   "language": "python",
   "name": "python3"
  },
  "language_info": {
   "codemirror_mode": {
    "name": "ipython",
    "version": 3
   },
   "file_extension": ".py",
   "mimetype": "text/x-python",
   "name": "python",
   "nbconvert_exporter": "python",
   "pygments_lexer": "ipython3",
   "version": "3.8.8"
  }
 },
 "nbformat": 4,
 "nbformat_minor": 5
}
