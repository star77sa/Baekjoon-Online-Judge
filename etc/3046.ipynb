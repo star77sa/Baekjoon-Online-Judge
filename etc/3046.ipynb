{
 "cells": [
  {
   "cell_type": "markdown",
   "id": "parental-vehicle",
   "metadata": {},
   "source": [
    "# 3046 R2"
   ]
  },
  {
   "cell_type": "code",
   "execution_count": 4,
   "id": "sensitive-assault",
   "metadata": {},
   "outputs": [
    {
     "name": "stdin",
     "output_type": "stream",
     "text": [
      " 4 3\n"
     ]
    }
   ],
   "source": [
    "R1, S = map(int, input().split())\n",
    "print(2*S - R1)"
   ]
  }
 ],
 "metadata": {
  "kernelspec": {
   "display_name": "Python 3",
   "language": "python",
   "name": "python3"
  },
  "language_info": {
   "codemirror_mode": {
    "name": "ipython",
    "version": 3
   },
   "file_extension": ".py",
   "mimetype": "text/x-python",
   "name": "python",
   "nbconvert_exporter": "python",
   "pygments_lexer": "ipython3",
   "version": "3.8.8"
  }
 },
 "nbformat": 4,
 "nbformat_minor": 5
}
