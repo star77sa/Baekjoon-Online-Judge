{
 "cells": [
  {
   "cell_type": "markdown",
   "id": "whole-cameroon",
   "metadata": {},
   "source": [
    "# 10156 과자"
   ]
  },
  {
   "cell_type": "code",
   "execution_count": 1,
   "id": "spectacular-standing",
   "metadata": {},
   "outputs": [
    {
     "name": "stdin",
     "output_type": "stream",
     "text": [
      " 300 4 1000\n"
     ]
    }
   ],
   "source": [
    "K, N, M = map(int, input().split())"
   ]
  },
  {
   "cell_type": "code",
   "execution_count": 3,
   "id": "vanilla-cooperation",
   "metadata": {},
   "outputs": [],
   "source": [
    "price = K * N"
   ]
  },
  {
   "cell_type": "code",
   "execution_count": 4,
   "id": "whole-arrangement",
   "metadata": {},
   "outputs": [
    {
     "name": "stdout",
     "output_type": "stream",
     "text": [
      "200\n"
     ]
    }
   ],
   "source": [
    "if M > price:\n",
    "    print(0)\n",
    "else:\n",
    "    print(price - M)"
   ]
  },
  {
   "cell_type": "code",
   "execution_count": null,
   "id": "anonymous-norwegian",
   "metadata": {},
   "outputs": [],
   "source": []
  }
 ],
 "metadata": {
  "kernelspec": {
   "display_name": "Python 3",
   "language": "python",
   "name": "python3"
  },
  "language_info": {
   "codemirror_mode": {
    "name": "ipython",
    "version": 3
   },
   "file_extension": ".py",
   "mimetype": "text/x-python",
   "name": "python",
   "nbconvert_exporter": "python",
   "pygments_lexer": "ipython3",
   "version": "3.8.8"
  }
 },
 "nbformat": 4,
 "nbformat_minor": 5
}
