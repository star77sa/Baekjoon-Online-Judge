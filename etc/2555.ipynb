{
 "cells": [
  {
   "cell_type": "markdown",
   "id": "coupled-training",
   "metadata": {},
   "source": [
    "# 2555 생일 출력하기"
   ]
  },
  {
   "cell_type": "code",
   "execution_count": null,
   "id": "cordless-sherman",
   "metadata": {},
   "outputs": [],
   "source": [
    "print(\"10/14\")"
   ]
  }
 ],
 "metadata": {
  "kernelspec": {
   "display_name": "Python 3",
   "language": "python",
   "name": "python3"
  },
  "language_info": {
   "codemirror_mode": {
    "name": "ipython",
    "version": 3
   },
   "file_extension": ".py",
   "mimetype": "text/x-python",
   "name": "python",
   "nbconvert_exporter": "python",
   "pygments_lexer": "ipython3",
   "version": "3.8.8"
  }
 },
 "nbformat": 4,
 "nbformat_minor": 5
}
