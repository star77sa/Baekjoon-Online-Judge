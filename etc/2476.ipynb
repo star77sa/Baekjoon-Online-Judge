{
 "cells": [
  {
   "cell_type": "markdown",
   "id": "european-landscape",
   "metadata": {},
   "source": [
    "# 2476 주사위 게임"
   ]
  },
  {
   "cell_type": "code",
   "execution_count": 2,
   "id": "specific-contrast",
   "metadata": {},
   "outputs": [
    {
     "name": "stdin",
     "output_type": "stream",
     "text": [
      " 3\n",
      " 3 3 6\n",
      " 2 2 2\n",
      " 6 2 5\n"
     ]
    },
    {
     "name": "stdout",
     "output_type": "stream",
     "text": [
      "12000\n"
     ]
    }
   ],
   "source": [
    "N = int(input())\n",
    "A = [0 for i in range(N)]\n",
    "\n",
    "for i in range(N):\n",
    "    data = [[i,0] for i in range(1,7)]\n",
    "    a, b, c = map(int, input().split())\n",
    "    data[a-1][1] += 1\n",
    "    data[b-1][1] += 1\n",
    "    data[c-1][1] += 1\n",
    "\n",
    "    data.sort(key = lambda x:(x[1], x[0]), reverse=True)\n",
    "    \n",
    "    if data[0][1] == 3:\n",
    "        A[i] = data[0][0]*1000+10000\n",
    "    elif data[0][1] == 2:\n",
    "        A[i] = data[0][0]*100+1000\n",
    "    else:\n",
    "        A[i] = data[0][0]*100\n",
    "        \n",
    "print(max(A))"
   ]
  }
 ],
 "metadata": {
  "kernelspec": {
   "display_name": "Python 3",
   "language": "python",
   "name": "python3"
  },
  "language_info": {
   "codemirror_mode": {
    "name": "ipython",
    "version": 3
   },
   "file_extension": ".py",
   "mimetype": "text/x-python",
   "name": "python",
   "nbconvert_exporter": "python",
   "pygments_lexer": "ipython3",
   "version": "3.8.8"
  }
 },
 "nbformat": 4,
 "nbformat_minor": 5
}
