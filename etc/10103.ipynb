{
 "cells": [
  {
   "cell_type": "markdown",
   "id": "quantitative-elite",
   "metadata": {},
   "source": [
    "# 10103 주사위 게임"
   ]
  },
  {
   "cell_type": "code",
   "execution_count": 8,
   "id": "utility-glory",
   "metadata": {},
   "outputs": [
    {
     "name": "stdin",
     "output_type": "stream",
     "text": [
      " 5 6\n",
      " 6 6\n",
      " 4 3\n",
      " 5 2\n"
     ]
    }
   ],
   "source": [
    "A, B = 100, 100\n",
    "N = int(input())\n",
    "for i in range(N):\n",
    "    a,b = map(int, (input().split()))\n",
    "    if a>b:\n",
    "        B -= a\n",
    "    if a<b:\n",
    "        A -= b\n",
    "    else:\n",
    "        pass\n",
    "print(A,B,sep='\\n')"
   ]
  }
 ],
 "metadata": {
  "kernelspec": {
   "display_name": "Python 3",
   "language": "python",
   "name": "python3"
  },
  "language_info": {
   "codemirror_mode": {
    "name": "ipython",
    "version": 3
   },
   "file_extension": ".py",
   "mimetype": "text/x-python",
   "name": "python",
   "nbconvert_exporter": "python",
   "pygments_lexer": "ipython3",
   "version": "3.8.8"
  }
 },
 "nbformat": 4,
 "nbformat_minor": 5
}
