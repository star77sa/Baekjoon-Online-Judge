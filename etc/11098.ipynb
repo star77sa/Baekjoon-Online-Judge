{
 "cells": [
  {
   "cell_type": "markdown",
   "id": "plastic-jungle",
   "metadata": {},
   "source": [
    "# 11098 첼시를 도와줘!"
   ]
  },
  {
   "cell_type": "code",
   "execution_count": null,
   "id": "pressing-studio",
   "metadata": {},
   "outputs": [],
   "source": [
    "## n = int(input())\n",
    "for _ in range(n):\n",
    "    \n",
    "    C, name = 0, ''\n",
    "    p = int(input())\n",
    "    for _ in range(p):\n",
    "        a, b = input().split()\n",
    "        a = int(a)\n",
    "        if a > C:\n",
    "            C, name = a, b    \n",
    "    print(name)"
   ]
  }
 ],
 "metadata": {
  "kernelspec": {
   "display_name": "Python 3",
   "language": "python",
   "name": "python3"
  },
  "language_info": {
   "codemirror_mode": {
    "name": "ipython",
    "version": 3
   },
   "file_extension": ".py",
   "mimetype": "text/x-python",
   "name": "python",
   "nbconvert_exporter": "python",
   "pygments_lexer": "ipython3",
   "version": "3.8.8"
  }
 },
 "nbformat": 4,
 "nbformat_minor": 5
}
