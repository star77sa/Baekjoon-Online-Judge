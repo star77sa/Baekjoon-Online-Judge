{
 "cells": [
  {
   "cell_type": "markdown",
   "id": "bacterial-insider",
   "metadata": {},
   "source": [
    "# 2920 음계"
   ]
  },
  {
   "cell_type": "code",
   "execution_count": 10,
   "id": "musical-description",
   "metadata": {},
   "outputs": [
    {
     "name": "stdin",
     "output_type": "stream",
     "text": [
      " 8 7 6 5 4 3 2 1\n"
     ]
    },
    {
     "name": "stdout",
     "output_type": "stream",
     "text": [
      "descending\n"
     ]
    }
   ],
   "source": [
    "music = ''.join(input().split())\n",
    "\n",
    "if music == '12345678':\n",
    "    print('ascending')\n",
    "elif music == '87654321':\n",
    "    print('descending')\n",
    "else:\n",
    "    print('mixed')"
   ]
  }
 ],
 "metadata": {
  "kernelspec": {
   "display_name": "Python 3",
   "language": "python",
   "name": "python3"
  },
  "language_info": {
   "codemirror_mode": {
    "name": "ipython",
    "version": 3
   },
   "file_extension": ".py",
   "mimetype": "text/x-python",
   "name": "python",
   "nbconvert_exporter": "python",
   "pygments_lexer": "ipython3",
   "version": "3.8.8"
  }
 },
 "nbformat": 4,
 "nbformat_minor": 5
}
