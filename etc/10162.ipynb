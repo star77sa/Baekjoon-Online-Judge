{
 "cells": [
  {
   "cell_type": "markdown",
   "id": "foster-compression",
   "metadata": {},
   "source": [
    "# 10162 전자레인지"
   ]
  },
  {
   "cell_type": "markdown",
   "id": "sweet-python",
   "metadata": {},
   "source": [
    "A = 300 B = 60 C = 10\n",
    "\n"
   ]
  },
  {
   "cell_type": "code",
   "execution_count": 7,
   "id": "magnetic-level",
   "metadata": {},
   "outputs": [
    {
     "name": "stdin",
     "output_type": "stream",
     "text": [
      " 189\n"
     ]
    },
    {
     "name": "stdout",
     "output_type": "stream",
     "text": [
      "-1\n"
     ]
    }
   ],
   "source": [
    "T = int(input())\n",
    "A, B, C = T//300, T%300//60, T%300%60//10\n",
    "\n",
    "if T%300%60%10 != 0:\n",
    "    print(-1)\n",
    "else:\n",
    "    print(A,B,C)"
   ]
  }
 ],
 "metadata": {
  "kernelspec": {
   "display_name": "Python 3",
   "language": "python",
   "name": "python3"
  },
  "language_info": {
   "codemirror_mode": {
    "name": "ipython",
    "version": 3
   },
   "file_extension": ".py",
   "mimetype": "text/x-python",
   "name": "python",
   "nbconvert_exporter": "python",
   "pygments_lexer": "ipython3",
   "version": "3.8.8"
  }
 },
 "nbformat": 4,
 "nbformat_minor": 5
}
