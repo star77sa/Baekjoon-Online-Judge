{
 "cells": [
  {
   "cell_type": "markdown",
   "id": "appreciated-wagner",
   "metadata": {},
   "source": [
    "# 2309 일곱 난쟁이"
   ]
  },
  {
   "cell_type": "code",
   "execution_count": 72,
   "id": "manual-ethernet",
   "metadata": {},
   "outputs": [
    {
     "name": "stdin",
     "output_type": "stream",
     "text": [
      " 5\n",
      " 5\n",
      " 5\n",
      " 5\n",
      " 5\n",
      " 5\n",
      " 70\n",
      " 20\n",
      " 10\n"
     ]
    }
   ],
   "source": [
    "A = [0 for i in range(9)]\n",
    "for i in range(9):\n",
    "    A[i] = int(input())\n",
    "A.sort()"
   ]
  },
  {
   "cell_type": "code",
   "execution_count": 110,
   "id": "emerging-catch",
   "metadata": {},
   "outputs": [
    {
     "name": "stdout",
     "output_type": "stream",
     "text": [
      "0 1\n",
      "0 2\n",
      "0 3\n",
      "0 4\n",
      "0 5\n",
      "0 6\n",
      "0 7\n",
      "0 8\n",
      "1 2\n",
      "1 3\n",
      "1 4\n",
      "1 5\n",
      "1 6\n",
      "1 7\n",
      "1 8\n",
      "2 3\n",
      "2 4\n",
      "2 5\n",
      "2 6\n",
      "2 7\n",
      "2 8\n",
      "3 4\n",
      "3 5\n",
      "3 6\n",
      "3 7\n",
      "3 8\n",
      "4 5\n",
      "4 6\n",
      "4 7\n",
      "4 8\n",
      "5 6\n",
      "5 7\n",
      "5 8\n",
      "6 7\n",
      "6 8\n",
      "7 8\n"
     ]
    }
   ],
   "source": [
    "for i in range(0, 8):\n",
    "    for j in range(i+1, 9):\n",
    "        temp = A[:]\n",
    "        temp.remove(temp[j])\n",
    "        temp.remove(temp[i])\n",
    "        if sum(temp) == 100:\n",
    "            A = temp\n",
    "            break\n",
    "    if sum(temp) == 100:\n",
    "        break"
   ]
  },
  {
   "cell_type": "code",
   "execution_count": 121,
   "id": "graphic-sending",
   "metadata": {},
   "outputs": [
    {
     "name": "stdout",
     "output_type": "stream",
     "text": [
      "5\n",
      "5\n",
      "5\n",
      "5\n",
      "5\n",
      "5\n",
      "70\n"
     ]
    }
   ],
   "source": [
    "print(*A, sep='\\n')"
   ]
  }
 ],
 "metadata": {
  "kernelspec": {
   "display_name": "Python 3",
   "language": "python",
   "name": "python3"
  },
  "language_info": {
   "codemirror_mode": {
    "name": "ipython",
    "version": 3
   },
   "file_extension": ".py",
   "mimetype": "text/x-python",
   "name": "python",
   "nbconvert_exporter": "python",
   "pygments_lexer": "ipython3",
   "version": "3.8.8"
  }
 },
 "nbformat": 4,
 "nbformat_minor": 5
}
