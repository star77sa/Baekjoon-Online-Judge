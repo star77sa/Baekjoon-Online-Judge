{
 "cells": [
  {
   "cell_type": "markdown",
   "id": "cardiovascular-typing",
   "metadata": {},
   "source": [
    "# 10178 할로윈의 사탕"
   ]
  },
  {
   "cell_type": "code",
   "execution_count": 5,
   "id": "attached-slide",
   "metadata": {},
   "outputs": [
    {
     "name": "stdin",
     "output_type": "stream",
     "text": [
      " 22 3\n"
     ]
    },
    {
     "name": "stdout",
     "output_type": "stream",
     "text": [
      "You get 7 piece(s) and your dad gets 1 piece(s).\n"
     ]
    },
    {
     "name": "stdin",
     "output_type": "stream",
     "text": [
      " 15 5\n"
     ]
    },
    {
     "name": "stdout",
     "output_type": "stream",
     "text": [
      "You get 3 piece(s) and your dad gets 0 piece(s).\n"
     ]
    },
    {
     "name": "stdin",
     "output_type": "stream",
     "text": [
      " 99 8\n"
     ]
    },
    {
     "name": "stdout",
     "output_type": "stream",
     "text": [
      "You get 12 piece(s) and your dad gets 3 piece(s).\n"
     ]
    },
    {
     "name": "stdin",
     "output_type": "stream",
     "text": [
      " 7 4\n"
     ]
    },
    {
     "name": "stdout",
     "output_type": "stream",
     "text": [
      "You get 1 piece(s) and your dad gets 3 piece(s).\n"
     ]
    },
    {
     "name": "stdin",
     "output_type": "stream",
     "text": [
      " 101 5\n"
     ]
    },
    {
     "name": "stdout",
     "output_type": "stream",
     "text": [
      "You get 20 piece(s) and your dad gets 1 piece(s).\n"
     ]
    }
   ],
   "source": [
    "T = int(input())\n",
    "\n",
    "for _ in range(T):\n",
    "    c, v = map(int,input().split())\n",
    "    print(\"You get %d piece(s) and your dad gets %d piece(s).\" %(c//v, c%v))"
   ]
  },
  {
   "cell_type": "code",
   "execution_count": null,
   "id": "white-spouse",
   "metadata": {},
   "outputs": [],
   "source": []
  }
 ],
 "metadata": {
  "kernelspec": {
   "display_name": "Python 3",
   "language": "python",
   "name": "python3"
  },
  "language_info": {
   "codemirror_mode": {
    "name": "ipython",
    "version": 3
   },
   "file_extension": ".py",
   "mimetype": "text/x-python",
   "name": "python",
   "nbconvert_exporter": "python",
   "pygments_lexer": "ipython3",
   "version": "3.8.8"
  }
 },
 "nbformat": 4,
 "nbformat_minor": 5
}
