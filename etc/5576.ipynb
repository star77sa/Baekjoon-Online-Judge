{
 "cells": [
  {
   "cell_type": "markdown",
   "id": "distinct-format",
   "metadata": {},
   "source": [
    "# 5576 콘테스트"
   ]
  },
  {
   "cell_type": "code",
   "execution_count": 3,
   "id": "official-insulation",
   "metadata": {},
   "outputs": [
    {
     "name": "stdin",
     "output_type": "stream",
     "text": [
      " 1\n",
      " 1\n",
      " 1\n",
      " 1\n",
      " 1\n",
      " 1\n",
      " 1\n",
      " 1\n",
      " 1\n",
      " 1\n"
     ]
    }
   ],
   "source": [
    "W = [0 for i in range(10)]\n",
    "K = [0 for i in range(10)]\n",
    "\n",
    "for i in range(10):\n",
    "    W[i] = int(input())\n",
    "    \n",
    "for i in range(10):\n",
    "    K[i] = int(input())\n",
    "    \n",
    "W.sort(reverse=True)\n",
    "K.sort(reverse=True)\n",
    "\n",
    "print(sum(W[:3]), sum(K[:3]))"
   ]
  },
  {
   "cell_type": "code",
   "execution_count": 5,
   "id": "alert-slope",
   "metadata": {},
   "outputs": [
    {
     "name": "stdout",
     "output_type": "stream",
     "text": [
      "3 0\n"
     ]
    }
   ],
   "source": []
  },
  {
   "cell_type": "code",
   "execution_count": null,
   "id": "utility-charlotte",
   "metadata": {},
   "outputs": [],
   "source": []
  }
 ],
 "metadata": {
  "kernelspec": {
   "display_name": "Python 3",
   "language": "python",
   "name": "python3"
  },
  "language_info": {
   "codemirror_mode": {
    "name": "ipython",
    "version": 3
   },
   "file_extension": ".py",
   "mimetype": "text/x-python",
   "name": "python",
   "nbconvert_exporter": "python",
   "pygments_lexer": "ipython3",
   "version": "3.8.8"
  }
 },
 "nbformat": 4,
 "nbformat_minor": 5
}
