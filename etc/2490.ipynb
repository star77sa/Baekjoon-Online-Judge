{
 "cells": [
  {
   "cell_type": "markdown",
   "id": "cardiovascular-casino",
   "metadata": {},
   "source": [
    "# 2490 윷놀이"
   ]
  },
  {
   "cell_type": "code",
   "execution_count": 14,
   "id": "statewide-qatar",
   "metadata": {},
   "outputs": [
    {
     "name": "stdin",
     "output_type": "stream",
     "text": [
      " 0 101\n"
     ]
    },
    {
     "name": "stdout",
     "output_type": "stream",
     "text": [
      "B\n"
     ]
    },
    {
     "name": "stdin",
     "output_type": "stream",
     "text": [
      " 1110\n"
     ]
    },
    {
     "name": "stdout",
     "output_type": "stream",
     "text": [
      "A\n"
     ]
    },
    {
     "name": "stdin",
     "output_type": "stream",
     "text": [
      " 0011\n"
     ]
    },
    {
     "name": "stdout",
     "output_type": "stream",
     "text": [
      "B\n"
     ]
    }
   ],
   "source": [
    "for i in range(3):\n",
    "    yoot = input()\n",
    "\n",
    "    if yoot.count('0') == 1:\n",
    "        print('A')\n",
    "    elif yoot.count('0') == 2:\n",
    "        print('B')\n",
    "    elif yoot.count('0') == 3:\n",
    "        print('C')\n",
    "    elif yoot.count('0') == 4:\n",
    "        print('D')\n",
    "    elif yoot.count('0') == 0:\n",
    "        print('E')"
   ]
  }
 ],
 "metadata": {
  "kernelspec": {
   "display_name": "Python 3",
   "language": "python",
   "name": "python3"
  },
  "language_info": {
   "codemirror_mode": {
    "name": "ipython",
    "version": 3
   },
   "file_extension": ".py",
   "mimetype": "text/x-python",
   "name": "python",
   "nbconvert_exporter": "python",
   "pygments_lexer": "ipython3",
   "version": "3.8.8"
  }
 },
 "nbformat": 4,
 "nbformat_minor": 5
}
