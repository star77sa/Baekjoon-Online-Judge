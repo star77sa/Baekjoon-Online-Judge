{
 "cells": [
  {
   "cell_type": "markdown",
   "id": "embedded-cambodia",
   "metadata": {},
   "source": [
    "# 2754 학점계산"
   ]
  },
  {
   "cell_type": "code",
   "execution_count": 1,
   "id": "legislative-headset",
   "metadata": {},
   "outputs": [
    {
     "name": "stdin",
     "output_type": "stream",
     "text": [
      " A0\n"
     ]
    }
   ],
   "source": [
    "N = input()"
   ]
  },
  {
   "cell_type": "code",
   "execution_count": 2,
   "id": "digital-teddy",
   "metadata": {},
   "outputs": [],
   "source": [
    "if N[0] == 'A':\n",
    "    result = 4\n",
    "elif N[0] == 'B':\n",
    "    result = 3\n",
    "elif N[0] == 'C':\n",
    "    result = 2\n",
    "elif N[0] == 'D':\n",
    "    result = 1\n",
    "else:\n",
    "    result = 0"
   ]
  },
  {
   "cell_type": "code",
   "execution_count": 3,
   "id": "median-robin",
   "metadata": {},
   "outputs": [
    {
     "name": "stdout",
     "output_type": "stream",
     "text": [
      "4.0\n"
     ]
    }
   ],
   "source": [
    "if N != 'F':\n",
    "    if N[1] == '+':\n",
    "        result += 0.3\n",
    "    elif N[1] == '0':\n",
    "        pass\n",
    "    else:\n",
    "        result -= 0.3\n",
    "\n",
    "print('%.1f' %result)"
   ]
  },
  {
   "cell_type": "code",
   "execution_count": null,
   "id": "constant-numbers",
   "metadata": {},
   "outputs": [],
   "source": []
  }
 ],
 "metadata": {
  "kernelspec": {
   "display_name": "Python 3",
   "language": "python",
   "name": "python3"
  },
  "language_info": {
   "codemirror_mode": {
    "name": "ipython",
    "version": 3
   },
   "file_extension": ".py",
   "mimetype": "text/x-python",
   "name": "python",
   "nbconvert_exporter": "python",
   "pygments_lexer": "ipython3",
   "version": "3.8.8"
  }
 },
 "nbformat": 4,
 "nbformat_minor": 5
}
