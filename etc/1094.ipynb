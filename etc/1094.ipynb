{
 "cells": [
  {
   "cell_type": "markdown",
   "id": "flush-niagara",
   "metadata": {},
   "source": [
    "# 1094 막대기"
   ]
  },
  {
   "cell_type": "code",
   "execution_count": 16,
   "id": "rapid-breast",
   "metadata": {},
   "outputs": [
    {
     "name": "stdin",
     "output_type": "stream",
     "text": [
      " 48\n"
     ]
    },
    {
     "name": "stdout",
     "output_type": "stream",
     "text": [
      "32\n",
      "16\n",
      "2\n"
     ]
    }
   ],
   "source": [
    "X = int(input())\n",
    "a = 64\n",
    "count = 0\n",
    "while X != 0:\n",
    "    while a>X:\n",
    "    \n",
    "        a = a//2  \n",
    "    count = count + 1\n",
    "    X = X - a\n",
    "print(count)"
   ]
  }
 ],
 "metadata": {
  "kernelspec": {
   "display_name": "Python 3",
   "language": "python",
   "name": "python3"
  },
  "language_info": {
   "codemirror_mode": {
    "name": "ipython",
    "version": 3
   },
   "file_extension": ".py",
   "mimetype": "text/x-python",
   "name": "python",
   "nbconvert_exporter": "python",
   "pygments_lexer": "ipython3",
   "version": "3.8.8"
  }
 },
 "nbformat": 4,
 "nbformat_minor": 5
}
