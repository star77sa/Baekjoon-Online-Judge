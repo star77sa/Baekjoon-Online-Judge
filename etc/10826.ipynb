{
 "cells": [
  {
   "cell_type": "markdown",
   "id": "embedded-tunisia",
   "metadata": {},
   "source": [
    "# 10826 피보나치 수 4"
   ]
  },
  {
   "cell_type": "code",
   "execution_count": 2,
   "id": "upset-diagnosis",
   "metadata": {},
   "outputs": [
    {
     "name": "stdin",
     "output_type": "stream",
     "text": [
      " 10\n"
     ]
    },
    {
     "name": "stdout",
     "output_type": "stream",
     "text": [
      "55\n"
     ]
    }
   ],
   "source": [
    "Fib = [0 for i in range(10001)]\n",
    "Fib[1] = 1\n",
    "n = int(input())\n",
    "\n",
    "for i in range(2, n+1):\n",
    "    Fib[i] = Fib[i-1] + Fib[i-2]\n",
    "\n",
    "print(Fib[n])"
   ]
  }
 ],
 "metadata": {
  "kernelspec": {
   "display_name": "Python 3",
   "language": "python",
   "name": "python3"
  },
  "language_info": {
   "codemirror_mode": {
    "name": "ipython",
    "version": 3
   },
   "file_extension": ".py",
   "mimetype": "text/x-python",
   "name": "python",
   "nbconvert_exporter": "python",
   "pygments_lexer": "ipython3",
   "version": "3.8.8"
  }
 },
 "nbformat": 4,
 "nbformat_minor": 5
}
