{
 "cells": [
  {
   "cell_type": "markdown",
   "id": "subjective-sudan",
   "metadata": {},
   "source": [
    "# 2530 인공지능 시계"
   ]
  },
  {
   "cell_type": "code",
   "execution_count": null,
   "id": "intermediate-isaac",
   "metadata": {},
   "outputs": [],
   "source": [
    "A, B, C = map(int, input().split())\n",
    "D = int(input())\n",
    "\n",
    "b, c = D//60, D%60\n",
    "a, b = b//60, b%60\n",
    "\n",
    "C, B, A = (C + c) % 60, (B + b + (C + c)//60) % 60, (A + a + (B + b + (C + c)//60) // 60)%24\n",
    "\n",
    "print(A,B,C)"
   ]
  },
  {
   "cell_type": "code",
   "execution_count": null,
   "id": "final-rings",
   "metadata": {},
   "outputs": [],
   "source": []
  }
 ],
 "metadata": {
  "kernelspec": {
   "display_name": "Python 3",
   "language": "python",
   "name": "python3"
  },
  "language_info": {
   "codemirror_mode": {
    "name": "ipython",
    "version": 3
   },
   "file_extension": ".py",
   "mimetype": "text/x-python",
   "name": "python",
   "nbconvert_exporter": "python",
   "pygments_lexer": "ipython3",
   "version": "3.8.8"
  }
 },
 "nbformat": 4,
 "nbformat_minor": 5
}
