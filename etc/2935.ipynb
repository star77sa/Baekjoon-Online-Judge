{
 "cells": [
  {
   "cell_type": "markdown",
   "id": "verified-timing",
   "metadata": {},
   "source": [
    "# 2935 소음"
   ]
  },
  {
   "cell_type": "code",
   "execution_count": 1,
   "id": "established-findings",
   "metadata": {},
   "outputs": [
    {
     "name": "stdin",
     "output_type": "stream",
     "text": [
      " 1000\n"
     ]
    }
   ],
   "source": [
    "A = int(input())\n",
    "oper = input()\n",
    "B = int(input())\n",
    "\n",
    "if oper == '+':\n",
    "    print(A+B)\n",
    "else:\n",
    "    print(A*B)"
   ]
  }
 ],
 "metadata": {
  "kernelspec": {
   "display_name": "Python 3",
   "language": "python",
   "name": "python3"
  },
  "language_info": {
   "codemirror_mode": {
    "name": "ipython",
    "version": 3
   },
   "file_extension": ".py",
   "mimetype": "text/x-python",
   "name": "python",
   "nbconvert_exporter": "python",
   "pygments_lexer": "ipython3",
   "version": "3.8.8"
  }
 },
 "nbformat": 4,
 "nbformat_minor": 5
}
