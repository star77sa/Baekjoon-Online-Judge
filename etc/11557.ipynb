{
 "cells": [
  {
   "cell_type": "markdown",
   "id": "enormous-providence",
   "metadata": {},
   "source": [
    "# 11557 Yangjojang of The Year"
   ]
  },
  {
   "cell_type": "code",
   "execution_count": 1,
   "id": "adult-infrastructure",
   "metadata": {},
   "outputs": [
    {
     "name": "stdin",
     "output_type": "stream",
     "text": [
      " 2\n"
     ]
    }
   ],
   "source": [
    "T = int(input())"
   ]
  },
  {
   "cell_type": "code",
   "execution_count": 15,
   "id": "individual-format",
   "metadata": {},
   "outputs": [
    {
     "name": "stdin",
     "output_type": "stream",
     "text": [
      " 3\n",
      " Yo 10\n",
      " Ko 1999\n",
      " ewha 20\n"
     ]
    },
    {
     "name": "stdout",
     "output_type": "stream",
     "text": [
      "Ko\n"
     ]
    },
    {
     "name": "stdin",
     "output_type": "stream",
     "text": [
      " 2\n",
      " Ye 1\n",
      " ko 1000\n"
     ]
    },
    {
     "name": "stdout",
     "output_type": "stream",
     "text": [
      "ko\n"
     ]
    }
   ],
   "source": [
    "for _ in range(T):\n",
    "    N = int(input())\n",
    "    A = [0 for i in range(N)]\n",
    "    for i in range(N):\n",
    "        A[i] = list(input().split())\n",
    "        A[i][1] = int(A[i][1])\n",
    "    A.sort(key = lambda x : x[1])\n",
    "    print(A[-1][0])"
   ]
  }
 ],
 "metadata": {
  "kernelspec": {
   "display_name": "Python 3",
   "language": "python",
   "name": "python3"
  },
  "language_info": {
   "codemirror_mode": {
    "name": "ipython",
    "version": 3
   },
   "file_extension": ".py",
   "mimetype": "text/x-python",
   "name": "python",
   "nbconvert_exporter": "python",
   "pygments_lexer": "ipython3",
   "version": "3.8.8"
  }
 },
 "nbformat": 4,
 "nbformat_minor": 5
}
