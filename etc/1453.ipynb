{
 "cells": [
  {
   "cell_type": "markdown",
   "id": "ranging-parker",
   "metadata": {},
   "source": [
    "# 1453 피시방 알바"
   ]
  },
  {
   "cell_type": "code",
   "execution_count": 10,
   "id": "distributed-pioneer",
   "metadata": {},
   "outputs": [
    {
     "name": "stdin",
     "output_type": "stream",
     "text": [
      " 4\n",
      " 1 1 1 \n"
     ]
    },
    {
     "name": "stdout",
     "output_type": "stream",
     "text": [
      "2\n"
     ]
    }
   ],
   "source": [
    "arr = [0 for i in range(100)]\n",
    "N = int(input())\n",
    "A = list(map(int,input().split()))\n",
    "\n",
    "count = 0\n",
    "for i in A:\n",
    "    if arr[i-1] != 1:\n",
    "        arr[i-1] = 1\n",
    "    else:\n",
    "        count += 1\n",
    "        \n",
    "print(count)"
   ]
  }
 ],
 "metadata": {
  "kernelspec": {
   "display_name": "Python 3",
   "language": "python",
   "name": "python3"
  },
  "language_info": {
   "codemirror_mode": {
    "name": "ipython",
    "version": 3
   },
   "file_extension": ".py",
   "mimetype": "text/x-python",
   "name": "python",
   "nbconvert_exporter": "python",
   "pygments_lexer": "ipython3",
   "version": "3.8.8"
  }
 },
 "nbformat": 4,
 "nbformat_minor": 5
}
