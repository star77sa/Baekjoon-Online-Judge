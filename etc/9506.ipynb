{
 "cells": [
  {
   "cell_type": "markdown",
   "id": "marine-sleeve",
   "metadata": {},
   "source": [
    "# 9506 약수들의 합"
   ]
  },
  {
   "cell_type": "code",
   "execution_count": 45,
   "id": "mexican-glory",
   "metadata": {},
   "outputs": [
    {
     "name": "stdin",
     "output_type": "stream",
     "text": [
      " 6\n"
     ]
    },
    {
     "name": "stdout",
     "output_type": "stream",
     "text": [
      "6 = 1 + 2 + 3\n"
     ]
    },
    {
     "name": "stdin",
     "output_type": "stream",
     "text": [
      " 12\n"
     ]
    },
    {
     "name": "stdout",
     "output_type": "stream",
     "text": [
      "12 is NOT perfect\n"
     ]
    },
    {
     "name": "stdin",
     "output_type": "stream",
     "text": [
      " 28\n"
     ]
    },
    {
     "name": "stdout",
     "output_type": "stream",
     "text": [
      "28 = 1 + 2 + 4 + 7 + 14\n"
     ]
    },
    {
     "name": "stdin",
     "output_type": "stream",
     "text": [
      " -2\n"
     ]
    },
    {
     "name": "stdout",
     "output_type": "stream",
     "text": [
      "-2 is NOT perfect\n"
     ]
    },
    {
     "name": "stdin",
     "output_type": "stream",
     "text": [
      " -1\n"
     ]
    }
   ],
   "source": [
    "N = int(input())\n",
    "while N != -1:\n",
    "    data = []\n",
    "    for i in range(1,N):\n",
    "        if N%i == 0:\n",
    "            data.append(i)\n",
    "    \n",
    "    if sum(data) == N:\n",
    "        print(N,'=', end=' ')\n",
    "        print(*data, sep = ' + ')\n",
    "    else:\n",
    "        print(N,'is NOT perfect.')\n",
    "    N = int(input())"
   ]
  }
 ],
 "metadata": {
  "kernelspec": {
   "display_name": "Python 3",
   "language": "python",
   "name": "python3"
  },
  "language_info": {
   "codemirror_mode": {
    "name": "ipython",
    "version": 3
   },
   "file_extension": ".py",
   "mimetype": "text/x-python",
   "name": "python",
   "nbconvert_exporter": "python",
   "pygments_lexer": "ipython3",
   "version": "3.8.8"
  }
 },
 "nbformat": 4,
 "nbformat_minor": 5
}
