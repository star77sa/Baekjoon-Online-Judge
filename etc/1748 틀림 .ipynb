{
 "cells": [
  {
   "cell_type": "markdown",
   "id": "facial-california",
   "metadata": {},
   "source": [
    "# 1748 수 이어 쓰기 1"
   ]
  },
  {
   "cell_type": "markdown",
   "id": "animal-aviation",
   "metadata": {},
   "source": [
    "1 부터 n 까지의 모든 자연수가 그냥 모여있다고 해봅시다\n",
    "\n",
    "1의자리수가 존재하는 수는 n개가 있겠죠?\n",
    "\n",
    "그럼 10의자리수가 존재하는 수는 몇개가 있을까요?\n",
    "\n",
    "10부터 n까지겠죠? 개수는  n - 10 + 1 개가 될거고요.\n",
    "\n",
    "마찬가지로 100의자리수가 존재하는 수는\n",
    "\n",
    "n - 100 + 1 개가 있고요.\n",
    "\n",
    "이런 식으로 생각해서 죽 더해나간것입니다"
   ]
  },
  {
   "cell_type": "code",
   "execution_count": 56,
   "id": "comparable-accessory",
   "metadata": {},
   "outputs": [
    {
     "name": "stdin",
     "output_type": "stream",
     "text": [
      " 5\n"
     ]
    }
   ],
   "source": []
  },
  {
   "cell_type": "markdown",
   "id": "demanding-singapore",
   "metadata": {},
   "source": [
    "```\n",
    "count = count + N                # 1의자리 \n",
    "couut = count + N - 10 + 1 # 9   # 10의자리\n",
    "count = count + N - 100 + 1 # 99 # 100의자리\n",
    ".\n",
    ".\n",
    ".\n",
    "count = count + N - 100,000,000 +1 # 1억의 자리\n",
    "\n",
    "```"
   ]
  },
  {
   "cell_type": "code",
   "execution_count": 70,
   "id": "adjacent-multiple",
   "metadata": {},
   "outputs": [
    {
     "name": "stdin",
     "output_type": "stream",
     "text": [
      " 1000000000\n"
     ]
    },
    {
     "name": "stdout",
     "output_type": "stream",
     "text": [
      "8999999649\n"
     ]
    }
   ],
   "source": [
    "N= int(input())\n",
    "count = 0\n",
    "\n",
    "# i = 0 ~ len(N)-1 젤큰자리수 -1 까지 싹 더하고, 맨 첫수는 따로 더하자.\n",
    "for i in range(0, len(str(N))-1):\n",
    "    count = count + N - 10*i + 1\n",
    "\n",
    "if len(str(N)) == 1:\n",
    "    print(N)\n",
    "else:\n",
    "    print(count + int(str(N)[1:]))"
   ]
  },
  {
   "cell_type": "code",
   "execution_count": null,
   "id": "determined-basis",
   "metadata": {},
   "outputs": [],
   "source": []
  }
 ],
 "metadata": {
  "kernelspec": {
   "display_name": "Python 3",
   "language": "python",
   "name": "python3"
  },
  "language_info": {
   "codemirror_mode": {
    "name": "ipython",
    "version": 3
   },
   "file_extension": ".py",
   "mimetype": "text/x-python",
   "name": "python",
   "nbconvert_exporter": "python",
   "pygments_lexer": "ipython3",
   "version": "3.8.8"
  }
 },
 "nbformat": 4,
 "nbformat_minor": 5
}
