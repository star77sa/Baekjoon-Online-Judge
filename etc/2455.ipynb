{
 "cells": [
  {
   "cell_type": "markdown",
   "id": "bulgarian-george",
   "metadata": {},
   "source": [
    "# 2455 지능형 기차"
   ]
  },
  {
   "cell_type": "code",
   "execution_count": 2,
   "id": "computational-course",
   "metadata": {},
   "outputs": [
    {
     "name": "stdin",
     "output_type": "stream",
     "text": [
      " 0 32\n",
      " 3 13\n",
      " 28 25\n",
      " 39 0\n"
     ]
    },
    {
     "name": "stdout",
     "output_type": "stream",
     "text": [
      "42\n"
     ]
    }
   ],
   "source": [
    "tmp = 0\n",
    "count = 0\n",
    "for i in range (4):\n",
    "    D, U = map(int, input().split())\n",
    "    count = count - D + U\n",
    "    if tmp < count:\n",
    "        tmp = count\n",
    "print(tmp)"
   ]
  }
 ],
 "metadata": {
  "kernelspec": {
   "display_name": "Python 3",
   "language": "python",
   "name": "python3"
  },
  "language_info": {
   "codemirror_mode": {
    "name": "ipython",
    "version": 3
   },
   "file_extension": ".py",
   "mimetype": "text/x-python",
   "name": "python",
   "nbconvert_exporter": "python",
   "pygments_lexer": "ipython3",
   "version": "3.8.8"
  }
 },
 "nbformat": 4,
 "nbformat_minor": 5
}
