{
 "cells": [
  {
   "cell_type": "markdown",
   "id": "ideal-beaver",
   "metadata": {},
   "source": [
    "# 5355 화성 수학"
   ]
  },
  {
   "cell_type": "code",
   "execution_count": 1,
   "id": "elder-belarus",
   "metadata": {},
   "outputs": [
    {
     "name": "stdin",
     "output_type": "stream",
     "text": [
      " 3\n"
     ]
    }
   ],
   "source": [
    "T = int(input())"
   ]
  },
  {
   "cell_type": "code",
   "execution_count": null,
   "id": "strange-surface",
   "metadata": {},
   "outputs": [
    {
     "name": "stdin",
     "output_type": "stream",
     "text": [
      " 10.4 # % @\n"
     ]
    },
    {
     "name": "stdout",
     "output_type": "stream",
     "text": [
      "25.20\n"
     ]
    },
    {
     "name": "stdin",
     "output_type": "stream",
     "text": [
      " 3 @ %\n"
     ]
    },
    {
     "name": "stdout",
     "output_type": "stream",
     "text": [
      "14.00\n"
     ]
    }
   ],
   "source": [
    "for i in range(T):\n",
    "    A = input().split()\n",
    "    A[0] = float(A[0])\n",
    "    for i in range(1, len(A)):\n",
    "        if A[i] == '@':\n",
    "            A[0] *= 3\n",
    "        elif A[i] == '%':\n",
    "            A[0] += 5\n",
    "        else:\n",
    "            A[0] -= 7\n",
    "    print('%.2f' %A[0])"
   ]
  },
  {
   "cell_type": "code",
   "execution_count": null,
   "id": "equal-violence",
   "metadata": {},
   "outputs": [],
   "source": []
  }
 ],
 "metadata": {
  "kernelspec": {
   "display_name": "Python 3",
   "language": "python",
   "name": "python3"
  },
  "language_info": {
   "codemirror_mode": {
    "name": "ipython",
    "version": 3
   },
   "file_extension": ".py",
   "mimetype": "text/x-python",
   "name": "python",
   "nbconvert_exporter": "python",
   "pygments_lexer": "ipython3",
   "version": "3.8.8"
  }
 },
 "nbformat": 4,
 "nbformat_minor": 5
}
