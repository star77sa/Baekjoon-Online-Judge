{
 "cells": [
  {
   "cell_type": "markdown",
   "id": "comparative-polls",
   "metadata": {},
   "source": [
    "# 1026 보물"
   ]
  },
  {
   "cell_type": "code",
   "execution_count": 1,
   "id": "extreme-owner",
   "metadata": {},
   "outputs": [
    {
     "name": "stdin",
     "output_type": "stream",
     "text": [
      " 5\n"
     ]
    }
   ],
   "source": [
    "N = int(input())"
   ]
  },
  {
   "cell_type": "code",
   "execution_count": 4,
   "id": "raised-sperm",
   "metadata": {},
   "outputs": [
    {
     "name": "stdin",
     "output_type": "stream",
     "text": [
      " 1 1 1 6 0\n",
      " 2 7 8 3 1\n"
     ]
    }
   ],
   "source": [
    "A = list(map(int, input().split()))\n",
    "B= list(map(int, input().split()))"
   ]
  },
  {
   "cell_type": "code",
   "execution_count": 6,
   "id": "allied-archives",
   "metadata": {},
   "outputs": [],
   "source": [
    "A.sort()\n",
    "B.sort(reverse=True)"
   ]
  },
  {
   "cell_type": "code",
   "execution_count": 11,
   "id": "stylish-traveler",
   "metadata": {},
   "outputs": [],
   "source": [
    "sum = 0 \n",
    "for i in range(N):\n",
    "    sum += A[i] * B[i]"
   ]
  },
  {
   "cell_type": "code",
   "execution_count": 12,
   "id": "opponent-bhutan",
   "metadata": {},
   "outputs": [
    {
     "data": {
      "text/plain": [
       "18"
      ]
     },
     "execution_count": 12,
     "metadata": {},
     "output_type": "execute_result"
    }
   ],
   "source": [
    "print(sum)"
   ]
  }
 ],
 "metadata": {
  "kernelspec": {
   "display_name": "Python 3",
   "language": "python",
   "name": "python3"
  },
  "language_info": {
   "codemirror_mode": {
    "name": "ipython",
    "version": 3
   },
   "file_extension": ".py",
   "mimetype": "text/x-python",
   "name": "python",
   "nbconvert_exporter": "python",
   "pygments_lexer": "ipython3",
   "version": "3.8.8"
  }
 },
 "nbformat": 4,
 "nbformat_minor": 5
}
