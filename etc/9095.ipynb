{
 "cells": [
  {
   "cell_type": "markdown",
   "id": "american-basics",
   "metadata": {},
   "source": [
    "# 9095 1, 2, 3 더하기"
   ]
  },
  {
   "cell_type": "markdown",
   "id": "seeing-backing",
   "metadata": {},
   "source": [
    "d(n) = d(n-1) + d(n-2) + d(n-3)"
   ]
  },
  {
   "cell_type": "code",
   "execution_count": 8,
   "id": "innocent-banner",
   "metadata": {},
   "outputs": [],
   "source": [
    "dp = [0 for i in range(11)]"
   ]
  },
  {
   "cell_type": "code",
   "execution_count": 9,
   "id": "noble-tooth",
   "metadata": {},
   "outputs": [],
   "source": [
    "dp[1] = 1\n",
    "dp[2] = 2\n",
    "dp[3] = 4"
   ]
  },
  {
   "cell_type": "code",
   "execution_count": 14,
   "id": "sought-brisbane",
   "metadata": {},
   "outputs": [
    {
     "name": "stdin",
     "output_type": "stream",
     "text": [
      " 3\n",
      " 1\n"
     ]
    },
    {
     "name": "stdout",
     "output_type": "stream",
     "text": [
      "1\n"
     ]
    },
    {
     "name": "stdin",
     "output_type": "stream",
     "text": [
      " 2\n"
     ]
    },
    {
     "name": "stdout",
     "output_type": "stream",
     "text": [
      "2\n"
     ]
    },
    {
     "name": "stdin",
     "output_type": "stream",
     "text": [
      " 3\n"
     ]
    },
    {
     "name": "stdout",
     "output_type": "stream",
     "text": [
      "4\n"
     ]
    }
   ],
   "source": [
    "T = int(input())\n",
    "for i in range(T):\n",
    "    N = int(input())\n",
    "    for j in range(1, N+1):\n",
    "        if dp[j] == 0:\n",
    "            dp[j] = dp[j-1] + dp[j-2] + dp[j-3]\n",
    "    print(dp[N])"
   ]
  }
 ],
 "metadata": {
  "kernelspec": {
   "display_name": "Python 3",
   "language": "python",
   "name": "python3"
  },
  "language_info": {
   "codemirror_mode": {
    "name": "ipython",
    "version": 3
   },
   "file_extension": ".py",
   "mimetype": "text/x-python",
   "name": "python",
   "nbconvert_exporter": "python",
   "pygments_lexer": "ipython3",
   "version": "3.8.8"
  }
 },
 "nbformat": 4,
 "nbformat_minor": 5
}
