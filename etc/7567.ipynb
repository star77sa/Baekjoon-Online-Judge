{
 "cells": [
  {
   "cell_type": "markdown",
   "id": "physical-migration",
   "metadata": {},
   "source": [
    "# 7567 그릇"
   ]
  },
  {
   "cell_type": "code",
   "execution_count": 7,
   "id": "given-landscape",
   "metadata": {},
   "outputs": [],
   "source": [
    "string = input()\n",
    "height = 10\n",
    "cur = string[0]"
   ]
  },
  {
   "cell_type": "code",
   "execution_count": 9,
   "id": "subsequent-replication",
   "metadata": {},
   "outputs": [],
   "source": [
    "for i in range(1, len(string)):\n",
    "    if cur != string[i]:\n",
    "        height += 10\n",
    "    else:\n",
    "        height += 5\n",
    "    cur = string[i]"
   ]
  },
  {
   "cell_type": "code",
   "execution_count": 10,
   "id": "surgical-counter",
   "metadata": {},
   "outputs": [
    {
     "data": {
      "text/plain": [
       "80"
      ]
     },
     "execution_count": 10,
     "metadata": {},
     "output_type": "execute_result"
    }
   ],
   "source": [
    "print(height)"
   ]
  }
 ],
 "metadata": {
  "kernelspec": {
   "display_name": "Python 3",
   "language": "python",
   "name": "python3"
  },
  "language_info": {
   "codemirror_mode": {
    "name": "ipython",
    "version": 3
   },
   "file_extension": ".py",
   "mimetype": "text/x-python",
   "name": "python",
   "nbconvert_exporter": "python",
   "pygments_lexer": "ipython3",
   "version": "3.8.8"
  }
 },
 "nbformat": 4,
 "nbformat_minor": 5
}
