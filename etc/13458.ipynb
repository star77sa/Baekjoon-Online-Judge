{
 "cells": [
  {
   "cell_type": "markdown",
   "id": "exterior-divorce",
   "metadata": {},
   "source": [
    "# 13458 시험감독"
   ]
  },
  {
   "cell_type": "markdown",
   "id": "eastern-roberts",
   "metadata": {},
   "source": [
    "( 인원수 - 총감독 ) / 부감독 -> 올림처리."
   ]
  },
  {
   "cell_type": "code",
   "execution_count": 47,
   "id": "understood-temperature",
   "metadata": {},
   "outputs": [
    {
     "name": "stdin",
     "output_type": "stream",
     "text": [
      " 5\n",
      " 1000000 1000000 1000000 1000000 1000000\n",
      " 5 7\n"
     ]
    }
   ],
   "source": [
    "import math\n",
    "\n",
    "N = int(input())\n",
    "A = list(map(int, input().split()))\n",
    "B, C = map(int,input().split())"
   ]
  },
  {
   "cell_type": "code",
   "execution_count": 48,
   "id": "cooperative-ethics",
   "metadata": {},
   "outputs": [],
   "source": [
    "num = N\n",
    "\n",
    "for i in range(N):\n",
    "    if A[i] > B:\n",
    "        num = num + math.ceil((A[i]-B)/C)"
   ]
  },
  {
   "cell_type": "code",
   "execution_count": 49,
   "id": "superb-auditor",
   "metadata": {},
   "outputs": [
    {
     "name": "stdout",
     "output_type": "stream",
     "text": [
      "714290\n"
     ]
    }
   ],
   "source": [
    "print(num)"
   ]
  }
 ],
 "metadata": {
  "kernelspec": {
   "display_name": "Python 3",
   "language": "python",
   "name": "python3"
  },
  "language_info": {
   "codemirror_mode": {
    "name": "ipython",
    "version": 3
   },
   "file_extension": ".py",
   "mimetype": "text/x-python",
   "name": "python",
   "nbconvert_exporter": "python",
   "pygments_lexer": "ipython3",
   "version": "3.8.8"
  }
 },
 "nbformat": 4,
 "nbformat_minor": 5
}
