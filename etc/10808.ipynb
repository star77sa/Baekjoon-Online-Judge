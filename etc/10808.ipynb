{
 "cells": [
  {
   "cell_type": "markdown",
   "id": "corresponding-illinois",
   "metadata": {},
   "source": [
    "# 10808 알파뱃 개수"
   ]
  },
  {
   "cell_type": "markdown",
   "id": "technical-circulation",
   "metadata": {},
   "source": [
    "```\n",
    "a b c d e f g h i j k  l  m  n  o  p  q  r  s  t  u  v  w  x  y  z\n",
    "\n",
    "0 1 2 3 4 5 6 7 8 9 10 11 12 13 14 15 16 17 18 19 20 21 22 23 24 25   26개\n",
    "```"
   ]
  },
  {
   "cell_type": "code",
   "execution_count": 20,
   "id": "large-valuation",
   "metadata": {},
   "outputs": [
    {
     "name": "stdin",
     "output_type": "stream",
     "text": [
      " beakjoon\n"
     ]
    },
    {
     "name": "stdout",
     "output_type": "stream",
     "text": [
      "1 1 0 0 1 0 0 0 0 1 1 0 0 1 2 0 0 0 0 0 0 0 0 0 0 0\n"
     ]
    }
   ],
   "source": [
    "string = input()\n",
    "\n",
    "alpha = [0,0,0,0,0,0,0,0,0,0,0,0,0,0,0,0,0,0,0,0,0,0,0,0,0,0]\n",
    "\n",
    "alpha[0] = string.count('a')\n",
    "alpha[1] = string.count('b')\n",
    "alpha[2] = string.count('c')\n",
    "alpha[3] = string.count('d')\n",
    "alpha[4] = string.count('e')\n",
    "alpha[5] = string.count('f')\n",
    "alpha[6] = string.count('g')\n",
    "alpha[7] = string.count('h')\n",
    "alpha[8] = string.count('i')\n",
    "alpha[9] = string.count('j')\n",
    "alpha[10] = string.count('k')\n",
    "alpha[11] = string.count('l')\n",
    "alpha[12] = string.count('m')\n",
    "alpha[13] = string.count('n')\n",
    "alpha[14] = string.count('o')\n",
    "alpha[15] = string.count('p')\n",
    "alpha[16] = string.count('q')\n",
    "alpha[17] = string.count('r')\n",
    "alpha[18] = string.count('s')\n",
    "alpha[19] = string.count('t')\n",
    "alpha[20] = string.count('u')\n",
    "alpha[21] = string.count('v')\n",
    "alpha[22] = string.count('w')\n",
    "alpha[23] = string.count('x')\n",
    "alpha[24] = string.count('y')\n",
    "alpha[25] = string.count('z')\n",
    "\n",
    "print(*alpha)"
   ]
  },
  {
   "cell_type": "code",
   "execution_count": null,
   "id": "adjusted-league",
   "metadata": {},
   "outputs": [],
   "source": []
  }
 ],
 "metadata": {
  "kernelspec": {
   "display_name": "Python 3",
   "language": "python",
   "name": "python3"
  },
  "language_info": {
   "codemirror_mode": {
    "name": "ipython",
    "version": 3
   },
   "file_extension": ".py",
   "mimetype": "text/x-python",
   "name": "python",
   "nbconvert_exporter": "python",
   "pygments_lexer": "ipython3",
   "version": "3.8.8"
  }
 },
 "nbformat": 4,
 "nbformat_minor": 5
}
