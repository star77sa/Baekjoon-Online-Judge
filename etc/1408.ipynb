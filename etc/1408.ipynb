{
 "cells": [
  {
   "cell_type": "markdown",
   "id": "accompanied-column",
   "metadata": {},
   "source": [
    "# 1408 24"
   ]
  },
  {
   "cell_type": "code",
   "execution_count": 27,
   "id": "three-palestinian",
   "metadata": {},
   "outputs": [
    {
     "name": "stdin",
     "output_type": "stream",
     "text": [
      " 13:52:30\n",
      " 14:00:00\n"
     ]
    }
   ],
   "source": [
    "cur = list(map(int,input().split(':')))\n",
    "start = list(map(int,input().split(':')))"
   ]
  },
  {
   "cell_type": "code",
   "execution_count": 33,
   "id": "adjustable-raise",
   "metadata": {},
   "outputs": [
    {
     "name": "stdout",
     "output_type": "stream",
     "text": [
      "00:07:30\n"
     ]
    }
   ],
   "source": [
    "\n",
    "start[0] += 24\n",
    "(cur[0], cur[1], cur[2]) = (0, 0, cur[0]*60*60 + cur[1]*60 + cur[2])\n",
    "(start[0], start[1], start[2]) = (0, 0, start[0]*60*60 + start[1]*60 + start[2])\n",
    "\n",
    "result = [0,0,0]\n",
    "\n",
    "result[2] = start[2] - cur[2]\n",
    "\n",
    "result[0] = result[2] // 3600 % 24\n",
    "result[2] = result[2] % 3600\n",
    "\n",
    "result[1] = result[2] // 60\n",
    "result[2] = result[2] % 60\n",
    "\n",
    "result= list(map(str, result))\n",
    "\n",
    "for i in range(3):\n",
    "    if len(result[i]) == 1:\n",
    "        result[i] = '0'+result[i]\n",
    "        \n",
    "print(':'.join(result))"
   ]
  }
 ],
 "metadata": {
  "kernelspec": {
   "display_name": "Python 3",
   "language": "python",
   "name": "python3"
  },
  "language_info": {
   "codemirror_mode": {
    "name": "ipython",
    "version": 3
   },
   "file_extension": ".py",
   "mimetype": "text/x-python",
   "name": "python",
   "nbconvert_exporter": "python",
   "pygments_lexer": "ipython3",
   "version": "3.8.8"
  }
 },
 "nbformat": 4,
 "nbformat_minor": 5
}
