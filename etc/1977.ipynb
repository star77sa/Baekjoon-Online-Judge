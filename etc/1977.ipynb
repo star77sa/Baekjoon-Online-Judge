{
 "cells": [
  {
   "cell_type": "markdown",
   "id": "broke-salad",
   "metadata": {},
   "source": [
    "# 1977 완전제곱수"
   ]
  },
  {
   "cell_type": "code",
   "execution_count": 16,
   "id": "sought-manor",
   "metadata": {},
   "outputs": [
    {
     "name": "stdin",
     "output_type": "stream",
     "text": [
      " 75\n",
      " 80\n"
     ]
    },
    {
     "name": "stdout",
     "output_type": "stream",
     "text": [
      "-1\n"
     ]
    }
   ],
   "source": [
    "import math\n",
    "memory = []\n",
    "\n",
    "A = int(input())\n",
    "B = int(input())\n",
    "a = math.ceil(math.sqrt(A))\n",
    "b = math.floor(math.sqrt(B))\n",
    "\n",
    "for i in range(a, b+1):\n",
    "    memory.append(i**2)\n",
    "\n",
    "if len(memory) != 0:\n",
    "    print(sum(memory))\n",
    "    print(memory[0]) \n",
    "else:\n",
    "    print(-1)"
   ]
  },
  {
   "cell_type": "code",
   "execution_count": null,
   "id": "outstanding-label",
   "metadata": {},
   "outputs": [],
   "source": []
  }
 ],
 "metadata": {
  "kernelspec": {
   "display_name": "Python 3",
   "language": "python",
   "name": "python3"
  },
  "language_info": {
   "codemirror_mode": {
    "name": "ipython",
    "version": 3
   },
   "file_extension": ".py",
   "mimetype": "text/x-python",
   "name": "python",
   "nbconvert_exporter": "python",
   "pygments_lexer": "ipython3",
   "version": "3.8.8"
  }
 },
 "nbformat": 4,
 "nbformat_minor": 5
}
