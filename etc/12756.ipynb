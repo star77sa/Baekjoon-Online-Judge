{
 "cells": [
  {
   "cell_type": "markdown",
   "id": "opened-representation",
   "metadata": {},
   "source": [
    "# 고급 여관"
   ]
  },
  {
   "cell_type": "code",
   "execution_count": 1,
   "id": "religious-arrangement",
   "metadata": {},
   "outputs": [
    {
     "name": "stdin",
     "output_type": "stream",
     "text": [
      " 4 12\n",
      " 5 5\n"
     ]
    }
   ],
   "source": [
    "Aat, Ahp = map(int, (input().split()))\n",
    "Bat, Bhp = map(int, (input().split()))"
   ]
  },
  {
   "cell_type": "code",
   "execution_count": 2,
   "id": "hindu-entity",
   "metadata": {},
   "outputs": [],
   "source": [
    "while Ahp > 0 and Bhp > 0:\n",
    "    Ahp -= Bat\n",
    "    Bhp -= Aat"
   ]
  },
  {
   "cell_type": "code",
   "execution_count": 3,
   "id": "extreme-relief",
   "metadata": {},
   "outputs": [
    {
     "name": "stdout",
     "output_type": "stream",
     "text": [
      "PLAYER A\n"
     ]
    }
   ],
   "source": [
    "if Ahp > 0:\n",
    "    print(\"PLAYER A\")\n",
    "elif Bhp > 0:\n",
    "    print(\"PLAYER B\")\n",
    "else:\n",
    "    print(\"DRAW\")"
   ]
  },
  {
   "cell_type": "code",
   "execution_count": null,
   "id": "clean-pocket",
   "metadata": {},
   "outputs": [],
   "source": []
  }
 ],
 "metadata": {
  "kernelspec": {
   "display_name": "Python 3",
   "language": "python",
   "name": "python3"
  },
  "language_info": {
   "codemirror_mode": {
    "name": "ipython",
    "version": 3
   },
   "file_extension": ".py",
   "mimetype": "text/x-python",
   "name": "python",
   "nbconvert_exporter": "python",
   "pygments_lexer": "ipython3",
   "version": "3.8.8"
  }
 },
 "nbformat": 4,
 "nbformat_minor": 5
}
