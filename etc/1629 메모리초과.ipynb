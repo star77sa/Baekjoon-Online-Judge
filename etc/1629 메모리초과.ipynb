{
 "cells": [
  {
   "cell_type": "markdown",
   "id": "violent-swing",
   "metadata": {},
   "source": [
    "# 1629 곱셈"
   ]
  },
  {
   "cell_type": "code",
   "execution_count": 1,
   "id": "surface-retirement",
   "metadata": {},
   "outputs": [
    {
     "name": "stdin",
     "output_type": "stream",
     "text": [
      " 10 11 12\n"
     ]
    }
   ],
   "source": [
    "A, B, C = map(int, input().split())"
   ]
  },
  {
   "cell_type": "code",
   "execution_count": 12,
   "id": "other-diameter",
   "metadata": {},
   "outputs": [],
   "source": [
    "dp = ['' for i in range(B//2)]"
   ]
  },
  {
   "cell_type": "code",
   "execution_count": 17,
   "id": "dress-grenada",
   "metadata": {},
   "outputs": [],
   "source": [
    "dp[0] = A"
   ]
  },
  {
   "cell_type": "code",
   "execution_count": 24,
   "id": "chronic-competition",
   "metadata": {},
   "outputs": [],
   "source": [
    "for i in range(1, B//2):\n",
    "    dp[i] = dp[i-1]**2%C"
   ]
  },
  {
   "cell_type": "code",
   "execution_count": 25,
   "id": "parallel-illness",
   "metadata": {},
   "outputs": [
    {
     "name": "stdout",
     "output_type": "stream",
     "text": [
      "4\n"
     ]
    }
   ],
   "source": [
    "print(A*dp[-1]**2%C)"
   ]
  },
  {
   "cell_type": "code",
   "execution_count": null,
   "id": "decimal-cinema",
   "metadata": {},
   "outputs": [],
   "source": []
  }
 ],
 "metadata": {
  "kernelspec": {
   "display_name": "Python 3",
   "language": "python",
   "name": "python3"
  },
  "language_info": {
   "codemirror_mode": {
    "name": "ipython",
    "version": 3
   },
   "file_extension": ".py",
   "mimetype": "text/x-python",
   "name": "python",
   "nbconvert_exporter": "python",
   "pygments_lexer": "ipython3",
   "version": "3.8.8"
  }
 },
 "nbformat": 4,
 "nbformat_minor": 5
}
