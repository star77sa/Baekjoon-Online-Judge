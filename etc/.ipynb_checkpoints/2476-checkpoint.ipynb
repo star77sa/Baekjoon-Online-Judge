{
 "cells": [
  {
   "cell_type": "markdown",
   "id": "respective-walnut",
   "metadata": {},
   "source": [
    "# 2480 주사위 세개"
   ]
  },
  {
   "cell_type": "code",
   "execution_count": 24,
   "id": "adequate-story",
   "metadata": {},
   "outputs": [
    {
     "name": "stdin",
     "output_type": "stream",
     "text": [
      " 6 2 5\n"
     ]
    }
   ],
   "source": [
    "data = [[i,0] for i in range(1,7)]\n",
    "\n",
    "\n",
    "a, b, c = map(int, input().split())\n",
    "data[a-1][1] += 1\n",
    "data[b-1][1] += 1\n",
    "data[c-1][1] += 1\n",
    "\n",
    "data.sort(key = lambda x:(x[1], x[0]), reverse=True)"
   ]
  },
  {
   "cell_type": "code",
   "execution_count": 25,
   "id": "sexual-decline",
   "metadata": {},
   "outputs": [
    {
     "name": "stdout",
     "output_type": "stream",
     "text": [
      "600\n"
     ]
    }
   ],
   "source": [
    "if data[0][1] == 3:\n",
    "    print(data[0][0]*1000+10000)\n",
    "elif data[0][1] == 2:\n",
    "    print(data[0][0]*100+1000)\n",
    "else:\n",
    "    print(data[0][0]*100)"
   ]
  },
  {
   "cell_type": "code",
   "execution_count": 27,
   "id": "quarterly-luther",
   "metadata": {},
   "outputs": [
    {
     "data": {
      "text/plain": [
       "[[6, 1], [5, 1], [2, 1], [4, 0], [3, 0], [1, 0]]"
      ]
     },
     "execution_count": 27,
     "metadata": {},
     "output_type": "execute_result"
    }
   ],
   "source": [
    "data"
   ]
  },
  {
   "cell_type": "code",
   "execution_count": null,
   "id": "residential-danger",
   "metadata": {},
   "outputs": [],
   "source": []
  }
 ],
 "metadata": {
  "kernelspec": {
   "display_name": "Python 3",
   "language": "python",
   "name": "python3"
  },
  "language_info": {
   "codemirror_mode": {
    "name": "ipython",
    "version": 3
   },
   "file_extension": ".py",
   "mimetype": "text/x-python",
   "name": "python",
   "nbconvert_exporter": "python",
   "pygments_lexer": "ipython3",
   "version": "3.8.8"
  }
 },
 "nbformat": 4,
 "nbformat_minor": 5
}
