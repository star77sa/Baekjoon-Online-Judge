{
 "cells": [
  {
   "cell_type": "markdown",
   "id": "empirical-manhattan",
   "metadata": {},
   "source": [
    "# 15624 피보나치 수 7"
   ]
  },
  {
   "cell_type": "code",
   "execution_count": 3,
   "id": "imperial-scheme",
   "metadata": {},
   "outputs": [
    {
     "name": "stdin",
     "output_type": "stream",
     "text": [
      " 500\n"
     ]
    },
    {
     "name": "stdout",
     "output_type": "stream",
     "text": [
      "139423224561697880139724382870407283950070256587697307264108962948325571622863290691557658876222521294125\n"
     ]
    }
   ],
   "source": [
    "Fib = [0 for i in range(1000001)]\n",
    "Fib[1] = 1\n",
    "n = int(input())\n",
    "\n",
    "for i in range(2, n+1):\n",
    "    Fib[i] = (Fib[i-1]%1000000007 + Fib[i-2]%1000000007)%1000000007\n",
    "\n",
    "print(Fib[n%1000000007])"
   ]
  },
  {
   "cell_type": "code",
   "execution_count": null,
   "id": "still-architect",
   "metadata": {},
   "outputs": [],
   "source": []
  }
 ],
 "metadata": {
  "kernelspec": {
   "display_name": "Python 3",
   "language": "python",
   "name": "python3"
  },
  "language_info": {
   "codemirror_mode": {
    "name": "ipython",
    "version": 3
   },
   "file_extension": ".py",
   "mimetype": "text/x-python",
   "name": "python",
   "nbconvert_exporter": "python",
   "pygments_lexer": "ipython3",
   "version": "3.8.8"
  }
 },
 "nbformat": 4,
 "nbformat_minor": 5
}
