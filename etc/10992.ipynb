{
 "cells": [
  {
   "cell_type": "markdown",
   "id": "earned-wholesale",
   "metadata": {},
   "source": [
    "# 10992 별 찍기 - 17"
   ]
  },
  {
   "cell_type": "code",
   "execution_count": 30,
   "id": "understood-remains",
   "metadata": {},
   "outputs": [
    {
     "name": "stdin",
     "output_type": "stream",
     "text": [
      " 4\n"
     ]
    },
    {
     "name": "stdout",
     "output_type": "stream",
     "text": [
      "   *\n",
      "  * *\n",
      " *   *\n",
      "*******\n"
     ]
    }
   ],
   "source": [
    "N = int(input())\n",
    "\n",
    "print(' '*(N-1)+'*')\n",
    "for i in range(2, N):\n",
    "    print(' '*(N-i) + '*' + ' '*(2*i-3) + '*')\n",
    "\n",
    "if N != 1:\n",
    "    print('*'*(2*N-1))"
   ]
  },
  {
   "cell_type": "code",
   "execution_count": null,
   "id": "secret-fifteen",
   "metadata": {},
   "outputs": [],
   "source": []
  }
 ],
 "metadata": {
  "kernelspec": {
   "display_name": "Python 3",
   "language": "python",
   "name": "python3"
  },
  "language_info": {
   "codemirror_mode": {
    "name": "ipython",
    "version": 3
   },
   "file_extension": ".py",
   "mimetype": "text/x-python",
   "name": "python",
   "nbconvert_exporter": "python",
   "pygments_lexer": "ipython3",
   "version": "3.8.8"
  }
 },
 "nbformat": 4,
 "nbformat_minor": 5
}
