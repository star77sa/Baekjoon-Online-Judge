{
 "cells": [
  {
   "cell_type": "markdown",
   "id": "endangered-ceremony",
   "metadata": {},
   "source": [
    "# 2693 N번째 큰 수"
   ]
  },
  {
   "cell_type": "code",
   "execution_count": 15,
   "id": "comprehensive-credit",
   "metadata": {},
   "outputs": [
    {
     "name": "stdin",
     "output_type": "stream",
     "text": [
      " 1 2 3 4 5 6 7 8 9 1000\n"
     ]
    },
    {
     "name": "stdout",
     "output_type": "stream",
     "text": [
      "8\n"
     ]
    },
    {
     "name": "stdin",
     "output_type": "stream",
     "text": [
      " 338 304 619 95 343 496 489 116 98 127\n"
     ]
    },
    {
     "name": "stdout",
     "output_type": "stream",
     "text": [
      "489\n"
     ]
    },
    {
     "name": "stdin",
     "output_type": "stream",
     "text": [
      " 931 240 986 894 826 640 965 833 136 138\n"
     ]
    },
    {
     "name": "stdout",
     "output_type": "stream",
     "text": [
      "931\n"
     ]
    },
    {
     "name": "stdin",
     "output_type": "stream",
     "text": [
      " 940 955 364 188 133 254 501 122 768 408\n"
     ]
    },
    {
     "name": "stdout",
     "output_type": "stream",
     "text": [
      "768\n"
     ]
    }
   ],
   "source": [
    "T = int(input())\n",
    "\n",
    "for i in range(T):\n",
    "    maxarr = [0, 0, 0]\n",
    "    A = list(map(int, input().split()))\n",
    "    for i in range(10):\n",
    "        if A[i] > maxarr[0]:\n",
    "            maxarr[0], maxarr[1], maxarr[2] = A[i], maxarr[0], maxarr[1]\n",
    "        elif A[i] > maxarr[1]:\n",
    "            maxarr[1], maxarr[2] = A[i], maxarr[1]\n",
    "        elif A[i] > maxarr[2]:\n",
    "            maxarr[2] = A[i]\n",
    "    \n",
    "    print(maxarr[2])\n",
    "    "
   ]
  }
 ],
 "metadata": {
  "kernelspec": {
   "display_name": "Python 3",
   "language": "python",
   "name": "python3"
  },
  "language_info": {
   "codemirror_mode": {
    "name": "ipython",
    "version": 3
   },
   "file_extension": ".py",
   "mimetype": "text/x-python",
   "name": "python",
   "nbconvert_exporter": "python",
   "pygments_lexer": "ipython3",
   "version": "3.8.8"
  }
 },
 "nbformat": 4,
 "nbformat_minor": 5
}
