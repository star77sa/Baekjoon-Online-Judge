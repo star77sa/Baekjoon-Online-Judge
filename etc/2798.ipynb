{
 "cells": [
  {
   "cell_type": "markdown",
   "id": "little-finnish",
   "metadata": {},
   "source": [
    "# 2798 블랙잭"
   ]
  },
  {
   "cell_type": "code",
   "execution_count": 36,
   "id": "prospective-memorial",
   "metadata": {},
   "outputs": [
    {
     "name": "stdin",
     "output_type": "stream",
     "text": [
      " 10 500\n",
      " 93 181 245 214 315 36 185 138 216 295\n"
     ]
    }
   ],
   "source": [
    "import sys\n",
    "\n",
    "\n",
    "N, M = map(int,(sys.stdin.readline()).split())\n",
    "numbers = list(map(int, (sys.stdin.readline()).split()))\n",
    "numbers.sort()\n",
    "\n",
    "dp = []"
   ]
  },
  {
   "cell_type": "code",
   "execution_count": 37,
   "id": "cooked-reasoning",
   "metadata": {},
   "outputs": [
    {
     "name": "stdout",
     "output_type": "stream",
     "text": [
      "497\n"
     ]
    }
   ],
   "source": [
    "for i in range(N):\n",
    "    for j in range(i+1, N):\n",
    "        for k in range(j+1, N):\n",
    "            target = (numbers[i] + numbers[j] + numbers[k])\n",
    "            if target <= M:\n",
    "                dp.append(target)\n",
    "                \n",
    "print(max(dp))"
   ]
  },
  {
   "cell_type": "code",
   "execution_count": null,
   "id": "careful-great",
   "metadata": {},
   "outputs": [],
   "source": []
  }
 ],
 "metadata": {
  "kernelspec": {
   "display_name": "Python 3",
   "language": "python",
   "name": "python3"
  },
  "language_info": {
   "codemirror_mode": {
    "name": "ipython",
    "version": 3
   },
   "file_extension": ".py",
   "mimetype": "text/x-python",
   "name": "python",
   "nbconvert_exporter": "python",
   "pygments_lexer": "ipython3",
   "version": "3.8.8"
  }
 },
 "nbformat": 4,
 "nbformat_minor": 5
}
