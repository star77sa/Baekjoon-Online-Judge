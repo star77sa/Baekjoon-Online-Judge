{
 "cells": [
  {
   "cell_type": "markdown",
   "id": "outstanding-therapist",
   "metadata": {},
   "source": [
    "# 11721 열개씩끊어 출력하기"
   ]
  },
  {
   "cell_type": "code",
   "execution_count": 15,
   "id": "ordinary-mistake",
   "metadata": {},
   "outputs": [
    {
     "name": "stdout",
     "output_type": "stream",
     "text": [
      "BaekjoonOn\n",
      "lineJudge\n",
      "lineJudge\n",
      "\n"
     ]
    }
   ],
   "source": [
    "string = input()\n",
    "N = len(string)\n",
    "\n",
    "while N>0:\n",
    "    print(string[:10])\n",
    "    string = string[10:]\n",
    "    N -= 10"
   ]
  }
 ],
 "metadata": {
  "kernelspec": {
   "display_name": "Python 3",
   "language": "python",
   "name": "python3"
  },
  "language_info": {
   "codemirror_mode": {
    "name": "ipython",
    "version": 3
   },
   "file_extension": ".py",
   "mimetype": "text/x-python",
   "name": "python",
   "nbconvert_exporter": "python",
   "pygments_lexer": "ipython3",
   "version": "3.8.8"
  }
 },
 "nbformat": 4,
 "nbformat_minor": 5
}
