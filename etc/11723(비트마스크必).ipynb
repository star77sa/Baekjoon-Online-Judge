{
 "cells": [
  {
   "cell_type": "markdown",
   "id": "civic-stretch",
   "metadata": {},
   "source": [
    "# 11723 집합"
   ]
  },
  {
   "cell_type": "code",
   "execution_count": 1,
   "id": "collected-provider",
   "metadata": {},
   "outputs": [
    {
     "ename": "ValueError",
     "evalue": "invalid literal for int() with base 10: ''",
     "output_type": "error",
     "traceback": [
      "\u001b[1;31m---------------------------------------------------------------------------\u001b[0m",
      "\u001b[1;31mValueError\u001b[0m                                Traceback (most recent call last)",
      "\u001b[1;32m<ipython-input-1-837fa32a1367>\u001b[0m in \u001b[0;36m<module>\u001b[1;34m\u001b[0m\n\u001b[0;32m      2\u001b[0m \u001b[1;33m\u001b[0m\u001b[0m\n\u001b[0;32m      3\u001b[0m \u001b[0ma\u001b[0m \u001b[1;33m=\u001b[0m \u001b[1;33m[\u001b[0m\u001b[1;36m0\u001b[0m \u001b[1;32mfor\u001b[0m \u001b[0mi\u001b[0m \u001b[1;32min\u001b[0m \u001b[0mrange\u001b[0m \u001b[1;33m(\u001b[0m\u001b[1;36m21\u001b[0m\u001b[1;33m)\u001b[0m\u001b[1;33m]\u001b[0m\u001b[1;33m\u001b[0m\u001b[1;33m\u001b[0m\u001b[0m\n\u001b[1;32m----> 4\u001b[1;33m \u001b[0mM\u001b[0m \u001b[1;33m=\u001b[0m \u001b[0mint\u001b[0m\u001b[1;33m(\u001b[0m\u001b[0msys\u001b[0m\u001b[1;33m.\u001b[0m\u001b[0mstdin\u001b[0m\u001b[1;33m.\u001b[0m\u001b[0mreadline\u001b[0m\u001b[1;33m(\u001b[0m\u001b[1;33m)\u001b[0m\u001b[1;33m)\u001b[0m\u001b[1;33m\u001b[0m\u001b[1;33m\u001b[0m\u001b[0m\n\u001b[0m\u001b[0;32m      5\u001b[0m \u001b[1;33m\u001b[0m\u001b[0m\n\u001b[0;32m      6\u001b[0m \u001b[1;32mfor\u001b[0m \u001b[0mi\u001b[0m \u001b[1;32min\u001b[0m \u001b[0mrange\u001b[0m\u001b[1;33m(\u001b[0m\u001b[0mM\u001b[0m\u001b[1;33m)\u001b[0m\u001b[1;33m:\u001b[0m\u001b[1;33m\u001b[0m\u001b[1;33m\u001b[0m\u001b[0m\n",
      "\u001b[1;31mValueError\u001b[0m: invalid literal for int() with base 10: ''"
     ]
    }
   ],
   "source": [
    "import sys\n",
    "\n",
    "a = [0 for i in range (20)]\n",
    "M = int(sys.stdin.readline())\n",
    "\n",
    "for i in range(M):\n",
    "    oper = sys.stdin.readline().rstrip()\n",
    "\n",
    "    if oper[0:3] == 'add':\n",
    "        a[int(oper[-1]-1)] = 1\n",
    "    \n",
    "    elif oper[0:6] == 'remove':\n",
    "        a[int(oper[-1])-1] = 0\n",
    "    \n",
    "    elif oper[0:5] == 'check':\n",
    "        num = int(oper[-1])-1\n",
    "        if a[num] == 1:\n",
    "            print(1)\n",
    "        else:\n",
    "            print(0)\n",
    "    \n",
    "    elif oper[0:6] == 'toggle':\n",
    "        num = int(oper[-1])-1\n",
    "        if a[num] == 1:\n",
    "            a[num] = 0\n",
    "        else:\n",
    "            a[num] = 1\n",
    "        \n",
    "    elif oper[0:3] == 'all':\n",
    "        a = [1 for i in range(20)]\n",
    "    elif oper[0:5] == 'empty':\n",
    "        a = [0 for i in range(20)]"
   ]
  },
  {
   "cell_type": "code",
   "execution_count": null,
   "id": "hispanic-publisher",
   "metadata": {},
   "outputs": [
    {
     "name": "stdin",
     "output_type": "stream",
     "text": [
      " 6\n",
      " add 1\n"
     ]
    }
   ],
   "source": [
    "import sys\n",
    "\n",
    "a = [0 for i in range (21)]\n",
    "M = int(input())\n",
    "\n",
    "for i in range(M):\n",
    "    oper = input()\n",
    "\n",
    "    if oper[0:3] == 'add':\n",
    "        a[int(oper[-1])] = 1\n",
    "    \n",
    "    elif oper[0:6] == 'remove':\n",
    "        a[int(oper[-1])] = 0\n",
    "    \n",
    "    elif oper[0:5] == 'check':\n",
    "        num = int(oper[-1])\n",
    "        if a[num] == 1:\n",
    "            print(1)\n",
    "        else:\n",
    "            print(0)\n",
    "    \n",
    "    elif oper[0:6] == 'toggle':\n",
    "        num = int(oper[-1])\n",
    "        if a[num] == 1:\n",
    "            a[num] = 0\n",
    "        else:\n",
    "            a[num] = 1\n",
    "        \n",
    "    elif oper[0:3] == 'all':\n",
    "        a = [1 for i in range(21)]\n",
    "    elif oper[0:5] == 'empty':\n",
    "        a = []"
   ]
  },
  {
   "cell_type": "code",
   "execution_count": null,
   "id": "documented-fleet",
   "metadata": {},
   "outputs": [],
   "source": []
  }
 ],
 "metadata": {
  "kernelspec": {
   "display_name": "Python 3",
   "language": "python",
   "name": "python3"
  },
  "language_info": {
   "codemirror_mode": {
    "name": "ipython",
    "version": 3
   },
   "file_extension": ".py",
   "mimetype": "text/x-python",
   "name": "python",
   "nbconvert_exporter": "python",
   "pygments_lexer": "ipython3",
   "version": "3.8.8"
  }
 },
 "nbformat": 4,
 "nbformat_minor": 5
}
