{
 "cells": [
  {
   "cell_type": "markdown",
   "id": "independent-jefferson",
   "metadata": {},
   "source": [
    "# 10984 내 학점을 구해줘"
   ]
  },
  {
   "cell_type": "code",
   "execution_count": null,
   "id": "needed-restriction",
   "metadata": {},
   "outputs": [],
   "source": [
    "T = int(input())\n",
    "\n",
    "for _ in range(T):\n",
    "    grade = 0\n",
    "    num = 0\n",
    "    N = int(input())\n",
    "    for i in range(N):\n",
    "        a, b = input().split()\n",
    "        a = int(a)\n",
    "        b = float(b)\n",
    "        grade += a*b\n",
    "        num += a\n",
    "    GPA = \"%.1f\" %(grade/num)\n",
    "    print(num, GPA)"
   ]
  }
 ],
 "metadata": {
  "kernelspec": {
   "display_name": "Python 3",
   "language": "python",
   "name": "python3"
  },
  "language_info": {
   "codemirror_mode": {
    "name": "ipython",
    "version": 3
   },
   "file_extension": ".py",
   "mimetype": "text/x-python",
   "name": "python",
   "nbconvert_exporter": "python",
   "pygments_lexer": "ipython3",
   "version": "3.8.8"
  }
 },
 "nbformat": 4,
 "nbformat_minor": 5
}
