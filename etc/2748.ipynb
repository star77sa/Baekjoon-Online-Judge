{
 "cells": [
  {
   "cell_type": "markdown",
   "id": "swedish-semester",
   "metadata": {},
   "source": [
    "# 2748 피보나치 수 2"
   ]
  },
  {
   "cell_type": "code",
   "execution_count": 9,
   "id": "complicated-preserve",
   "metadata": {},
   "outputs": [
    {
     "name": "stdin",
     "output_type": "stream",
     "text": [
      " 10\n"
     ]
    }
   ],
   "source": [
    "N=int(input())\n",
    "cache = ['' for i in range (N+1)]\n",
    "\n",
    "cache[0] = 0\n",
    "cache[1] = 1"
   ]
  },
  {
   "cell_type": "code",
   "execution_count": 11,
   "id": "increasing-occasions",
   "metadata": {},
   "outputs": [],
   "source": [
    "for i in range(2, N+1):\n",
    "    cache[i] = cache[i-1] + cache[i-2]\n",
    "\n",
    "print(cache[N])"
   ]
  }
 ],
 "metadata": {
  "kernelspec": {
   "display_name": "Python 3",
   "language": "python",
   "name": "python3"
  },
  "language_info": {
   "codemirror_mode": {
    "name": "ipython",
    "version": 3
   },
   "file_extension": ".py",
   "mimetype": "text/x-python",
   "name": "python",
   "nbconvert_exporter": "python",
   "pygments_lexer": "ipython3",
   "version": "3.8.8"
  }
 },
 "nbformat": 4,
 "nbformat_minor": 5
}
