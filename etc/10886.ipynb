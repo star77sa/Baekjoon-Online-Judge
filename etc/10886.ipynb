{
 "cells": [
  {
   "cell_type": "markdown",
   "id": "sorted-awareness",
   "metadata": {},
   "source": [
    "# 10886 0 = not cute / 1 = cute"
   ]
  },
  {
   "cell_type": "code",
   "execution_count": 11,
   "id": "bearing-daniel",
   "metadata": {},
   "outputs": [
    {
     "name": "stdin",
     "output_type": "stream",
     "text": [
      " 3\n"
     ]
    }
   ],
   "source": [
    "cute = 0\n",
    "not_cute = 0\n",
    "N = int(input())"
   ]
  },
  {
   "cell_type": "code",
   "execution_count": 12,
   "id": "demographic-mystery",
   "metadata": {},
   "outputs": [
    {
     "name": "stdin",
     "output_type": "stream",
     "text": [
      " 0\n",
      " 0\n",
      " 1\n"
     ]
    }
   ],
   "source": [
    "for i in range(N):\n",
    "    if int(input()) == 1:\n",
    "        cute += 1\n",
    "    else:\n",
    "        not_cute += 1"
   ]
  },
  {
   "cell_type": "code",
   "execution_count": 13,
   "id": "ruled-nerve",
   "metadata": {},
   "outputs": [
    {
     "name": "stdout",
     "output_type": "stream",
     "text": [
      "Junhee is not cute!\n"
     ]
    }
   ],
   "source": [
    "if cute > not_cute:\n",
    "    print('Junhee is cute!')\n",
    "else:\n",
    "    print(\"Junhee is not cute!\")"
   ]
  }
 ],
 "metadata": {
  "kernelspec": {
   "display_name": "Python 3",
   "language": "python",
   "name": "python3"
  },
  "language_info": {
   "codemirror_mode": {
    "name": "ipython",
    "version": 3
   },
   "file_extension": ".py",
   "mimetype": "text/x-python",
   "name": "python",
   "nbconvert_exporter": "python",
   "pygments_lexer": "ipython3",
   "version": "3.8.8"
  }
 },
 "nbformat": 4,
 "nbformat_minor": 5
}
