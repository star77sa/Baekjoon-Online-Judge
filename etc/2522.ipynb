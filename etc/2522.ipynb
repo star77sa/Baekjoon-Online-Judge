{
 "cells": [
  {
   "cell_type": "markdown",
   "id": "seventh-optimum",
   "metadata": {},
   "source": [
    "# 2522 별 찍기 - 12"
   ]
  },
  {
   "cell_type": "code",
   "execution_count": 5,
   "id": "cleared-dress",
   "metadata": {},
   "outputs": [
    {
     "name": "stdin",
     "output_type": "stream",
     "text": [
      " 3\n"
     ]
    },
    {
     "name": "stdout",
     "output_type": "stream",
     "text": [
      "  *\n",
      " **\n",
      "***\n",
      " **\n",
      "  *\n"
     ]
    }
   ],
   "source": [
    "N = int(input())\n",
    "\n",
    "for i in range(1, N):\n",
    "    print(' ' * (N-i) + '*' * i)\n",
    "\n",
    "print('*' * N)\n",
    "\n",
    "for i in range(1, N):\n",
    "    print(' ' * (i) + '*' * (N-i))"
   ]
  },
  {
   "cell_type": "code",
   "execution_count": null,
   "id": "comparable-observation",
   "metadata": {},
   "outputs": [],
   "source": []
  }
 ],
 "metadata": {
  "kernelspec": {
   "display_name": "Python 3",
   "language": "python",
   "name": "python3"
  },
  "language_info": {
   "codemirror_mode": {
    "name": "ipython",
    "version": 3
   },
   "file_extension": ".py",
   "mimetype": "text/x-python",
   "name": "python",
   "nbconvert_exporter": "python",
   "pygments_lexer": "ipython3",
   "version": "3.8.8"
  }
 },
 "nbformat": 4,
 "nbformat_minor": 5
}
