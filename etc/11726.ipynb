{
 "cells": [
  {
   "cell_type": "markdown",
   "id": "gorgeous-windows",
   "metadata": {},
   "source": [
    "# 11726 타일링"
   ]
  },
  {
   "cell_type": "markdown",
   "id": "committed-brooklyn",
   "metadata": {},
   "source": [
    "점화식 사용"
   ]
  },
  {
   "cell_type": "code",
   "execution_count": 13,
   "id": "rising-phone",
   "metadata": {},
   "outputs": [],
   "source": [
    "dp = [0 for i in range(1000)]\n",
    "dp[0] = 1\n",
    "dp[1] = 2\n",
    "\n",
    "n = int(input())\n",
    "for i in range(2, n):\n",
    "    dp[i] = dp[i-1] + dp[i-2]\n",
    "print(dp[n-1]%10007)"
   ]
  }
 ],
 "metadata": {
  "kernelspec": {
   "display_name": "Python 3",
   "language": "python",
   "name": "python3"
  },
  "language_info": {
   "codemirror_mode": {
    "name": "ipython",
    "version": 3
   },
   "file_extension": ".py",
   "mimetype": "text/x-python",
   "name": "python",
   "nbconvert_exporter": "python",
   "pygments_lexer": "ipython3",
   "version": "3.8.8"
  }
 },
 "nbformat": 4,
 "nbformat_minor": 5
}
