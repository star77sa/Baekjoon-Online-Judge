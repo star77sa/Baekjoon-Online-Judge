{
 "cells": [
  {
   "cell_type": "markdown",
   "id": "sapphire-flooring",
   "metadata": {},
   "source": [
    "# 9610 사분면"
   ]
  },
  {
   "cell_type": "code",
   "execution_count": 1,
   "id": "boolean-wiring",
   "metadata": {},
   "outputs": [],
   "source": [
    "Q1 = 0\n",
    "Q2 = 0\n",
    "Q3 = 0\n",
    "Q4 = 0\n",
    "AXIS = 0"
   ]
  },
  {
   "cell_type": "code",
   "execution_count": 3,
   "id": "developed-lecture",
   "metadata": {},
   "outputs": [
    {
     "name": "stdin",
     "output_type": "stream",
     "text": [
      " 5\n",
      " 0 0\n",
      " 0 1\n",
      " 1 1\n",
      " 3 -3\n",
      " 2 2\n"
     ]
    }
   ],
   "source": [
    "T = int(input())\n",
    "for _ in range(T):\n",
    "    x, y = map(int, input().split())\n",
    "    if x == 0 or y == 0:\n",
    "        AXIS += 1\n",
    "    elif x>0 and y>0:\n",
    "        Q1 += 1\n",
    "    elif x<0 and y>0:\n",
    "        Q2 += 1\n",
    "    elif x<0 and y<0:\n",
    "        Q3 += 1\n",
    "    else:\n",
    "        Q4 += 1"
   ]
  },
  {
   "cell_type": "code",
   "execution_count": 6,
   "id": "bibliographic-coach",
   "metadata": {},
   "outputs": [
    {
     "name": "stdout",
     "output_type": "stream",
     "text": [
      "Q1: 2\n",
      "Q2: 0\n",
      "Q3: 0\n",
      "Q4: 1\n",
      "AXIS: 2\n"
     ]
    }
   ],
   "source": [
    "print('Q1: %d' % Q1)\n",
    "print('Q2: %d' % Q2)\n",
    "print('Q3: %d' % Q3)\n",
    "print('Q4: %d' % Q4)\n",
    "print('AXIS: %d' % AXIS)"
   ]
  },
  {
   "cell_type": "code",
   "execution_count": null,
   "id": "weekly-smith",
   "metadata": {},
   "outputs": [],
   "source": []
  }
 ],
 "metadata": {
  "kernelspec": {
   "display_name": "Python 3",
   "language": "python",
   "name": "python3"
  },
  "language_info": {
   "codemirror_mode": {
    "name": "ipython",
    "version": 3
   },
   "file_extension": ".py",
   "mimetype": "text/x-python",
   "name": "python",
   "nbconvert_exporter": "python",
   "pygments_lexer": "ipython3",
   "version": "3.8.8"
  }
 },
 "nbformat": 4,
 "nbformat_minor": 5
}
