{
 "cells": [
  {
   "cell_type": "markdown",
   "id": "nominated-compromise",
   "metadata": {},
   "source": [
    "# 1924 2007년"
   ]
  },
  {
   "cell_type": "code",
   "execution_count": 25,
   "id": "abroad-interaction",
   "metadata": {},
   "outputs": [
    {
     "name": "stdin",
     "output_type": "stream",
     "text": [
      " 12 25\n"
     ]
    },
    {
     "name": "stdout",
     "output_type": "stream",
     "text": [
      "TUE\n"
     ]
    }
   ],
   "source": [
    "x, y = map(int, input().split())\n",
    "\n",
    "daycount = 0\n",
    "\n",
    "while x > 1: # 1월이면 시작이면 더할 필요가 없음\n",
    "    if  (x-1 ==1)|(x-1 ==3)|(x-1 ==5)|(x-1 == 7)|(x-1 ==8)|(x-1 ==10)|(x-1 ==12): # ex) 2월 1일이면, x-1 == 1 이고 1월의 31일을 더한다.\n",
    "        daycount += 31\n",
    "    elif (x-1 == 4)|(x-1 == 6)|(x-1 == 9)|(x-1 == 11):\n",
    "        daycount += 30\n",
    "    else: # 2월\n",
    "        daycount +=28\n",
    "    x -= 1\n",
    "\n",
    "daycount += y\n",
    "\n",
    "day = daycount % 7\n",
    "if day == 0:\n",
    "    print('SUN')\n",
    "elif day == 1:\n",
    "    print('MON')\n",
    "elif day == 2:\n",
    "    print('TUE')\n",
    "elif day == 3:\n",
    "    print('WED')\n",
    "elif day == 4:\n",
    "    print('THU')\n",
    "elif day == 5:\n",
    "    print('FRI')\n",
    "else:\n",
    "    print('SAT')    "
   ]
  },
  {
   "cell_type": "code",
   "execution_count": null,
   "id": "specific-breeding",
   "metadata": {},
   "outputs": [],
   "source": []
  }
 ],
 "metadata": {
  "kernelspec": {
   "display_name": "Python 3",
   "language": "python",
   "name": "python3"
  },
  "language_info": {
   "codemirror_mode": {
    "name": "ipython",
    "version": 3
   },
   "file_extension": ".py",
   "mimetype": "text/x-python",
   "name": "python",
   "nbconvert_exporter": "python",
   "pygments_lexer": "ipython3",
   "version": "3.8.8"
  }
 },
 "nbformat": 4,
 "nbformat_minor": 5
}
