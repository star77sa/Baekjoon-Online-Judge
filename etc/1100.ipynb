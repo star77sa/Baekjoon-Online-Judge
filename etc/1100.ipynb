{
 "cells": [
  {
   "cell_type": "markdown",
   "id": "convertible-smoke",
   "metadata": {},
   "source": [
    "# 1100 하얀 칸"
   ]
  },
  {
   "cell_type": "code",
   "execution_count": 10,
   "id": "legal-shirt",
   "metadata": {},
   "outputs": [
    {
     "data": {
      "text/plain": [
       "[[1, 0, 1, 0, 1, 0, 1, 0],\n",
       " [0, 1, 0, 1, 0, 1, 0, 1],\n",
       " [1, 0, 1, 0, 1, 0, 1, 0],\n",
       " [0, 1, 0, 1, 0, 1, 0, 1],\n",
       " [1, 0, 1, 0, 1, 0, 1, 0],\n",
       " [0, 1, 0, 1, 0, 1, 0, 1],\n",
       " [1, 0, 1, 0, 1, 0, 1, 0],\n",
       " [0, 1, 0, 1, 0, 1, 0, 1]]"
      ]
     },
     "execution_count": 10,
     "metadata": {},
     "output_type": "execute_result"
    }
   ],
   "source": []
  },
  {
   "cell_type": "code",
   "execution_count": 11,
   "id": "casual-female",
   "metadata": {},
   "outputs": [
    {
     "name": "stdin",
     "output_type": "stream",
     "text": [
      " .F.F...F\n"
     ]
    },
    {
     "name": "stdout",
     "output_type": "stream",
     "text": [
      "[[1, 0, 1, 0, 1, 0, 1, 0], [0, 1, 0, 1, 0, 1, 0, 1], [1, 0, 1, 0, 1, 0, 1, 0], [0, 1, 0, 1, 0, 1, 0, 1], [1, 0, 1, 0, 1, 0, 1, 0], [0, 1, 0, 1, 0, 1, 0, 1], [1, 0, 1, 0, 1, 0, 1, 0], [0, 1, 0, 1, 0, 1, 0, 1]]\n"
     ]
    },
    {
     "name": "stdin",
     "output_type": "stream",
     "text": [
      " F...F.F.\n"
     ]
    },
    {
     "name": "stdout",
     "output_type": "stream",
     "text": [
      "[[1, 'F', 1, 'F', 1, 0, 1, 'F'], [0, 1, 0, 1, 0, 1, 0, 1], [1, 0, 1, 0, 1, 0, 1, 0], [0, 1, 0, 1, 0, 1, 0, 1], [1, 0, 1, 0, 1, 0, 1, 0], [0, 1, 0, 1, 0, 1, 0, 1], [1, 0, 1, 0, 1, 0, 1, 0], [0, 1, 0, 1, 0, 1, 0, 1]]\n"
     ]
    },
    {
     "name": "stdin",
     "output_type": "stream",
     "text": [
      " ...F.F.F\n"
     ]
    },
    {
     "name": "stdout",
     "output_type": "stream",
     "text": [
      "[[1, 'F', 1, 'F', 1, 0, 1, 'F'], ['F', 1, 0, 1, 'F', 1, 'F', 1], [1, 0, 1, 0, 1, 0, 1, 0], [0, 1, 0, 1, 0, 1, 0, 1], [1, 0, 1, 0, 1, 0, 1, 0], [0, 1, 0, 1, 0, 1, 0, 1], [1, 0, 1, 0, 1, 0, 1, 0], [0, 1, 0, 1, 0, 1, 0, 1]]\n"
     ]
    },
    {
     "name": "stdin",
     "output_type": "stream",
     "text": [
      " F.F...F.\n"
     ]
    },
    {
     "name": "stdout",
     "output_type": "stream",
     "text": [
      "[[1, 'F', 1, 'F', 1, 0, 1, 'F'], ['F', 1, 0, 1, 'F', 1, 'F', 1], [1, 0, 1, 'F', 1, 'F', 1, 'F'], [0, 1, 0, 1, 0, 1, 0, 1], [1, 0, 1, 0, 1, 0, 1, 0], [0, 1, 0, 1, 0, 1, 0, 1], [1, 0, 1, 0, 1, 0, 1, 0], [0, 1, 0, 1, 0, 1, 0, 1]]\n"
     ]
    },
    {
     "name": "stdin",
     "output_type": "stream",
     "text": [
      " .F...F..\n"
     ]
    },
    {
     "name": "stdout",
     "output_type": "stream",
     "text": [
      "[[1, 'F', 1, 'F', 1, 0, 1, 'F'], ['F', 1, 0, 1, 'F', 1, 'F', 1], [1, 0, 1, 'F', 1, 'F', 1, 'F'], ['F', 1, 'F', 1, 0, 1, 'F', 1], [1, 0, 1, 0, 1, 0, 1, 0], [0, 1, 0, 1, 0, 1, 0, 1], [1, 0, 1, 0, 1, 0, 1, 0], [0, 1, 0, 1, 0, 1, 0, 1]]\n"
     ]
    },
    {
     "name": "stdin",
     "output_type": "stream",
     "text": [
      " F...F.F.\n"
     ]
    },
    {
     "name": "stdout",
     "output_type": "stream",
     "text": [
      "[[1, 'F', 1, 'F', 1, 0, 1, 'F'], ['F', 1, 0, 1, 'F', 1, 'F', 1], [1, 0, 1, 'F', 1, 'F', 1, 'F'], ['F', 1, 'F', 1, 0, 1, 'F', 1], [1, 'F', 1, 0, 1, 'F', 1, 0], [0, 1, 0, 1, 0, 1, 0, 1], [1, 0, 1, 0, 1, 0, 1, 0], [0, 1, 0, 1, 0, 1, 0, 1]]\n"
     ]
    },
    {
     "name": "stdin",
     "output_type": "stream",
     "text": [
      " .F.F.F.F\n"
     ]
    },
    {
     "name": "stdout",
     "output_type": "stream",
     "text": [
      "[[1, 'F', 1, 'F', 1, 0, 1, 'F'], ['F', 1, 0, 1, 'F', 1, 'F', 1], [1, 0, 1, 'F', 1, 'F', 1, 'F'], ['F', 1, 'F', 1, 0, 1, 'F', 1], [1, 'F', 1, 0, 1, 'F', 1, 0], ['F', 1, 0, 1, 'F', 1, 'F', 1], [1, 0, 1, 0, 1, 0, 1, 0], [0, 1, 0, 1, 0, 1, 0, 1]]\n"
     ]
    },
    {
     "name": "stdin",
     "output_type": "stream",
     "text": [
      " ..FF..F.\n"
     ]
    },
    {
     "name": "stdout",
     "output_type": "stream",
     "text": [
      "[[1, 'F', 1, 'F', 1, 0, 1, 'F'], ['F', 1, 0, 1, 'F', 1, 'F', 1], [1, 0, 1, 'F', 1, 'F', 1, 'F'], ['F', 1, 'F', 1, 0, 1, 'F', 1], [1, 'F', 1, 0, 1, 'F', 1, 0], ['F', 1, 0, 1, 'F', 1, 'F', 1], [1, 'F', 1, 'F', 1, 'F', 1, 'F'], [0, 1, 0, 1, 0, 1, 0, 1]]\n",
      "1\n"
     ]
    }
   ],
   "source": [
    "chess = [[1,0,1,0,1,0,1,0],[0,1,0,1,0,1,0,1],[1,0,1,0,1,0,1,0],[0,1,0,1,0,1,0,1],[1,0,1,0,1,0,1,0],[0,1,0,1,0,1,0,1],[1,0,1,0,1,0,1,0],[0,1,0,1,0,1,0,1]]\n",
    "\n",
    "for i in range(8):\n",
    "    string = input().strip()\n",
    "    for j in range(8):\n",
    "        if string[j] == 'F':\n",
    "            chess[i][j] = 'F'\n",
    "            \n",
    "count = 0\n",
    "for i in range(8):\n",
    "    count = count + chess[i].count(1)\n",
    "print(32-count)            "
   ]
  }
 ],
 "metadata": {
  "kernelspec": {
   "display_name": "Python 3",
   "language": "python",
   "name": "python3"
  },
  "language_info": {
   "codemirror_mode": {
    "name": "ipython",
    "version": 3
   },
   "file_extension": ".py",
   "mimetype": "text/x-python",
   "name": "python",
   "nbconvert_exporter": "python",
   "pygments_lexer": "ipython3",
   "version": "3.8.8"
  }
 },
 "nbformat": 4,
 "nbformat_minor": 5
}
