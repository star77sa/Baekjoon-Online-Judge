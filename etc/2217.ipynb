{
 "cells": [
  {
   "cell_type": "markdown",
   "id": "forward-upset",
   "metadata": {},
   "source": [
    "# 2217 로프"
   ]
  },
  {
   "cell_type": "code",
   "execution_count": null,
   "id": "active-chorus",
   "metadata": {},
   "outputs": [
    {
     "name": "stdin",
     "output_type": "stream",
     "text": [
      " 15\n",
      " 151515\n"
     ]
    }
   ],
   "source": [
    "import sys\n",
    "\n",
    "\n",
    "N = int(sys.stdin.readline())\n",
    "A = [0 for i in range(N)]\n",
    "for i in range(N):\n",
    "    A[i] = int(sys.stdin.readline())\n",
    "A.sort(reverse=True)    \n",
    "\n",
    "for i in range(N):\n",
    "    A[i] = A[i] * (i+1)\n",
    "print(max(A))\n",
    "\n",
    "# num = 1\n",
    "# cur = A[0]\n",
    "# i = 1\n",
    "\n",
    "# while (i < N):\n",
    "#     if (cur/(num+1) < A[i]) :\n",
    "#         num = num + 1\n",
    "#         cur = A[i] * num\n",
    "#     i = i+1\n",
    "    \n",
    "    \n",
    "# print(cur)"
   ]
  },
  {
   "cell_type": "markdown",
   "id": "verbal-young",
   "metadata": {},
   "source": [
    "## "
   ]
  },
  {
   "cell_type": "code",
   "execution_count": 19,
   "id": "configured-wells",
   "metadata": {},
   "outputs": [],
   "source": []
  },
  {
   "cell_type": "code",
   "execution_count": 20,
   "id": "advanced-arrest",
   "metadata": {},
   "outputs": [],
   "source": []
  },
  {
   "cell_type": "code",
   "execution_count": 21,
   "id": "cognitive-expense",
   "metadata": {},
   "outputs": [
    {
     "data": {
      "text/plain": [
       "2"
      ]
     },
     "execution_count": 21,
     "metadata": {},
     "output_type": "execute_result"
    }
   ],
   "source": [
    "i"
   ]
  },
  {
   "cell_type": "code",
   "execution_count": 22,
   "id": "english-static",
   "metadata": {},
   "outputs": [
    {
     "data": {
      "text/plain": [
       "20"
      ]
     },
     "execution_count": 22,
     "metadata": {},
     "output_type": "execute_result"
    }
   ],
   "source": [
    "cur"
   ]
  },
  {
   "cell_type": "code",
   "execution_count": null,
   "id": "indoor-cookbook",
   "metadata": {},
   "outputs": [],
   "source": []
  }
 ],
 "metadata": {
  "kernelspec": {
   "display_name": "Python 3",
   "language": "python",
   "name": "python3"
  },
  "language_info": {
   "codemirror_mode": {
    "name": "ipython",
    "version": 3
   },
   "file_extension": ".py",
   "mimetype": "text/x-python",
   "name": "python",
   "nbconvert_exporter": "python",
   "pygments_lexer": "ipython3",
   "version": "3.8.8"
  }
 },
 "nbformat": 4,
 "nbformat_minor": 5
}
