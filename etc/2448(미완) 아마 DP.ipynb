{
 "cells": [
  {
   "cell_type": "markdown",
   "id": "romance-capability",
   "metadata": {},
   "source": [
    "# 2448 별 찍기 - 11 `gold`"
   ]
  },
  {
   "cell_type": "code",
   "execution_count": 11,
   "id": "refined-graphics",
   "metadata": {},
   "outputs": [
    {
     "name": "stdin",
     "output_type": "stream",
     "text": [
      " 24\n"
     ]
    },
    {
     "name": "stdout",
     "output_type": "stream",
     "text": [
      "                       *\n",
      "                      * * \n",
      "                    *     *\n",
      "                   * * * * * \n",
      "                 *           *\n",
      "                * * * * * * * * \n",
      "              *                 *\n",
      "             * * * * * * * * * * * \n",
      "           *                       *\n",
      "          * * * * * * * * * * * * * * \n",
      "        *                             *\n",
      "       * * * * * * * * * * * * * * * * * \n",
      "     *                                   *\n",
      "    * * * * * * * * * * * * * * * * * * * * \n",
      "  *                                         *\n",
      " * * * * * * * * * * * * * * * * * * * * * * * \n"
     ]
    }
   ],
   "source": [
    "N = int(input())\n",
    "print(' '*(N-1) + '*')\n",
    "for i in range(2,N+1):\n",
    "    \n",
    "    if i % 3 == 1:\n",
    "        print(' '*(N-i) + '*' + ' '*(2*i-3) + '*')\n",
    "        \n",
    "    if i % 3 == 2:\n",
    "        print(' '*(N-i) + '* '*i)\n",
    "        "
   ]
  },
  {
   "cell_type": "code",
   "execution_count": null,
   "id": "cosmetic-programming",
   "metadata": {},
   "outputs": [],
   "source": [
    "5 6\n",
    "5공백 4줄 2*(i-1)-1 = 2i - 3\n",
    "11공백 7줄"
   ]
  }
 ],
 "metadata": {
  "kernelspec": {
   "display_name": "Python 3",
   "language": "python",
   "name": "python3"
  },
  "language_info": {
   "codemirror_mode": {
    "name": "ipython",
    "version": 3
   },
   "file_extension": ".py",
   "mimetype": "text/x-python",
   "name": "python",
   "nbconvert_exporter": "python",
   "pygments_lexer": "ipython3",
   "version": "3.8.8"
  }
 },
 "nbformat": 4,
 "nbformat_minor": 5
}
