{
 "cells": [
  {
   "cell_type": "markdown",
   "id": "coastal-hygiene",
   "metadata": {},
   "source": [
    "# 1920 수 찾기"
   ]
  },
  {
   "cell_type": "markdown",
   "id": "regular-bennett",
   "metadata": {},
   "source": [
    "딕셔너리에서 값을 찾는게 O(1)임을 이용한다."
   ]
  },
  {
   "cell_type": "code",
   "execution_count": 27,
   "id": "fixed-angola",
   "metadata": {},
   "outputs": [
    {
     "name": "stdin",
     "output_type": "stream",
     "text": [
      " 5\n"
     ]
    }
   ],
   "source": [
    "import sys\n",
    "N = int(sys.stdin.readline())\n",
    "dic = {i : 1 for i in list(map(int,sys.stdin.readline().split()))}\n",
    "M = int(sys.stdin.readline())\n",
    "l = list(map(int,sys.stdin.readline().split()))\n",
    "for i in l:\n",
    "    if i in dic:\n",
    "        print(dic[i])\n",
    "    else:\n",
    "        print('0')"
   ]
  }
 ],
 "metadata": {
  "kernelspec": {
   "display_name": "Python 3",
   "language": "python",
   "name": "python3"
  },
  "language_info": {
   "codemirror_mode": {
    "name": "ipython",
    "version": 3
   },
   "file_extension": ".py",
   "mimetype": "text/x-python",
   "name": "python",
   "nbconvert_exporter": "python",
   "pygments_lexer": "ipython3",
   "version": "3.8.8"
  }
 },
 "nbformat": 4,
 "nbformat_minor": 5
}
