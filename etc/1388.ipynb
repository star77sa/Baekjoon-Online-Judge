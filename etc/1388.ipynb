{
 "cells": [
  {
   "cell_type": "markdown",
   "id": "fantastic-submission",
   "metadata": {},
   "source": [
    "# 1388 바닥 장식"
   ]
  },
  {
   "cell_type": "markdown",
   "id": "manual-softball",
   "metadata": {},
   "source": [
    "-- 갯수, |갯수 따로? 바뀌는걸 기준으로,,,, "
   ]
  },
  {
   "cell_type": "code",
   "execution_count": 53,
   "id": "environmental-tract",
   "metadata": {},
   "outputs": [
    {
     "name": "stdin",
     "output_type": "stream",
     "text": [
      " 4 5\n",
      " -----\n",
      " -----\n",
      " ---|-\n",
      " -----\n"
     ]
    },
    {
     "name": "stdout",
     "output_type": "stream",
     "text": [
      "6\n"
     ]
    }
   ],
   "source": [
    "N, M = map(int, input().split())\n",
    "\n",
    "dp = [list(input()) for i in range(N)]\n",
    "count = 0\n",
    "\n",
    "for j in range(N):\n",
    "    cur1 = dp[j][0] # 가로줄\n",
    "    if cur1 == '-':\n",
    "        count += 1\n",
    "        \n",
    "    for i in range(1,M):\n",
    "        if (cur1 == '|') & (dp[j][i] == '-'):\n",
    "            count += 1\n",
    "        cur1 = dp[j][i]\n",
    "###############################################   \n",
    "for j in range(M):\n",
    "    cur2 = dp[0][j] #세로줄\n",
    "    if cur2 == '|':\n",
    "        count += 1\n",
    "        \n",
    "    for i in range(1,N):\n",
    "        if (cur2 == '-') & (dp[i][j] == '|'):\n",
    "            count += 1\n",
    "        cur2 = dp[i][j]\n",
    "\n",
    "print(count)"
   ]
  },
  {
   "cell_type": "code",
   "execution_count": null,
   "id": "greenhouse-edwards",
   "metadata": {},
   "outputs": [],
   "source": []
  }
 ],
 "metadata": {
  "kernelspec": {
   "display_name": "Python 3",
   "language": "python",
   "name": "python3"
  },
  "language_info": {
   "codemirror_mode": {
    "name": "ipython",
    "version": 3
   },
   "file_extension": ".py",
   "mimetype": "text/x-python",
   "name": "python",
   "nbconvert_exporter": "python",
   "pygments_lexer": "ipython3",
   "version": "3.8.8"
  }
 },
 "nbformat": 4,
 "nbformat_minor": 5
}
