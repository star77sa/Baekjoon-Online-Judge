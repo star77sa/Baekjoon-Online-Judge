{
 "cells": [
  {
   "cell_type": "markdown",
   "id": "arabic-hamburg",
   "metadata": {},
   "source": [
    "# 10867 중복 빼고 정렬하기"
   ]
  },
  {
   "cell_type": "code",
   "execution_count": 6,
   "id": "continued-julian",
   "metadata": {},
   "outputs": [
    {
     "name": "stdin",
     "output_type": "stream",
     "text": [
      " 10\n",
      " 1 4 2 3 1 4 2 3 1 2\n"
     ]
    },
    {
     "name": "stdout",
     "output_type": "stream",
     "text": [
      "1 2 3 4\n"
     ]
    }
   ],
   "source": [
    "N = int(input())\n",
    "\n",
    "A = list(map(int,input().split()))\n",
    "A.sort()\n",
    "\n",
    "print(*list(set(A)))"
   ]
  },
  {
   "cell_type": "code",
   "execution_count": null,
   "id": "great-serum",
   "metadata": {},
   "outputs": [],
   "source": []
  }
 ],
 "metadata": {
  "kernelspec": {
   "display_name": "Python 3",
   "language": "python",
   "name": "python3"
  },
  "language_info": {
   "codemirror_mode": {
    "name": "ipython",
    "version": 3
   },
   "file_extension": ".py",
   "mimetype": "text/x-python",
   "name": "python",
   "nbconvert_exporter": "python",
   "pygments_lexer": "ipython3",
   "version": "3.8.8"
  }
 },
 "nbformat": 4,
 "nbformat_minor": 5
}
