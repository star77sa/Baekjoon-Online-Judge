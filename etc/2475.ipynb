{
 "cells": [
  {
   "cell_type": "markdown",
   "id": "trying-expansion",
   "metadata": {},
   "source": [
    "# 2475 검증수"
   ]
  },
  {
   "cell_type": "code",
   "execution_count": 1,
   "id": "dangerous-serve",
   "metadata": {},
   "outputs": [
    {
     "name": "stdin",
     "output_type": "stream",
     "text": [
      " 0 4 2 5 6\n"
     ]
    },
    {
     "name": "stdout",
     "output_type": "stream",
     "text": [
      "1\n"
     ]
    }
   ],
   "source": [
    "print(sum(list(map(pow, list(map(int, input().split())), (2,2,2,2,2))))%10)"
   ]
  },
  {
   "cell_type": "code",
   "execution_count": null,
   "id": "confidential-swing",
   "metadata": {},
   "outputs": [],
   "source": []
  }
 ],
 "metadata": {
  "kernelspec": {
   "display_name": "Python 3",
   "language": "python",
   "name": "python3"
  },
  "language_info": {
   "codemirror_mode": {
    "name": "ipython",
    "version": 3
   },
   "file_extension": ".py",
   "mimetype": "text/x-python",
   "name": "python",
   "nbconvert_exporter": "python",
   "pygments_lexer": "ipython3",
   "version": "3.8.8"
  }
 },
 "nbformat": 4,
 "nbformat_minor": 5
}
