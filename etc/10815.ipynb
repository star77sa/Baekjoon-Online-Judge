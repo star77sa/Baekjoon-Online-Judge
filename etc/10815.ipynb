{
 "cells": [
  {
   "cell_type": "markdown",
   "id": "forty-confidentiality",
   "metadata": {},
   "source": [
    "# 10815 숫자 카드"
   ]
  },
  {
   "cell_type": "markdown",
   "id": "settled-artist",
   "metadata": {},
   "source": [
    "1920 응용."
   ]
  },
  {
   "cell_type": "code",
   "execution_count": null,
   "id": "synthetic-express",
   "metadata": {},
   "outputs": [],
   "source": [
    "import sys\n",
    "N = int(sys.stdin.readline())\n",
    "dic = {i : 1 for i in list(map(int,sys.stdin.readline().split()))}\n",
    "M = int(sys.stdin.readline())\n",
    "l = list(map(int,sys.stdin.readline().split()))\n",
    "for i in l:\n",
    "    if i in dic:\n",
    "        print(dic[i], end=' ')\n",
    "    else:\n",
    "        print('0', end=' ')"
   ]
  },
  {
   "cell_type": "markdown",
   "id": "happy-abortion",
   "metadata": {},
   "source": [
    "other version :: 리스트에서 값 찾는건 시간초과뜸!! 밑에껀 시간초과."
   ]
  },
  {
   "cell_type": "code",
   "execution_count": 1,
   "id": "clean-lloyd",
   "metadata": {},
   "outputs": [
    {
     "name": "stdin",
     "output_type": "stream",
     "text": [
      " 5\n"
     ]
    }
   ],
   "source": [
    "N = int(input())\n",
    "A = list(map(int, input().split()))\n",
    "M = int(input())\n",
    "B = list(map(int,input().split()))\n",
    "for i in B:\n",
    "    if i in A:\n",
    "        print('1', end=' ')\n",
    "    else:\n",
    "        print('0', end=' ')"
   ]
  }
 ],
 "metadata": {
  "kernelspec": {
   "display_name": "Python 3",
   "language": "python",
   "name": "python3"
  },
  "language_info": {
   "codemirror_mode": {
    "name": "ipython",
    "version": 3
   },
   "file_extension": ".py",
   "mimetype": "text/x-python",
   "name": "python",
   "nbconvert_exporter": "python",
   "pygments_lexer": "ipython3",
   "version": "3.8.8"
  }
 },
 "nbformat": 4,
 "nbformat_minor": 5
}
