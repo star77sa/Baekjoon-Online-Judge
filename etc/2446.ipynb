{
 "cells": [
  {
   "cell_type": "markdown",
   "id": "iraqi-illinois",
   "metadata": {},
   "source": [
    "# 2446 별 찍기 - 9"
   ]
  },
  {
   "cell_type": "code",
   "execution_count": 21,
   "id": "traditional-arrest",
   "metadata": {},
   "outputs": [
    {
     "name": "stdin",
     "output_type": "stream",
     "text": [
      " 10\n"
     ]
    }
   ],
   "source": [
    "N = int(input())"
   ]
  },
  {
   "cell_type": "code",
   "execution_count": 22,
   "id": "respiratory-disposal",
   "metadata": {},
   "outputs": [
    {
     "name": "stdout",
     "output_type": "stream",
     "text": [
      "*******************\n",
      " *****************\n",
      "  ***************\n",
      "   *************\n",
      "    ***********\n",
      "     *********\n",
      "      *******\n",
      "       *****\n",
      "        ***\n",
      "         *\n",
      "        ***\n",
      "       *****\n",
      "      *******\n",
      "     *********\n",
      "    ***********\n",
      "   *************\n",
      "  ***************\n",
      " *****************\n",
      "*******************\n"
     ]
    }
   ],
   "source": [
    "for i in range(1, N):\n",
    "    print(' '*(i-1)+'*'*((N-i)*2+1))\n",
    "print(' '*(N-1)+'*')\n",
    "for i in range(1, N):\n",
    "    print(' '*(N-i-1)+'*'*((i)*2+1))"
   ]
  }
 ],
 "metadata": {
  "kernelspec": {
   "display_name": "Python 3",
   "language": "python",
   "name": "python3"
  },
  "language_info": {
   "codemirror_mode": {
    "name": "ipython",
    "version": 3
   },
   "file_extension": ".py",
   "mimetype": "text/x-python",
   "name": "python",
   "nbconvert_exporter": "python",
   "pygments_lexer": "ipython3",
   "version": "3.8.8"
  }
 },
 "nbformat": 4,
 "nbformat_minor": 5
}
