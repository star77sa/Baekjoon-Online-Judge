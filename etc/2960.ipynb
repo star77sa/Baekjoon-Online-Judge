{
 "cells": [
  {
   "cell_type": "markdown",
   "id": "entertaining-cannon",
   "metadata": {},
   "source": [
    "# 2960 에라토스테네스의 체"
   ]
  },
  {
   "cell_type": "markdown",
   "id": "inside-advertiser",
   "metadata": {},
   "source": [
    "에라토스테네스의 체는 N보다 작거나 같은 모든 소수를 찾는 유명한 알고리즘이다.\n",
    "\n",
    "이 알고리즘은 다음과 같다.\n",
    "\n",
    "- 2부터 N까지 모든 정수를 적는다.\n",
    "\n",
    "- 아직 지우지 않은 수 중 가장 작은 수를 찾는다. 이것을 P라고 하고, 이 수는 소수이다.\n",
    "\n",
    "- P를 지우고, 아직 지우지 않은 P의 배수를 크기 순서대로 지운다.\n",
    "\n",
    "- 아직 모든 수를 지우지 않았다면, 다시 2번 단계로 간다.\n",
    "\n",
    "\n",
    "\n",
    "\n",
    "N, K가 주어졌을 때, K번째 지우는 수를 구하는 프로그램을 작성하시오."
   ]
  },
  {
   "cell_type": "code",
   "execution_count": 102,
   "id": "adopted-portland",
   "metadata": {},
   "outputs": [
    {
     "name": "stdin",
     "output_type": "stream",
     "text": [
      " 10 7\n"
     ]
    },
    {
     "name": "stdout",
     "output_type": "stream",
     "text": [
      "9\n"
     ]
    }
   ],
   "source": [
    "N, K = map(int,input().split())\n",
    "\n",
    "count = 0\n",
    "\n",
    "dp = [i for i in range (0,N+1)]\n",
    "\n",
    "for i in range(2, N + 1):\n",
    "    for j in range(i, N+1, i):\n",
    "            \n",
    "        if dp[j] != 'X':\n",
    "            dp[j] = 'X'\n",
    "            count+=1\n",
    "            if count == K:\n",
    "                print(j)\n",
    "                break"
   ]
  },
  {
   "cell_type": "code",
   "execution_count": null,
   "id": "natural-footage",
   "metadata": {},
   "outputs": [],
   "source": []
  }
 ],
 "metadata": {
  "kernelspec": {
   "display_name": "Python 3",
   "language": "python",
   "name": "python3"
  },
  "language_info": {
   "codemirror_mode": {
    "name": "ipython",
    "version": 3
   },
   "file_extension": ".py",
   "mimetype": "text/x-python",
   "name": "python",
   "nbconvert_exporter": "python",
   "pygments_lexer": "ipython3",
   "version": "3.8.8"
  }
 },
 "nbformat": 4,
 "nbformat_minor": 5
}
