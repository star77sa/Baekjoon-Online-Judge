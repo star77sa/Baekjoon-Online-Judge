{
 "cells": [
  {
   "cell_type": "markdown",
   "id": "distant-privilege",
   "metadata": {},
   "source": [
    "# 2747 피보나치 수"
   ]
  },
  {
   "cell_type": "code",
   "execution_count": 5,
   "id": "ranking-football",
   "metadata": {},
   "outputs": [
    {
     "name": "stdin",
     "output_type": "stream",
     "text": [
      " 10\n"
     ]
    },
    {
     "name": "stdout",
     "output_type": "stream",
     "text": [
      "55\n"
     ]
    }
   ],
   "source": [
    "N = int(input())\n",
    "def Fib(N):\n",
    "    dp = [0 for i in range (N+1)]\n",
    "    dp[1] = 1\n",
    "    i = 2\n",
    "    for i in range(2,N+1):\n",
    "        dp[i] = dp[i-1] + dp[i-2]\n",
    "    return dp[N]\n",
    "\n",
    "print(Fib(N))"
   ]
  }
 ],
 "metadata": {
  "kernelspec": {
   "display_name": "Python 3",
   "language": "python",
   "name": "python3"
  },
  "language_info": {
   "codemirror_mode": {
    "name": "ipython",
    "version": 3
   },
   "file_extension": ".py",
   "mimetype": "text/x-python",
   "name": "python",
   "nbconvert_exporter": "python",
   "pygments_lexer": "ipython3",
   "version": "3.8.8"
  }
 },
 "nbformat": 4,
 "nbformat_minor": 5
}
