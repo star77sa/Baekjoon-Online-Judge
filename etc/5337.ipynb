{
 "cells": [
  {
   "cell_type": "markdown",
   "id": "phantom-universal",
   "metadata": {},
   "source": [
    "# 5337 웰컴"
   ]
  },
  {
   "cell_type": "code",
   "execution_count": 2,
   "id": "piano-sucking",
   "metadata": {},
   "outputs": [
    {
     "name": "stdout",
     "output_type": "stream",
     "text": [
      ".  .   .\n",
      "|  | _ | _. _ ._ _  _\n",
      "|/\\|(/.|(_.(_)[ | )(/.\n"
     ]
    }
   ],
   "source": [
    "print('.  .   .')\n",
    "print('|  | _ | _. _ ._ _  _')\n",
    "print('|/\\|(/.|(_.(_)[ | )(/.')"
   ]
  }
 ],
 "metadata": {
  "kernelspec": {
   "display_name": "Python 3",
   "language": "python",
   "name": "python3"
  },
  "language_info": {
   "codemirror_mode": {
    "name": "ipython",
    "version": 3
   },
   "file_extension": ".py",
   "mimetype": "text/x-python",
   "name": "python",
   "nbconvert_exporter": "python",
   "pygments_lexer": "ipython3",
   "version": "3.8.8"
  }
 },
 "nbformat": 4,
 "nbformat_minor": 5
}
