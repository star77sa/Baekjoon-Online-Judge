{
 "cells": [
  {
   "cell_type": "markdown",
   "id": "dutch-emphasis",
   "metadata": {},
   "source": [
    "# 2749 피보나치 수 3"
   ]
  },
  {
   "cell_type": "code",
   "execution_count": null,
   "id": "phantom-parliament",
   "metadata": {},
   "outputs": [
    {
     "name": "stdin",
     "output_type": "stream",
     "text": [
      " 111100000000\n"
     ]
    }
   ],
   "source": [
    "Fib = [0 for i in range(3)]\n",
    "Fib[1] = 1\n",
    "n = int(input())\n",
    "\n",
    "for i in range(2, n+1):\n",
    "    Fib[i%3] = (Fib[(i-1)%3]%1000000 + Fib[(i-2)%3]%1000000)%1000000\n",
    "\n",
    "print(Fib[n%3])"
   ]
  },
  {
   "cell_type": "code",
   "execution_count": null,
   "id": "temporal-hydrogen",
   "metadata": {},
   "outputs": [],
   "source": []
  }
 ],
 "metadata": {
  "kernelspec": {
   "display_name": "Python 3",
   "language": "python",
   "name": "python3"
  },
  "language_info": {
   "codemirror_mode": {
    "name": "ipython",
    "version": 3
   },
   "file_extension": ".py",
   "mimetype": "text/x-python",
   "name": "python",
   "nbconvert_exporter": "python",
   "pygments_lexer": "ipython3",
   "version": "3.8.8"
  }
 },
 "nbformat": 4,
 "nbformat_minor": 5
}
