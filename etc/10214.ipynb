{
 "cells": [
  {
   "cell_type": "markdown",
   "id": "signal-cloud",
   "metadata": {},
   "source": [
    "# 10214 Baseball"
   ]
  },
  {
   "cell_type": "code",
   "execution_count": 1,
   "id": "disciplinary-copper",
   "metadata": {},
   "outputs": [
    {
     "name": "stdin",
     "output_type": "stream",
     "text": [
      " 1\n"
     ]
    }
   ],
   "source": [
    "T = int(input())"
   ]
  },
  {
   "cell_type": "code",
   "execution_count": 4,
   "id": "african-egypt",
   "metadata": {},
   "outputs": [
    {
     "name": "stdin",
     "output_type": "stream",
     "text": [
      " 1 0\n",
      " 0 0\n",
      " 0 0\n",
      " 0 0\n",
      " 0 0\n",
      " 0 0\n",
      " 0 0\n",
      " 0 0\n",
      " 0 0\n"
     ]
    },
    {
     "name": "stdout",
     "output_type": "stream",
     "text": [
      "Yonsei\n"
     ]
    }
   ],
   "source": [
    "for _ in range(T):\n",
    "    A = 0 ; B = 0\n",
    "    for i in range(9):\n",
    "        a, b = map(int, input().split())\n",
    "        A += a ; B += b\n",
    "    \n",
    "    if A > B:\n",
    "        print('Yonsei')\n",
    "    elif A < B:\n",
    "        print('Korea')\n",
    "    else:\n",
    "        print('Draw')"
   ]
  },
  {
   "cell_type": "code",
   "execution_count": null,
   "id": "recreational-plasma",
   "metadata": {},
   "outputs": [],
   "source": []
  }
 ],
 "metadata": {
  "kernelspec": {
   "display_name": "Python 3",
   "language": "python",
   "name": "python3"
  },
  "language_info": {
   "codemirror_mode": {
    "name": "ipython",
    "version": 3
   },
   "file_extension": ".py",
   "mimetype": "text/x-python",
   "name": "python",
   "nbconvert_exporter": "python",
   "pygments_lexer": "ipython3",
   "version": "3.8.8"
  }
 },
 "nbformat": 4,
 "nbformat_minor": 5
}
