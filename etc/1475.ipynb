{
 "cells": [
  {
   "cell_type": "markdown",
   "id": "charitable-seminar",
   "metadata": {},
   "source": [
    "# 1475 방번호"
   ]
  },
  {
   "cell_type": "code",
   "execution_count": 68,
   "id": "normal-halifax",
   "metadata": {},
   "outputs": [
    {
     "name": "stdin",
     "output_type": "stream",
     "text": [
      " 99899\n"
     ]
    },
    {
     "name": "stdout",
     "output_type": "stream",
     "text": [
      "2\n"
     ]
    }
   ],
   "source": [
    "import math\n",
    "\n",
    "N = int(input())\n",
    "\n",
    "data = [0 for i in range(9)] # 0 ~ 8\n",
    "\n",
    "for i in range(len(str(N))):\n",
    "    temp = N%10\n",
    "    if temp == 0:\n",
    "        data[0] += 1\n",
    "    elif temp == 1:\n",
    "        data[1] += 1\n",
    "    elif temp == 2:\n",
    "        data[2] += 1\n",
    "    elif temp == 3:\n",
    "        data[3] += 1\n",
    "    elif temp == 4:\n",
    "        data[4] += 1\n",
    "    elif temp == 5:\n",
    "        data[5] += 1\n",
    "    elif temp == 6 or temp == 9:\n",
    "        data[6] += 1\n",
    "    elif temp == 7:\n",
    "        data[7] += 1\n",
    "    elif temp == 8:\n",
    "        data[8] += 1\n",
    "    \n",
    "    N = N // 10\n",
    "    \n",
    "data[6] = math.ceil(data[6]/2)\n",
    "\n",
    "print(max(data))"
   ]
  }
 ],
 "metadata": {
  "kernelspec": {
   "display_name": "Python 3",
   "language": "python",
   "name": "python3"
  },
  "language_info": {
   "codemirror_mode": {
    "name": "ipython",
    "version": 3
   },
   "file_extension": ".py",
   "mimetype": "text/x-python",
   "name": "python",
   "nbconvert_exporter": "python",
   "pygments_lexer": "ipython3",
   "version": "3.8.8"
  }
 },
 "nbformat": 4,
 "nbformat_minor": 5
}
