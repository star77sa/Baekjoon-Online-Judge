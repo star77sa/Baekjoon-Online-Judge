{
 "cells": [
  {
   "cell_type": "markdown",
   "id": "improved-skiing",
   "metadata": {},
   "source": [
    "# 5635 생일"
   ]
  },
  {
   "cell_type": "code",
   "execution_count": null,
   "id": "hindu-philippines",
   "metadata": {},
   "outputs": [],
   "source": [
    "n = int(input())\n",
    "arr = [0 for i in range (n)]\n",
    "for i in range(n):\n",
    "    arr[i] = list(input().split())\n",
    "    (arr[i][1], arr[i][2], arr[i][3]) = (int(arr[i][1]), int(arr[i][2]), int(arr[i][3]))\n",
    "    \n",
    "arr.sort(key = lambda x : (x[3], x[2], x[1]))\n",
    "\n",
    "print(arr[-1][0])\n",
    "print(arr[0][0])"
   ]
  }
 ],
 "metadata": {
  "kernelspec": {
   "display_name": "Python 3",
   "language": "python",
   "name": "python3"
  },
  "language_info": {
   "codemirror_mode": {
    "name": "ipython",
    "version": 3
   },
   "file_extension": ".py",
   "mimetype": "text/x-python",
   "name": "python",
   "nbconvert_exporter": "python",
   "pygments_lexer": "ipython3",
   "version": "3.8.8"
  }
 },
 "nbformat": 4,
 "nbformat_minor": 5
}
