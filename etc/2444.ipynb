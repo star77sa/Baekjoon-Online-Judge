{
 "cells": [
  {
   "cell_type": "markdown",
   "id": "earned-willow",
   "metadata": {},
   "source": [
    "# 별 찍기 - 7"
   ]
  },
  {
   "cell_type": "code",
   "execution_count": 15,
   "id": "cooked-python",
   "metadata": {},
   "outputs": [
    {
     "name": "stdin",
     "output_type": "stream",
     "text": [
      " 5\n"
     ]
    },
    {
     "name": "stdout",
     "output_type": "stream",
     "text": [
      "    *\n",
      "   ***\n",
      "  *****\n",
      " *******\n",
      "*********\n",
      " *******\n",
      "  *****\n",
      "   ***\n",
      "    *\n"
     ]
    }
   ],
   "source": [
    "N = int(input()) # 5\n",
    "for i in range(1, N):\n",
    "    print(' '*(N-i) + '*' * (2*i-1))\n",
    "    \n",
    "print('*'*(2*N-1))\n",
    "\n",
    "for i in range(1, N):\n",
    "    print(' '*(i) + '*'*(2*N-2*i-1))"
   ]
  },
  {
   "cell_type": "code",
   "execution_count": null,
   "id": "changed-inquiry",
   "metadata": {},
   "outputs": [],
   "source": []
  }
 ],
 "metadata": {
  "kernelspec": {
   "display_name": "Python 3",
   "language": "python",
   "name": "python3"
  },
  "language_info": {
   "codemirror_mode": {
    "name": "ipython",
    "version": 3
   },
   "file_extension": ".py",
   "mimetype": "text/x-python",
   "name": "python",
   "nbconvert_exporter": "python",
   "pygments_lexer": "ipython3",
   "version": "3.8.8"
  }
 },
 "nbformat": 4,
 "nbformat_minor": 5
}
