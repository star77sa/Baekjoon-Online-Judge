{
 "cells": [
  {
   "cell_type": "markdown",
   "id": "sorted-observation",
   "metadata": {},
   "source": [
    "# 2822 점수계산"
   ]
  },
  {
   "cell_type": "markdown",
   "id": "academic-peoples",
   "metadata": {},
   "source": [
    "## 0은 값 1는 원래 순서 2는 5순위 안에 드는지"
   ]
  },
  {
   "cell_type": "code",
   "execution_count": 58,
   "id": "conditional-parcel",
   "metadata": {},
   "outputs": [],
   "source": [
    "A = []\n",
    "for i in range(8):\n",
    "    A.append([int(input()), i, 0])\n",
    "\n",
    "A.sort(key = lambda x:x[0], reverse = True)\n",
    "summ = 0\n",
    "for i in range(5):\n",
    "    A[i][2] = 1\n",
    "    summ += A[i][0]\n",
    "    \n",
    "A.sort(key = lambda x:x[1])\n",
    "\n",
    "print(summ)\n",
    "\n",
    "for i in range(8):\n",
    "    if A[i][2] == 1:\n",
    "        print(i+1, end=' ')"
   ]
  }
 ],
 "metadata": {
  "kernelspec": {
   "display_name": "Python 3",
   "language": "python",
   "name": "python3"
  },
  "language_info": {
   "codemirror_mode": {
    "name": "ipython",
    "version": 3
   },
   "file_extension": ".py",
   "mimetype": "text/x-python",
   "name": "python",
   "nbconvert_exporter": "python",
   "pygments_lexer": "ipython3",
   "version": "3.8.8"
  }
 },
 "nbformat": 4,
 "nbformat_minor": 5
}
