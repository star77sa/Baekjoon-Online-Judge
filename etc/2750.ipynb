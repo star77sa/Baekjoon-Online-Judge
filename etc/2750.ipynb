{
 "cells": [
  {
   "cell_type": "markdown",
   "id": "short-mileage",
   "metadata": {},
   "source": [
    "# 2750"
   ]
  },
  {
   "cell_type": "code",
   "execution_count": 4,
   "id": "unique-musical",
   "metadata": {},
   "outputs": [
    {
     "name": "stdin",
     "output_type": "stream",
     "text": [
      " 5\n"
     ]
    }
   ],
   "source": [
    "N = int(input())"
   ]
  },
  {
   "cell_type": "code",
   "execution_count": 5,
   "id": "cellular-senegal",
   "metadata": {},
   "outputs": [
    {
     "name": "stdin",
     "output_type": "stream",
     "text": [
      " 5\n",
      " 2\n",
      " 3\n",
      " 4\n",
      " 1\n"
     ]
    },
    {
     "name": "stdout",
     "output_type": "stream",
     "text": [
      "1\n",
      "2\n",
      "3\n",
      "4\n",
      "5\n"
     ]
    }
   ],
   "source": [
    "A = []\n",
    "for i in range(N):\n",
    "    A.append(int(input()))\n",
    "A.sort()\n",
    "for i in range(N):\n",
    "    print(A[i])"
   ]
  },
  {
   "cell_type": "markdown",
   "id": "spare-resolution",
   "metadata": {},
   "source": [
    "## 참고한 ver"
   ]
  },
  {
   "cell_type": "code",
   "execution_count": 9,
   "id": "powerful-function",
   "metadata": {},
   "outputs": [
    {
     "name": "stdin",
     "output_type": "stream",
     "text": [
      " 5\n",
      " 2\n",
      " 3\n",
      " 4\n",
      " 1\n"
     ]
    },
    {
     "name": "stdout",
     "output_type": "stream",
     "text": [
      "1\n",
      "2\n",
      "3\n",
      "4\n",
      "5\n"
     ]
    }
   ],
   "source": [
    "A = []\n",
    "for i in range(N):\n",
    "    A.append(int(input()))\n",
    "A.sort()\n",
    "print('\\n'.join(map(str,A)))"
   ]
  }
 ],
 "metadata": {
  "kernelspec": {
   "display_name": "Python 3",
   "language": "python",
   "name": "python3"
  },
  "language_info": {
   "codemirror_mode": {
    "name": "ipython",
    "version": 3
   },
   "file_extension": ".py",
   "mimetype": "text/x-python",
   "name": "python",
   "nbconvert_exporter": "python",
   "pygments_lexer": "ipython3",
   "version": "3.8.8"
  }
 },
 "nbformat": 4,
 "nbformat_minor": 5
}
