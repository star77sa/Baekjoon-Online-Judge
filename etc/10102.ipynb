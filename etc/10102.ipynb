{
 "cells": [
  {
   "cell_type": "markdown",
   "id": "irish-function",
   "metadata": {},
   "source": [
    "# 10102 개표"
   ]
  },
  {
   "cell_type": "code",
   "execution_count": 2,
   "id": "curious-gibson",
   "metadata": {},
   "outputs": [
    {
     "name": "stdin",
     "output_type": "stream",
     "text": [
      " 6\n",
      " ABBABB\n"
     ]
    },
    {
     "name": "stdout",
     "output_type": "stream",
     "text": [
      "B\n"
     ]
    }
   ],
   "source": [
    "V = int(input())\n",
    "string = input()\n",
    "score = [0,0]\n",
    "for i in range(V):\n",
    "    if string[i] == 'A':\n",
    "        score[0] += 1\n",
    "    else:\n",
    "        score[1] += 1\n",
    "        \n",
    "if score[0] > score[1]:\n",
    "    print('A')\n",
    "elif score[0] < score[1]:\n",
    "    print('B')\n",
    "else:\n",
    "    print('Tie')"
   ]
  },
  {
   "cell_type": "code",
   "execution_count": null,
   "id": "solved-penguin",
   "metadata": {},
   "outputs": [],
   "source": []
  }
 ],
 "metadata": {
  "kernelspec": {
   "display_name": "Python 3",
   "language": "python",
   "name": "python3"
  },
  "language_info": {
   "codemirror_mode": {
    "name": "ipython",
    "version": 3
   },
   "file_extension": ".py",
   "mimetype": "text/x-python",
   "name": "python",
   "nbconvert_exporter": "python",
   "pygments_lexer": "ipython3",
   "version": "3.8.8"
  }
 },
 "nbformat": 4,
 "nbformat_minor": 5
}
