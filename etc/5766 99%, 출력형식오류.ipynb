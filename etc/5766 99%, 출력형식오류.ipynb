{
 "cells": [
  {
   "cell_type": "markdown",
   "id": "functioning-frost",
   "metadata": {},
   "source": [
    "# 5766 할아버지는 유명해!"
   ]
  },
  {
   "cell_type": "markdown",
   "id": "korean-jesus",
   "metadata": {},
   "source": [
    "끝까지 가서 출력형식 오류라고뜬다 ㅠㅠ"
   ]
  },
  {
   "cell_type": "code",
   "execution_count": 65,
   "id": "palestinian-context",
   "metadata": {},
   "outputs": [
    {
     "name": "stdin",
     "output_type": "stream",
     "text": [
      " 2 2\n",
      " 1 2\n",
      " 1 2\n"
     ]
    },
    {
     "name": "stdout",
     "output_type": "stream",
     "text": [
      "2 "
     ]
    },
    {
     "name": "stdin",
     "output_type": "stream",
     "text": [
      " 0 0\n"
     ]
    }
   ],
   "source": [
    "N, M = map(int, input().split())\n",
    "\n",
    "while (N, M) != (0,0):\n",
    "    arr = [[0,0] for i in range(10000)]\n",
    "    for _ in range(N):\n",
    "        A = list(map(int, input().split()))\n",
    "        for i in range(M):\n",
    "            arr[A[i]-1][0] = A[i]\n",
    "            arr[A[i]-1][1] += 1\n",
    "    arr.sort(key = lambda x:(-x[1]))\n",
    "    if arr[1][1] != arr[2][1]:\n",
    "        print(arr[1][0], end=' ')\n",
    "    else:\n",
    "        i=1\n",
    "        print(arr[1][0], end=' ')\n",
    "        while arr[i][1] == arr[i+1][1]:\n",
    "            print(arr[i+1][0], end=' ')\n",
    "            i = i+1\n",
    "    N, M = map(int, input().split())"
   ]
  },
  {
   "cell_type": "code",
   "execution_count": 62,
   "id": "virtual-hazard",
   "metadata": {},
   "outputs": [
    {
     "name": "stdin",
     "output_type": "stream",
     "text": [
      " 4 5\n",
      " 20 33 25 32 99\n",
      " 32 86 99 25 10\n",
      " 20 99 10 33 86\n",
      " 19 33 74 99 32\n"
     ]
    },
    {
     "name": "stdout",
     "output_type": "stream",
     "text": [
      "32 33"
     ]
    },
    {
     "name": "stdin",
     "output_type": "stream",
     "text": [
      " 3 6\n",
      " 2 34 67 36 79 93\n",
      " 100 38 21 76 91 85\n",
      " 32 23 85 31 88 1\n"
     ]
    },
    {
     "name": "stdout",
     "output_type": "stream",
     "text": [
      "1 2 21 23 31 32 34 36 38 67 76 79 88 91 93 100"
     ]
    },
    {
     "name": "stdin",
     "output_type": "stream",
     "text": [
      " 0 0\n"
     ]
    }
   ],
   "source": [
    "N, M = map(int, input().split())\n",
    "\n",
    "while (N, M) != (0,0):\n",
    "    arr = [[0,0] for i in range(10000)]\n",
    "    for _ in range(N):\n",
    "        A = list(map(int, input().split()))\n",
    "        for i in range(M):\n",
    "            arr[A[i]-1][0] = A[i]\n",
    "            arr[A[i]-1][1] += 1\n",
    "    arr.sort(key = lambda x:(-x[1]))\n",
    "    if arr[1][1] != arr[2][1]:\n",
    "        print(arr[1][0])\n",
    "    else:\n",
    "        i=1\n",
    "        print(arr[1][0], end='')\n",
    "        while arr[i][1] == arr[i+1][1]:\n",
    "            print(' ', end='')\n",
    "            print((arr[i+1][0]), end='')\n",
    "            i = i+1\n",
    "    N, M = map(int, input().split())"
   ]
  },
  {
   "cell_type": "code",
   "execution_count": null,
   "id": "external-longitude",
   "metadata": {},
   "outputs": [],
   "source": []
  }
 ],
 "metadata": {
  "kernelspec": {
   "display_name": "Python 3",
   "language": "python",
   "name": "python3"
  },
  "language_info": {
   "codemirror_mode": {
    "name": "ipython",
    "version": 3
   },
   "file_extension": ".py",
   "mimetype": "text/x-python",
   "name": "python",
   "nbconvert_exporter": "python",
   "pygments_lexer": "ipython3",
   "version": "3.8.8"
  }
 },
 "nbformat": 4,
 "nbformat_minor": 5
}
