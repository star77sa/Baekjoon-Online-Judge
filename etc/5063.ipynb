{
 "cells": [
  {
   "cell_type": "markdown",
   "id": "sixth-retailer",
   "metadata": {},
   "source": [
    "# 5063 TGN"
   ]
  },
  {
   "cell_type": "code",
   "execution_count": 1,
   "id": "functioning-phone",
   "metadata": {},
   "outputs": [
    {
     "name": "stdin",
     "output_type": "stream",
     "text": [
      " 3\n"
     ]
    }
   ],
   "source": [
    "N = int(input())"
   ]
  },
  {
   "cell_type": "code",
   "execution_count": 4,
   "id": "colored-webmaster",
   "metadata": {},
   "outputs": [
    {
     "name": "stdin",
     "output_type": "stream",
     "text": [
      " 0 100 70\n"
     ]
    },
    {
     "name": "stdout",
     "output_type": "stream",
     "text": [
      "advertise\n"
     ]
    },
    {
     "name": "stdin",
     "output_type": "stream",
     "text": [
      " 100 130 30\n"
     ]
    },
    {
     "name": "stdout",
     "output_type": "stream",
     "text": [
      "does not matter\n"
     ]
    },
    {
     "name": "stdin",
     "output_type": "stream",
     "text": [
      " -100 -70 40\n"
     ]
    },
    {
     "name": "stdout",
     "output_type": "stream",
     "text": [
      "do not advertise\n"
     ]
    }
   ],
   "source": [
    "for i in range(N):\n",
    "    \n",
    "    r, e, c = map(int, input().split())\n",
    "    if r > e-c:\n",
    "        print(\"do not advertise\")\n",
    "    elif r < e-c:\n",
    "        print(\"advertise\")\n",
    "    else:\n",
    "        print(\"does not matter\")"
   ]
  }
 ],
 "metadata": {
  "kernelspec": {
   "display_name": "Python 3",
   "language": "python",
   "name": "python3"
  },
  "language_info": {
   "codemirror_mode": {
    "name": "ipython",
    "version": 3
   },
   "file_extension": ".py",
   "mimetype": "text/x-python",
   "name": "python",
   "nbconvert_exporter": "python",
   "pygments_lexer": "ipython3",
   "version": "3.8.8"
  }
 },
 "nbformat": 4,
 "nbformat_minor": 5
}
