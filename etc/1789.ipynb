{
 "cells": [
  {
   "cell_type": "markdown",
   "id": "guided-official",
   "metadata": {},
   "source": [
    "# 1789 수들의 합"
   ]
  },
  {
   "cell_type": "code",
   "execution_count": 30,
   "id": "opposite-structure",
   "metadata": {},
   "outputs": [
    {
     "name": "stdin",
     "output_type": "stream",
     "text": [
      " 7\n"
     ]
    }
   ],
   "source": [
    "count = 0\n",
    "i = 1\n",
    "S = int(input())"
   ]
  },
  {
   "cell_type": "code",
   "execution_count": 31,
   "id": "vietnamese-crest",
   "metadata": {},
   "outputs": [
    {
     "name": "stdout",
     "output_type": "stream",
     "text": [
      "3\n"
     ]
    }
   ],
   "source": [
    "\n",
    "while S >= i:\n",
    "    S -= i\n",
    "    \n",
    "    #print(i)\n",
    "    count += 1\n",
    "    i += 1\n",
    "    \n",
    "print(count)"
   ]
  }
 ],
 "metadata": {
  "kernelspec": {
   "display_name": "Python 3",
   "language": "python",
   "name": "python3"
  },
  "language_info": {
   "codemirror_mode": {
    "name": "ipython",
    "version": 3
   },
   "file_extension": ".py",
   "mimetype": "text/x-python",
   "name": "python",
   "nbconvert_exporter": "python",
   "pygments_lexer": "ipython3",
   "version": "3.8.8"
  }
 },
 "nbformat": 4,
 "nbformat_minor": 5
}
