{
 "cells": [
  {
   "cell_type": "markdown",
   "id": "norwegian-karma",
   "metadata": {},
   "source": [
    "# 2445 별 찍기 - 8"
   ]
  },
  {
   "cell_type": "code",
   "execution_count": 5,
   "id": "unsigned-saskatchewan",
   "metadata": {},
   "outputs": [
    {
     "name": "stdin",
     "output_type": "stream",
     "text": [
      " 5\n"
     ]
    },
    {
     "name": "stdout",
     "output_type": "stream",
     "text": [
      "*        *\n",
      "**      **\n",
      "***    ***\n",
      "****  ****\n",
      "**********\n",
      "****  ****\n",
      "***    ***\n",
      "**      **\n",
      "*        *\n"
     ]
    }
   ],
   "source": [
    "N = int(input()) # 5\n",
    "for i in range(1, N):\n",
    "    print('*'*i + ' '*(N-i)*2+ '*'*i)\n",
    "    \n",
    "print('*'*(2*N))\n",
    "\n",
    "for i in range(1, N):\n",
    "    print('*'*(N-i) + ' '*(i)*2+ '*'*(N-i))"
   ]
  }
 ],
 "metadata": {
  "kernelspec": {
   "display_name": "Python 3",
   "language": "python",
   "name": "python3"
  },
  "language_info": {
   "codemirror_mode": {
    "name": "ipython",
    "version": 3
   },
   "file_extension": ".py",
   "mimetype": "text/x-python",
   "name": "python",
   "nbconvert_exporter": "python",
   "pygments_lexer": "ipython3",
   "version": "3.8.8"
  }
 },
 "nbformat": 4,
 "nbformat_minor": 5
}
